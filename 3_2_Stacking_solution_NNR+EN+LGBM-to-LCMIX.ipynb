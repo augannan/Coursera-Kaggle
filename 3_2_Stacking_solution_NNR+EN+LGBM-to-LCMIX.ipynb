{
 "cells": [
  {
   "cell_type": "markdown",
   "metadata": {},
   "source": [
    "# FINAL PROJECT: FINAL STACKING SOLUTION LGBM+EN>>LR"
   ]
  },
  {
   "cell_type": "markdown",
   "metadata": {},
   "source": [
    "You can find all the data in `../readonly/final_project_data` folder or download it from [Kaggle](https://inclass.kaggle.com/c/competitive-data-science-final-project) if you are solving locally. \n",
    "\n",
    "**Good luck!**"
   ]
  },
  {
   "cell_type": "markdown",
   "metadata": {},
   "source": [
    "# Competition description\n",
    "\n",
    "This challenge serves as final project for the _\"How to win a data science competition\"_ Coursera course.\n",
    "\n",
    "In this competition you will work with a challenging time-series dataset consisting of daily sales data, kindly provided by one of the largest Russian software firms - __1C Company__.\n",
    "\n",
    "We are asking you to __predict total sales for every product and store in the next month__. By solving this competition you will be able to apply and enhance your data science skills.\n",
    "\n",
    "### Submission File\n",
    "\n",
    "For each id in the test set, you must predict a total number of sales. The file should contain a header and have the following format:\n",
    "\n",
    "`ID,item_cnt_month\n",
    "0,0.5\n",
    "1,0.5\n",
    "2,0.5\n",
    "3,0.5\n",
    "etc.`\n",
    "\n",
    "### Team Limits\n",
    "\n",
    "Three individuals.\n",
    "\n",
    "### Submission Limits\n",
    "\n",
    "You may submit a maximum of 5 entries per day (10 for Coursera).\n",
    "\n",
    "### Metric\n",
    "\n",
    "Submissions are evaluated by root mean squared error (__RMSE__). True target values are clipped into [0,20] range."
   ]
  },
  {
   "cell_type": "code",
   "execution_count": 1,
   "metadata": {},
   "outputs": [],
   "source": [
    "target_range = [0, 20]"
   ]
  },
  {
   "cell_type": "markdown",
   "metadata": {},
   "source": [
    "### Leaderboard\n",
    "By now lowest RMSE in PL is: `0.79215`\n",
    "with `210` submissions"
   ]
  },
  {
   "cell_type": "markdown",
   "metadata": {},
   "source": [
    "# Imports"
   ]
  },
  {
   "cell_type": "code",
   "execution_count": 2,
   "metadata": {},
   "outputs": [],
   "source": [
    "from IPython.core.interactiveshell import InteractiveShell\n",
    "InteractiveShell.ast_node_interactivity = \"all\"\n",
    "\n",
    "from IPython.display import display, HTML\n",
    "\n",
    "import os, gc, math\n",
    "\n",
    "import pandas as pd\n",
    "import numpy as np\n",
    "import pickle\n",
    "\n",
    "import matplotlib.pyplot as plt\n",
    "%matplotlib inline \n",
    "\n",
    "from itertools import product\n",
    "\n",
    "import lightgbm as lgb\n",
    "from sklearn import feature_extraction\n",
    "from sklearn.linear_model import LinearRegression\n",
    "from sklearn.metrics import r2_score, mean_squared_error\n",
    "import scipy.sparse \n",
    "\n",
    "from tqdm import tqdm, tqdm_notebook\n",
    "tqdm.monitor_interval = 0\n",
    "\n",
    "import data\n",
    "from data import index_cols, index_cols_shop, future_index_cols\n",
    "import features\n",
    "import tools\n",
    "import models\n",
    "from models import rmse_score\n",
    "\n",
    "%load_ext autoreload\n",
    "%autoreload 2"
   ]
  },
  {
   "cell_type": "code",
   "execution_count": 3,
   "metadata": {},
   "outputs": [
    {
     "name": "stdout",
     "output_type": "stream",
     "text": [
      "numpy 1.17.0\n",
      "pandas 0.25.0\n",
      "sklearn 0.21.3\n",
      "scipy 1.3.0\n"
     ]
    }
   ],
   "source": [
    "import sklearn\n",
    "for p in [np, pd, sklearn, scipy]:\n",
    "    print (p.__name__, p.__version__)"
   ]
  },
  {
   "cell_type": "markdown",
   "metadata": {},
   "source": [
    "# LOAD FEATURES\n",
    "Preprocessed, from disk."
   ]
  },
  {
   "cell_type": "code",
   "execution_count": 4,
   "metadata": {},
   "outputs": [
    {
     "name": "stdout",
     "output_type": "stream",
     "text": [
      "\n",
      "ALL_DATA (6639294, 44)\n",
      "shop_id                       int32\n",
      "item_id                       int32\n",
      "date_block_num                int32\n",
      "target                      float32\n",
      "revenue                     float32\n",
      "target_shop                 float32\n",
      "revenue_per_shop            float32\n",
      "target_item                 float32\n",
      "revenue_per_item            float32\n",
      "item_category_id              int32\n",
      "target_category             float32\n",
      "revenue_per_category        float32\n",
      "target_item_price           float32\n",
      "item_category_id_enc        float32\n",
      "target_lag_1                float32\n",
      "target_lag_2                float32\n",
      "target_lag_3                float32\n",
      "target_lag_4                float32\n",
      "target_lag_5                float32\n",
      "target_lag_12               float32\n",
      "target_shop_lag_1           float32\n",
      "target_shop_lag_2           float32\n",
      "target_shop_lag_3           float32\n",
      "target_shop_lag_4           float32\n",
      "target_shop_lag_5           float32\n",
      "target_shop_lag_12          float32\n",
      "target_item_lag_1           float32\n",
      "target_item_lag_2           float32\n",
      "target_item_lag_3           float32\n",
      "target_item_lag_4           float32\n",
      "target_item_lag_5           float32\n",
      "target_item_lag_12          float32\n",
      "target_category_lag_1       float32\n",
      "target_category_lag_2       float32\n",
      "target_category_lag_3       float32\n",
      "target_category_lag_4       float32\n",
      "target_category_lag_5       float32\n",
      "target_category_lag_12      float32\n",
      "target_item_price_lag_1     float32\n",
      "target_item_price_lag_2     float32\n",
      "target_item_price_lag_3     float32\n",
      "target_item_price_lag_4     float32\n",
      "target_item_price_lag_5     float32\n",
      "target_item_price_lag_12    float32\n",
      "dtype: object\n"
     ]
    },
    {
     "data": {
      "text/html": [
       "<div>\n",
       "<style scoped>\n",
       "    .dataframe tbody tr th:only-of-type {\n",
       "        vertical-align: middle;\n",
       "    }\n",
       "\n",
       "    .dataframe tbody tr th {\n",
       "        vertical-align: top;\n",
       "    }\n",
       "\n",
       "    .dataframe thead th {\n",
       "        text-align: right;\n",
       "    }\n",
       "</style>\n",
       "<table border=\"1\" class=\"dataframe\">\n",
       "  <thead>\n",
       "    <tr style=\"text-align: right;\">\n",
       "      <th></th>\n",
       "      <th>shop_id</th>\n",
       "      <th>item_id</th>\n",
       "      <th>date_block_num</th>\n",
       "      <th>target</th>\n",
       "      <th>revenue</th>\n",
       "      <th>target_shop</th>\n",
       "      <th>revenue_per_shop</th>\n",
       "      <th>target_item</th>\n",
       "      <th>revenue_per_item</th>\n",
       "      <th>item_category_id</th>\n",
       "      <th>...</th>\n",
       "      <th>target_category_lag_3</th>\n",
       "      <th>target_category_lag_4</th>\n",
       "      <th>target_category_lag_5</th>\n",
       "      <th>target_category_lag_12</th>\n",
       "      <th>target_item_price_lag_1</th>\n",
       "      <th>target_item_price_lag_2</th>\n",
       "      <th>target_item_price_lag_3</th>\n",
       "      <th>target_item_price_lag_4</th>\n",
       "      <th>target_item_price_lag_5</th>\n",
       "      <th>target_item_price_lag_12</th>\n",
       "    </tr>\n",
       "  </thead>\n",
       "  <tbody>\n",
       "    <tr>\n",
       "      <th>4488756</th>\n",
       "      <td>2</td>\n",
       "      <td>27</td>\n",
       "      <td>12</td>\n",
       "      <td>0.0</td>\n",
       "      <td>0.0</td>\n",
       "      <td>890.0</td>\n",
       "      <td>1032722.0</td>\n",
       "      <td>1.0</td>\n",
       "      <td>998.0</td>\n",
       "      <td>19</td>\n",
       "      <td>...</td>\n",
       "      <td>14113.0</td>\n",
       "      <td>18932.0</td>\n",
       "      <td>10488.0</td>\n",
       "      <td>8983.0</td>\n",
       "      <td>1048.000000</td>\n",
       "      <td>1198.000000</td>\n",
       "      <td>942.266663</td>\n",
       "      <td>1198.0</td>\n",
       "      <td>1198.000000</td>\n",
       "      <td>2325.0</td>\n",
       "    </tr>\n",
       "    <tr>\n",
       "      <th>4488757</th>\n",
       "      <td>2</td>\n",
       "      <td>30</td>\n",
       "      <td>12</td>\n",
       "      <td>0.0</td>\n",
       "      <td>0.0</td>\n",
       "      <td>890.0</td>\n",
       "      <td>1032722.0</td>\n",
       "      <td>58.0</td>\n",
       "      <td>9802.0</td>\n",
       "      <td>40</td>\n",
       "      <td>...</td>\n",
       "      <td>24173.0</td>\n",
       "      <td>23348.0</td>\n",
       "      <td>24130.0</td>\n",
       "      <td>0.0</td>\n",
       "      <td>167.330856</td>\n",
       "      <td>165.217392</td>\n",
       "      <td>205.524994</td>\n",
       "      <td>399.0</td>\n",
       "      <td>384.894745</td>\n",
       "      <td>0.0</td>\n",
       "    </tr>\n",
       "    <tr>\n",
       "      <th>4488758</th>\n",
       "      <td>2</td>\n",
       "      <td>31</td>\n",
       "      <td>12</td>\n",
       "      <td>0.0</td>\n",
       "      <td>0.0</td>\n",
       "      <td>890.0</td>\n",
       "      <td>1032722.0</td>\n",
       "      <td>15.0</td>\n",
       "      <td>7485.0</td>\n",
       "      <td>37</td>\n",
       "      <td>...</td>\n",
       "      <td>6950.0</td>\n",
       "      <td>7659.0</td>\n",
       "      <td>8680.0</td>\n",
       "      <td>0.0</td>\n",
       "      <td>499.000000</td>\n",
       "      <td>488.377777</td>\n",
       "      <td>543.528015</td>\n",
       "      <td>699.0</td>\n",
       "      <td>688.400024</td>\n",
       "      <td>0.0</td>\n",
       "    </tr>\n",
       "  </tbody>\n",
       "</table>\n",
       "<p>3 rows × 44 columns</p>\n",
       "</div>"
      ],
      "text/plain": [
       "         shop_id  item_id  date_block_num  target  revenue  target_shop  \\\n",
       "4488756        2       27              12     0.0      0.0        890.0   \n",
       "4488757        2       30              12     0.0      0.0        890.0   \n",
       "4488758        2       31              12     0.0      0.0        890.0   \n",
       "\n",
       "         revenue_per_shop  target_item  revenue_per_item  item_category_id  \\\n",
       "4488756         1032722.0          1.0             998.0                19   \n",
       "4488757         1032722.0         58.0            9802.0                40   \n",
       "4488758         1032722.0         15.0            7485.0                37   \n",
       "\n",
       "         ...  target_category_lag_3  target_category_lag_4  \\\n",
       "4488756  ...                14113.0                18932.0   \n",
       "4488757  ...                24173.0                23348.0   \n",
       "4488758  ...                 6950.0                 7659.0   \n",
       "\n",
       "         target_category_lag_5  target_category_lag_12  \\\n",
       "4488756                10488.0                  8983.0   \n",
       "4488757                24130.0                     0.0   \n",
       "4488758                 8680.0                     0.0   \n",
       "\n",
       "         target_item_price_lag_1  target_item_price_lag_2  \\\n",
       "4488756              1048.000000              1198.000000   \n",
       "4488757               167.330856               165.217392   \n",
       "4488758               499.000000               488.377777   \n",
       "\n",
       "         target_item_price_lag_3  target_item_price_lag_4  \\\n",
       "4488756               942.266663                   1198.0   \n",
       "4488757               205.524994                    399.0   \n",
       "4488758               543.528015                    699.0   \n",
       "\n",
       "         target_item_price_lag_5  target_item_price_lag_12  \n",
       "4488756              1198.000000                    2325.0  \n",
       "4488757               384.894745                       0.0  \n",
       "4488758               688.400024                       0.0  \n",
       "\n",
       "[3 rows x 44 columns]"
      ]
     },
     "metadata": {},
     "output_type": "display_data"
    },
    {
     "data": {
      "text/html": [
       "<div>\n",
       "<style scoped>\n",
       "    .dataframe tbody tr th:only-of-type {\n",
       "        vertical-align: middle;\n",
       "    }\n",
       "\n",
       "    .dataframe tbody tr th {\n",
       "        vertical-align: top;\n",
       "    }\n",
       "\n",
       "    .dataframe thead th {\n",
       "        text-align: right;\n",
       "    }\n",
       "</style>\n",
       "<table border=\"1\" class=\"dataframe\">\n",
       "  <thead>\n",
       "    <tr style=\"text-align: right;\">\n",
       "      <th></th>\n",
       "      <th>shop_id</th>\n",
       "      <th>item_id</th>\n",
       "      <th>date_block_num</th>\n",
       "      <th>target</th>\n",
       "      <th>revenue</th>\n",
       "      <th>target_shop</th>\n",
       "      <th>revenue_per_shop</th>\n",
       "      <th>target_item</th>\n",
       "      <th>revenue_per_item</th>\n",
       "      <th>item_category_id</th>\n",
       "      <th>...</th>\n",
       "      <th>target_category_lag_3</th>\n",
       "      <th>target_category_lag_4</th>\n",
       "      <th>target_category_lag_5</th>\n",
       "      <th>target_category_lag_12</th>\n",
       "      <th>target_item_price_lag_1</th>\n",
       "      <th>target_item_price_lag_2</th>\n",
       "      <th>target_item_price_lag_3</th>\n",
       "      <th>target_item_price_lag_4</th>\n",
       "      <th>target_item_price_lag_5</th>\n",
       "      <th>target_item_price_lag_12</th>\n",
       "    </tr>\n",
       "  </thead>\n",
       "  <tbody>\n",
       "    <tr>\n",
       "      <th>11128047</th>\n",
       "      <td>59</td>\n",
       "      <td>22164</td>\n",
       "      <td>34</td>\n",
       "      <td>0.0</td>\n",
       "      <td>0.0</td>\n",
       "      <td>0.0</td>\n",
       "      <td>0.0</td>\n",
       "      <td>0.0</td>\n",
       "      <td>0.0</td>\n",
       "      <td>37</td>\n",
       "      <td>...</td>\n",
       "      <td>3426.0</td>\n",
       "      <td>3291.0</td>\n",
       "      <td>3756.0</td>\n",
       "      <td>0.0</td>\n",
       "      <td>549.000000</td>\n",
       "      <td>549.0</td>\n",
       "      <td>631.5</td>\n",
       "      <td>699.0</td>\n",
       "      <td>699.000000</td>\n",
       "      <td>0.0</td>\n",
       "    </tr>\n",
       "    <tr>\n",
       "      <th>11128048</th>\n",
       "      <td>59</td>\n",
       "      <td>22166</td>\n",
       "      <td>34</td>\n",
       "      <td>0.0</td>\n",
       "      <td>0.0</td>\n",
       "      <td>0.0</td>\n",
       "      <td>0.0</td>\n",
       "      <td>0.0</td>\n",
       "      <td>0.0</td>\n",
       "      <td>54</td>\n",
       "      <td>...</td>\n",
       "      <td>264.0</td>\n",
       "      <td>276.0</td>\n",
       "      <td>292.0</td>\n",
       "      <td>305.0</td>\n",
       "      <td>150.000000</td>\n",
       "      <td>150.0</td>\n",
       "      <td>150.0</td>\n",
       "      <td>150.0</td>\n",
       "      <td>150.000000</td>\n",
       "      <td>150.0</td>\n",
       "    </tr>\n",
       "    <tr>\n",
       "      <th>11128049</th>\n",
       "      <td>59</td>\n",
       "      <td>22167</td>\n",
       "      <td>34</td>\n",
       "      <td>0.0</td>\n",
       "      <td>0.0</td>\n",
       "      <td>0.0</td>\n",
       "      <td>0.0</td>\n",
       "      <td>0.0</td>\n",
       "      <td>0.0</td>\n",
       "      <td>49</td>\n",
       "      <td>...</td>\n",
       "      <td>571.0</td>\n",
       "      <td>669.0</td>\n",
       "      <td>699.0</td>\n",
       "      <td>760.0</td>\n",
       "      <td>293.895935</td>\n",
       "      <td>299.0</td>\n",
       "      <td>299.0</td>\n",
       "      <td>299.0</td>\n",
       "      <td>294.636353</td>\n",
       "      <td>299.0</td>\n",
       "    </tr>\n",
       "  </tbody>\n",
       "</table>\n",
       "<p>3 rows × 44 columns</p>\n",
       "</div>"
      ],
      "text/plain": [
       "          shop_id  item_id  date_block_num  target  revenue  target_shop  \\\n",
       "11128047       59    22164              34     0.0      0.0          0.0   \n",
       "11128048       59    22166              34     0.0      0.0          0.0   \n",
       "11128049       59    22167              34     0.0      0.0          0.0   \n",
       "\n",
       "          revenue_per_shop  target_item  revenue_per_item  item_category_id  \\\n",
       "11128047               0.0          0.0               0.0                37   \n",
       "11128048               0.0          0.0               0.0                54   \n",
       "11128049               0.0          0.0               0.0                49   \n",
       "\n",
       "          ...  target_category_lag_3  target_category_lag_4  \\\n",
       "11128047  ...                 3426.0                 3291.0   \n",
       "11128048  ...                  264.0                  276.0   \n",
       "11128049  ...                  571.0                  669.0   \n",
       "\n",
       "          target_category_lag_5  target_category_lag_12  \\\n",
       "11128047                 3756.0                     0.0   \n",
       "11128048                  292.0                   305.0   \n",
       "11128049                  699.0                   760.0   \n",
       "\n",
       "          target_item_price_lag_1  target_item_price_lag_2  \\\n",
       "11128047               549.000000                    549.0   \n",
       "11128048               150.000000                    150.0   \n",
       "11128049               293.895935                    299.0   \n",
       "\n",
       "          target_item_price_lag_3  target_item_price_lag_4  \\\n",
       "11128047                    631.5                    699.0   \n",
       "11128048                    150.0                    150.0   \n",
       "11128049                    299.0                    299.0   \n",
       "\n",
       "          target_item_price_lag_5  target_item_price_lag_12  \n",
       "11128047               699.000000                       0.0  \n",
       "11128048               150.000000                     150.0  \n",
       "11128049               294.636353                     299.0  \n",
       "\n",
       "[3 rows x 44 columns]"
      ]
     },
     "metadata": {},
     "output_type": "display_data"
    }
   ],
   "source": [
    "all_data = features.load_features()\n",
    "\n",
    "# Check\n",
    "data.inspect_dataframe('ALL_DATA', all_data)"
   ]
  },
  {
   "cell_type": "markdown",
   "metadata": {},
   "source": [
    "# Data split\n",
    "\n",
    "The dataset has a timeline, get last month of train as validation data.\n",
    "\n",
    "And the month=34 is the X_test for final submission."
   ]
  },
  {
   "cell_type": "code",
   "execution_count": 5,
   "metadata": {},
   "outputs": [
    {
     "name": "stdout",
     "output_type": "stream",
     "text": [
      "Test data is where date_block_num=34\n",
      "Validation data is where date_block_num=33\n",
      "\n",
      "fit_cols: ['item_category_id', 'item_category_id_enc', 'target_lag_1', 'target_lag_2', 'target_lag_3', 'target_lag_4', 'target_lag_5', 'target_lag_12', 'target_shop_lag_1', 'target_shop_lag_2', 'target_shop_lag_3', 'target_shop_lag_4', 'target_shop_lag_5', 'target_shop_lag_12', 'target_item_lag_1', 'target_item_lag_2', 'target_item_lag_3', 'target_item_lag_4', 'target_item_lag_5', 'target_item_lag_12', 'target_category_lag_1', 'target_category_lag_2', 'target_category_lag_3', 'target_category_lag_4', 'target_category_lag_5', 'target_category_lag_12', 'target_item_price_lag_1', 'target_item_price_lag_2', 'target_item_price_lag_3', 'target_item_price_lag_4', 'target_item_price_lag_5', 'target_item_price_lag_12'] 32 \n",
      "\n",
      "train validation test total\n",
      "6186922 238172 214200 6639294\n",
      "6186922 238172 214200 6639294\n"
     ]
    }
   ],
   "source": [
    "X_train, y_train, dates_train, X_val, y_val, dates_val, X_test, y_test, dates_test = data.split_and_dates(all_data)"
   ]
  },
  {
   "cell_type": "markdown",
   "metadata": {},
   "source": [
    "# MODEL\n",
    "The stacking is the selected approach, combine three 1-st level models (NN, EN and LGB) with a 2-nd level simple model (LinearRegressor)"
   ]
  },
  {
   "cell_type": "markdown",
   "metadata": {
    "collapsed": true
   },
   "source": [
    "## 1. Fit first level models\n",
    "\n",
    "The features will be created using the lectures f) KFold scheme in ime series, with T=1_month and M=Total_months-6.\n",
    "\n",
    "Split the train data into chunks of duration T. Select first M chunks.\n",
    "Fit N diverse models on those M chunks and predict for the chunk M+1. Then fit those models on first M+1 chunks and predict for chunk M+2 and so on, until you hit the end. \n",
    "\n",
    "After that use all train data to fit models and get predictions for test. Now we will have meta-features for the chunks starting from number M+1 as well as meta-features for the test.\n",
    "\n",
    "Now we can use meta-features from first K chunks [M+1,M+2,..,M+K] to fit level 2 models and validate them on chunk M+K+1. Essentially we are back to step 1. with the lesser amount of chunks and meta-features instead of features."
   ]
  },
  {
   "cell_type": "markdown",
   "metadata": {},
   "source": [
    "### 1.1 Train meta features\n",
    "The six last months are the chunks for folding."
   ]
  },
  {
   "cell_type": "code",
   "execution_count": 6,
   "metadata": {},
   "outputs": [],
   "source": [
    "last_blocks = [27, 28, 29, 30, 31, 32]\n",
    "dates_train_level2 = dates_train[dates_train.isin(last_blocks)]"
   ]
  },
  {
   "cell_type": "code",
   "execution_count": 8,
   "metadata": {
    "scrolled": true
   },
   "outputs": [
    {
     "name": "stdout",
     "output_type": "stream",
     "text": [
      "\n",
      "Block 27 \n",
      "\n",
      "model in GPU\n",
      "model in GPU\n",
      "{'num_feat': 32, 'n_hidden1': 200, 'n_hidden2': 100, 'dropout': 0.2, 'optim_type': 'adam', 'learning_rate': 0.0001, 'batch_size': 1024}\n",
      "2019-08-06 18:09:00.127254\n",
      " ** predictions clipping to [0, 20]\n",
      " ** predictions clipping to [0, 20]\n",
      "\n",
      "2019-08-06 18:09:02 ---- START training\n",
      ". . . . . . . . . . . . . . . . . . . . . . . . . . . . \n",
      "2019-08-06 18:26:33 *** Early stop at epoch 26/99, best_ValLoss = 0.8815\n",
      "2019-08-06 18:26:33 --- DONE Epoch = 26/99 AvgLoss = 0.9147 ValLoss = 0.8819\n",
      "\n",
      "elapsed training time: 1053.92\n",
      " ** predictions clipping to [0, 20]\n",
      "elapsed infer time: 18.27\n",
      " ** predictions clipping to [0, 20]\n",
      "Train RMSE for NNR is 0.966743\n",
      " ** predictions clipping to [0, 20]\n",
      "elapsed infer time: 0.32\n",
      " ** predictions clipping to [0, 20]\n",
      "Dev RMSE for NNR is 0.938292\n",
      " ** predictions clipping to [0, 20]\n",
      "elapsed infer time: 0.16\n",
      "2019-08-06 18:26:53.038826\n",
      "elapsed training time: 17.14\n",
      " ** predictions clipping to [0, 20]\n",
      "elapsed infer time: 2.12\n",
      " ** predictions clipping to [0, 20]\n",
      "Train RMSE for ElasticNet is 0.972154\n",
      " ** predictions clipping to [0, 20]\n",
      "elapsed infer time: 0.12\n",
      " ** predictions clipping to [0, 20]\n",
      "Dev RMSE for ElasticNet is 0.969145\n",
      " ** predictions clipping to [0, 20]\n",
      "elapsed infer time: 0.11\n",
      "2019-08-06 18:27:12.732670\n",
      " ** predictions clipping to [0, 20]\n",
      "elapsed training time: 121.34\n",
      " ** predictions clipping to [0, 20]\n",
      "elapsed infer time: 69.66\n",
      " ** predictions clipping to [0, 20]\n",
      "Train RMSE for LightGBM is 0.860761\n",
      " ** predictions clipping to [0, 20]\n",
      "elapsed infer time: 3.65\n",
      " ** predictions clipping to [0, 20]\n",
      "Dev RMSE for LightGBM is 0.893887\n",
      " ** predictions clipping to [0, 20]\n",
      "elapsed infer time: 3.50\n",
      "\n"
     ]
    },
    {
     "data": {
      "text/plain": [
       "117"
      ]
     },
     "execution_count": 8,
     "metadata": {},
     "output_type": "execute_result"
    },
    {
     "name": "stdout",
     "output_type": "stream",
     "text": [
      "\n",
      "Block 28 \n",
      "\n",
      "model in GPU\n",
      "model in GPU\n",
      "{'num_feat': 32, 'n_hidden1': 200, 'n_hidden2': 100, 'dropout': 0.2, 'optim_type': 'adam', 'learning_rate': 0.0001, 'batch_size': 1024}\n",
      "2019-08-06 18:30:34.402634\n",
      " ** predictions clipping to [0, 20]\n",
      " ** predictions clipping to [0, 20]\n",
      "\n",
      "2019-08-06 18:30:36 ---- START training\n",
      ". . . . . . . . . . . . . . . . . . . . . . . . . \n",
      "2019-08-06 18:46:56 *** Early stop at epoch 23/99, best_ValLoss = 0.9330\n",
      "2019-08-06 18:46:56 --- DONE Epoch = 23/99 AvgLoss = 0.9247 ValLoss = 0.9333\n",
      "\n",
      "elapsed training time: 982.05\n",
      " ** predictions clipping to [0, 20]\n",
      "elapsed infer time: 20.83\n",
      " ** predictions clipping to [0, 20]\n",
      "Train RMSE for NNR is 1.028612\n",
      " ** predictions clipping to [0, 20]\n",
      "elapsed infer time: 0.30\n",
      " ** predictions clipping to [0, 20]\n",
      "Dev RMSE for NNR is 0.965916\n",
      " ** predictions clipping to [0, 20]\n",
      "elapsed infer time: 0.14\n",
      "2019-08-06 18:47:17.969459\n",
      "elapsed training time: 20.63\n",
      " ** predictions clipping to [0, 20]\n",
      "elapsed infer time: 2.28\n",
      " ** predictions clipping to [0, 20]\n",
      "Train RMSE for ElasticNet is 0.972490\n",
      " ** predictions clipping to [0, 20]\n",
      "elapsed infer time: 0.11\n",
      " ** predictions clipping to [0, 20]\n",
      "Dev RMSE for ElasticNet is 0.959213\n",
      " ** predictions clipping to [0, 20]\n",
      "elapsed infer time: 0.10\n",
      "2019-08-06 18:47:41.308296\n",
      " ** predictions clipping to [0, 20]\n",
      "elapsed training time: 130.44\n",
      " ** predictions clipping to [0, 20]\n",
      "elapsed infer time: 67.04\n",
      " ** predictions clipping to [0, 20]\n",
      "Train RMSE for LightGBM is 0.862024\n",
      " ** predictions clipping to [0, 20]\n",
      "elapsed infer time: 3.04\n",
      " ** predictions clipping to [0, 20]\n",
      "Dev RMSE for LightGBM is 0.835020\n",
      " ** predictions clipping to [0, 20]\n",
      "elapsed infer time: 3.02\n",
      "\n"
     ]
    },
    {
     "data": {
      "text/plain": [
       "117"
      ]
     },
     "execution_count": 8,
     "metadata": {},
     "output_type": "execute_result"
    },
    {
     "name": "stdout",
     "output_type": "stream",
     "text": [
      "\n",
      "Block 29 \n",
      "\n",
      "model in GPU\n",
      "model in GPU\n",
      "{'num_feat': 32, 'n_hidden1': 200, 'n_hidden2': 100, 'dropout': 0.2, 'optim_type': 'adam', 'learning_rate': 0.0001, 'batch_size': 1024}\n",
      "2019-08-06 18:51:08.594686\n",
      " ** predictions clipping to [0, 20]\n",
      " ** predictions clipping to [0, 20]\n",
      "\n",
      "2019-08-06 18:51:10 ---- START training\n",
      ". . . . . . . . . . . . \n",
      "2019-08-06 18:59:00 *** Early stop at epoch 10/99, best_ValLoss = 0.8685\n",
      "2019-08-06 18:59:00 --- DONE Epoch = 10/99 AvgLoss = 1.0057 ValLoss = 0.8724\n",
      "\n",
      "elapsed training time: 471.97\n",
      " ** predictions clipping to [0, 20]\n",
      "elapsed infer time: 19.49\n",
      " ** predictions clipping to [0, 20]\n",
      "Train RMSE for NNR is 1.025248\n",
      " ** predictions clipping to [0, 20]\n",
      "elapsed infer time: 0.28\n",
      " ** predictions clipping to [0, 20]\n",
      "Dev RMSE for NNR is 0.931919\n",
      " ** predictions clipping to [0, 20]\n",
      "elapsed infer time: 0.14\n",
      "2019-08-06 18:59:20.727795\n",
      "elapsed training time: 23.97\n",
      " ** predictions clipping to [0, 20]\n",
      "elapsed infer time: 2.31\n",
      " ** predictions clipping to [0, 20]\n",
      "Train RMSE for ElasticNet is 0.972798\n",
      " ** predictions clipping to [0, 20]\n",
      "elapsed infer time: 0.09\n",
      " ** predictions clipping to [0, 20]\n",
      "Dev RMSE for ElasticNet is 0.835573\n",
      " ** predictions clipping to [0, 20]\n",
      "elapsed infer time: 0.10\n",
      "2019-08-06 18:59:47.442515\n",
      " ** predictions clipping to [0, 20]\n",
      "elapsed training time: 142.04\n",
      " ** predictions clipping to [0, 20]\n",
      "elapsed infer time: 70.22\n",
      " ** predictions clipping to [0, 20]\n",
      "Train RMSE for LightGBM is 0.859763\n",
      " ** predictions clipping to [0, 20]\n",
      "elapsed infer time: 2.96\n",
      " ** predictions clipping to [0, 20]\n",
      "Dev RMSE for LightGBM is 0.786879\n",
      " ** predictions clipping to [0, 20]\n",
      "elapsed infer time: 2.98\n",
      "\n"
     ]
    },
    {
     "data": {
      "text/plain": [
       "117"
      ]
     },
     "execution_count": 8,
     "metadata": {},
     "output_type": "execute_result"
    },
    {
     "name": "stdout",
     "output_type": "stream",
     "text": [
      "\n",
      "Block 30 \n",
      "\n",
      "model in GPU\n",
      "model in GPU\n",
      "{'num_feat': 32, 'n_hidden1': 200, 'n_hidden2': 100, 'dropout': 0.2, 'optim_type': 'adam', 'learning_rate': 0.0001, 'batch_size': 1024}\n",
      "2019-08-06 19:03:29.383480\n",
      " ** predictions clipping to [0, 20]\n",
      " ** predictions clipping to [0, 20]\n",
      "\n",
      "2019-08-06 19:03:31 ---- START training\n",
      ". . . . . . . . . . . . . . . . . . . . . . . . . . . . . . . . . . \n",
      "2019-08-06 19:27:48 *** Early stop at epoch 32/99, best_ValLoss = 0.5920\n",
      "2019-08-06 19:27:48 --- DONE Epoch = 32/99 AvgLoss = 0.8673 ValLoss = 0.5928\n",
      "\n",
      "elapsed training time: 1459.61\n",
      " ** predictions clipping to [0, 20]\n",
      "elapsed infer time: 21.84\n",
      " ** predictions clipping to [0, 20]\n",
      "Train RMSE for NNR is 0.945006\n",
      " ** predictions clipping to [0, 20]\n",
      "elapsed infer time: 0.30\n",
      " ** predictions clipping to [0, 20]\n",
      "Dev RMSE for NNR is 0.767640\n",
      " ** predictions clipping to [0, 20]\n",
      "elapsed infer time: 0.14\n",
      "2019-08-06 19:28:11.557413\n",
      "elapsed training time: 24.51\n",
      " ** predictions clipping to [0, 20]\n",
      "elapsed infer time: 2.44\n",
      " ** predictions clipping to [0, 20]\n",
      "Train RMSE for ElasticNet is 0.967765\n",
      " ** predictions clipping to [0, 20]\n",
      "elapsed infer time: 0.10\n",
      " ** predictions clipping to [0, 20]\n",
      "Dev RMSE for ElasticNet is 0.754683\n",
      " ** predictions clipping to [0, 20]\n",
      "elapsed infer time: 0.10\n",
      "2019-08-06 19:28:38.915022\n",
      " ** predictions clipping to [0, 20]\n",
      "elapsed training time: 141.68\n",
      " ** predictions clipping to [0, 20]\n",
      "elapsed infer time: 72.72\n",
      " ** predictions clipping to [0, 20]\n",
      "Train RMSE for LightGBM is 0.856436\n",
      " ** predictions clipping to [0, 20]\n",
      "elapsed infer time: 2.91\n",
      " ** predictions clipping to [0, 20]\n",
      "Dev RMSE for LightGBM is 0.722033\n",
      " ** predictions clipping to [0, 20]\n",
      "elapsed infer time: 2.94\n",
      "\n"
     ]
    },
    {
     "data": {
      "text/plain": [
       "117"
      ]
     },
     "execution_count": 8,
     "metadata": {},
     "output_type": "execute_result"
    },
    {
     "name": "stdout",
     "output_type": "stream",
     "text": [
      "\n",
      "Block 31 \n",
      "\n",
      "model in GPU\n",
      "model in GPU\n",
      "{'num_feat': 32, 'n_hidden1': 200, 'n_hidden2': 100, 'dropout': 0.2, 'optim_type': 'adam', 'learning_rate': 0.0001, 'batch_size': 1024}\n",
      "2019-08-06 19:32:23.136777\n",
      " ** predictions clipping to [0, 20]\n",
      " ** predictions clipping to [0, 20]\n",
      "\n",
      "2019-08-06 19:32:25 ---- START training\n",
      ". . . . . . . . . . . . . . . . . . . . . . . . . . . . . . . \n",
      "2019-08-06 19:55:11 *** Early stop at epoch 29/99, best_ValLoss = 0.7269\n",
      "2019-08-06 19:55:11 --- DONE Epoch = 29/99 AvgLoss = 0.8645 ValLoss = 0.7275\n",
      "\n",
      "elapsed training time: 1368.13\n",
      " ** predictions clipping to [0, 20]\n",
      "elapsed infer time: 26.06\n",
      " ** predictions clipping to [0, 20]\n",
      "Train RMSE for NNR is 0.964769\n",
      " ** predictions clipping to [0, 20]\n",
      "elapsed infer time: 0.30\n",
      " ** predictions clipping to [0, 20]\n",
      "Dev RMSE for NNR is 0.851465\n",
      " ** predictions clipping to [0, 20]\n",
      "elapsed infer time: 0.14\n",
      "2019-08-06 19:55:38.022514\n",
      "elapsed training time: 23.21\n",
      " ** predictions clipping to [0, 20]\n",
      "elapsed infer time: 2.50\n",
      " ** predictions clipping to [0, 20]\n",
      "Train RMSE for ElasticNet is 0.959927\n",
      " ** predictions clipping to [0, 20]\n",
      "elapsed infer time: 0.08\n",
      " ** predictions clipping to [0, 20]\n",
      "Dev RMSE for ElasticNet is 0.840771\n",
      " ** predictions clipping to [0, 20]\n",
      "elapsed infer time: 0.08\n",
      "2019-08-06 19:56:04.116401\n",
      " ** predictions clipping to [0, 20]\n",
      "elapsed training time: 145.10\n",
      " ** predictions clipping to [0, 20]\n",
      "elapsed infer time: 78.26\n",
      " ** predictions clipping to [0, 20]\n",
      "Train RMSE for LightGBM is 0.851467\n",
      " ** predictions clipping to [0, 20]\n",
      "elapsed infer time: 2.78\n",
      " ** predictions clipping to [0, 20]\n",
      "Dev RMSE for LightGBM is 0.788231\n",
      " ** predictions clipping to [0, 20]\n",
      "elapsed infer time: 2.83\n",
      "\n"
     ]
    },
    {
     "data": {
      "text/plain": [
       "117"
      ]
     },
     "execution_count": 8,
     "metadata": {},
     "output_type": "execute_result"
    },
    {
     "name": "stdout",
     "output_type": "stream",
     "text": [
      "\n",
      "Block 32 \n",
      "\n",
      "model in GPU\n",
      "model in GPU\n",
      "{'num_feat': 32, 'n_hidden1': 200, 'n_hidden2': 100, 'dropout': 0.2, 'optim_type': 'adam', 'learning_rate': 0.0001, 'batch_size': 1024}\n",
      "2019-08-06 19:59:57.033484\n",
      " ** predictions clipping to [0, 20]\n",
      " ** predictions clipping to [0, 20]\n",
      "\n",
      "2019-08-06 19:59:59 ---- START training\n",
      ". . . . . . . . . . . . . . . . . . . . . . . . . . . . . \n",
      "2019-08-06 20:22:05 *** Early stop at epoch 27/99, best_ValLoss = 0.9256\n",
      "2019-08-06 20:22:05 --- DONE Epoch = 27/99 AvgLoss = 0.8575 ValLoss = 0.9290\n",
      "\n",
      "elapsed training time: 1328.43\n",
      " ** predictions clipping to [0, 20]\n",
      "elapsed infer time: 37.08\n",
      " ** predictions clipping to [0, 20]\n",
      "Train RMSE for NNR is 0.968727\n",
      " ** predictions clipping to [0, 20]\n",
      "elapsed infer time: 0.35\n",
      " ** predictions clipping to [0, 20]\n",
      "Dev RMSE for NNR is 0.960760\n",
      " ** predictions clipping to [0, 20]\n",
      "elapsed infer time: 0.14\n",
      "2019-08-06 20:22:43.340956\n",
      "elapsed training time: 24.53\n",
      " ** predictions clipping to [0, 20]\n",
      "elapsed infer time: 2.59\n",
      " ** predictions clipping to [0, 20]\n",
      "Train RMSE for ElasticNet is 0.955933\n",
      " ** predictions clipping to [0, 20]\n",
      "elapsed infer time: 0.11\n",
      " ** predictions clipping to [0, 20]\n",
      "Dev RMSE for ElasticNet is 0.994805\n",
      " ** predictions clipping to [0, 20]\n",
      "elapsed infer time: 0.10\n",
      "2019-08-06 20:23:10.934911\n",
      " ** predictions clipping to [0, 20]\n",
      "elapsed training time: 150.60\n",
      " ** predictions clipping to [0, 20]\n",
      "elapsed infer time: 78.23\n",
      " ** predictions clipping to [0, 20]\n",
      "Train RMSE for LightGBM is 0.848746\n",
      " ** predictions clipping to [0, 20]\n",
      "elapsed infer time: 2.91\n",
      " ** predictions clipping to [0, 20]\n",
      "Dev RMSE for LightGBM is 0.884618\n",
      " ** predictions clipping to [0, 20]\n",
      "elapsed infer time: 2.83\n",
      "\n"
     ]
    },
    {
     "data": {
      "text/plain": [
       "117"
      ]
     },
     "execution_count": 8,
     "metadata": {},
     "output_type": "execute_result"
    },
    {
     "name": "stdout",
     "output_type": "stream",
     "text": [
      "(1376192, 3)\n",
      "[[0.39464712 0.15501052 0.4808617 ]\n",
      " [0.39464712 0.15501052 0.4808617 ]\n",
      " [0.16550441 0.0801465  0.06196005]]\n"
     ]
    }
   ],
   "source": [
    "# That is how we get target for the 2nd level dataset\n",
    "y_train_level2 = y_train[dates_train.isin(last_blocks)]\n",
    "\n",
    "# And here we create 2nd level feature matrix, init it with zeros first\n",
    "X_train_level2 = np.zeros([y_train_level2.shape[0], 3])\n",
    "\n",
    "# Now fill `X_train_level2` with metafeatures\n",
    "for cur_block_num in last_blocks:\n",
    "    \n",
    "    print(\"\\nBlock\",cur_block_num,\"\\n\")\n",
    "\n",
    "        # define the block training data\n",
    "\n",
    "    X_block_train = X_train.loc[dates_train <  cur_block_num]\n",
    "    y_block_train = y_train[dates_train < cur_block_num]\n",
    "    X_block_val = X_train[dates_train == cur_block_num]\n",
    "    y_block_val = y_train[dates_train == cur_block_num]\n",
    "    \n",
    "        # fit models for data block and get predictions\n",
    "        \n",
    "    nn_model = models.modelNNR(target_range)\n",
    "    nn_model.fit_early(X_block_train, y_block_train, X_block_val, y_block_val)\n",
    "    nn_model.scoring(X_block_val, y_block_val, X_block_train, y_block_train)\n",
    "    pred_nn = nn_model.predict(X_block_val)\n",
    "\n",
    "    en_model = models.modelEN(target_range)\n",
    "    en_model.fit(X_block_train,y_block_train)\n",
    "    en_model.scoring(X_block_val, y_block_val, X_block_train, y_block_train)\n",
    "    pred_en = en_model.predict(X_block_val)\n",
    "\n",
    "    lgb_model = models.modelLGB(target_range)\n",
    "    lgb_model.fit(X_block_train, y_block_train)\n",
    "    lgb_model.scoring(X_block_val, y_block_val, X_block_train, y_block_train)\n",
    "    pred_lgb = lgb_model.predict(X_block_val)\n",
    "\n",
    "    print(\"\")\n",
    "    \n",
    "        # store predictions in X_train_level2\n",
    "    del(nn_model)\n",
    "    del(en_model)\n",
    "    del(lgb_model)\n",
    "    gc.collect()\n",
    "    X_train_level2[dates_train_level2 == cur_block_num] = np.c_[pred_nn, pred_en, pred_lgb] \n",
    "    \n",
    "print(X_train_level2.shape)\n",
    "print(X_train_level2[:3])"
   ]
  },
  {
   "cell_type": "code",
   "execution_count": 15,
   "metadata": {},
   "outputs": [
    {
     "data": {
      "image/png": "[encoded data removed]",
      "text/plain": [
       "<Figure size 2772x756 with 3 Axes>"
      ]
     },
     "metadata": {
      "needs_background": "light"
     },
     "output_type": "display_data"
    }
   ],
   "source": [
    "# Check correlation of 1st level models\n",
    "fig, (ax1, ax2, ax3) = plt.subplots(1,3)\n",
    "\n",
    "def do_scatter(ax,X,Y,x_name,y_name,color):\n",
    "    ax.scatter(X,Y,color=color)\n",
    "    ax.set_xlabel(x_name+\" preds\")\n",
    "    ax.set_ylabel(y_name+\" preds\")\n",
    "    ax.set_title(x_name+\" vs \"+y_name)\n",
    "\n",
    "do_scatter(ax1,X_train_level2[:,1],X_train_level2[:,2],'ElasticNet','LightGBM','blue')\n",
    "do_scatter(ax2,X_train_level2[:,0],X_train_level2[:,2],'NRR','LightGBM','red')\n",
    "do_scatter(ax3,X_train_level2[:,1],X_train_level2[:,0],'ElasticNet','NRR','green')\n",
    "\n",
    "fig.set_size_inches(38.5, 10.5)\n",
    "plt.show()"
   ]
  },
  {
   "cell_type": "code",
   "execution_count": 21,
   "metadata": {},
   "outputs": [],
   "source": [
    "filename = 'features/X_train_level2_nn_en_lgb.pkl'\n",
    "pickle.dump(X_train_level2, open(filename, 'wb'))\n",
    "#X_train_level2 = pickle.load(open(filename, 'rb'))"
   ]
  },
  {
   "cell_type": "markdown",
   "metadata": {},
   "source": [
    "### 1.2 Validation meta features\n",
    "Create meta features for the validation data (last month of train data)."
   ]
  },
  {
   "cell_type": "code",
   "execution_count": 25,
   "metadata": {},
   "outputs": [
    {
     "name": "stdout",
     "output_type": "stream",
     "text": [
      "model in GPU\n",
      "model in GPU\n",
      "{'num_feat': 32, 'n_hidden1': 200, 'n_hidden2': 100, 'dropout': 0.2, 'optim_type': 'adam', 'learning_rate': 0.0001, 'batch_size': 1024}\n",
      "2019-08-06 20:40:11.053833\n",
      " ** predictions clipping to [0, 20]\n",
      " ** predictions clipping to [0, 20]\n",
      "\n",
      "2019-08-06 20:40:15 ---- START training\n",
      ". . . . . . . . . . . . . . . . . . . . . . . . . . . . . . . . \n",
      "2019-08-06 21:06:06 *** Early stop at epoch 30/99, best_ValLoss = 0.9419\n",
      "2019-08-06 21:06:06 --- DONE Epoch = 30/99 AvgLoss = 0.8463 ValLoss = 0.9427\n",
      "\n",
      "elapsed training time: 1555.37\n",
      " ** predictions clipping to [0, 20]\n",
      "elapsed infer time: 37.82\n",
      " ** predictions clipping to [0, 20]\n",
      "Train RMSE for NNR is 0.924869\n",
      " ** predictions clipping to [0, 20]\n",
      "elapsed infer time: 0.53\n",
      " ** predictions clipping to [0, 20]\n",
      "Dev RMSE for NNR is 0.968987\n",
      " ** predictions clipping to [0, 20]\n",
      "elapsed infer time: 0.12\n",
      "\n",
      "2019-08-06 21:06:45.228198\n",
      "elapsed training time: 26.35\n",
      " ** predictions clipping to [0, 20]\n",
      "elapsed infer time: 2.76\n",
      " ** predictions clipping to [0, 20]\n",
      "Train RMSE for ElasticNet is 0.956561\n",
      " ** predictions clipping to [0, 20]\n",
      "elapsed infer time: 0.11\n",
      " ** predictions clipping to [0, 20]\n",
      "Dev RMSE for ElasticNet is 0.991646\n",
      " ** predictions clipping to [0, 20]\n",
      "elapsed infer time: 0.10\n",
      "\n",
      "2019-08-06 21:07:14.778808\n",
      " ** predictions clipping to [0, 20]\n",
      "elapsed training time: 159.22\n",
      " ** predictions clipping to [0, 20]\n",
      "elapsed infer time: 83.26\n",
      " ** predictions clipping to [0, 20]\n",
      "Train RMSE for LightGBM is 0.849574\n",
      " ** predictions clipping to [0, 20]\n",
      "elapsed infer time: 3.15\n",
      " ** predictions clipping to [0, 20]\n",
      "Dev RMSE for LightGBM is 0.932113\n",
      " ** predictions clipping to [0, 20]\n",
      "elapsed infer time: 3.14\n",
      "\n",
      "(238172, 3)\n",
      "[[0.05651273 0.03892985 0.03183449]\n",
      " [0.15265188 0.1060609  0.0684783 ]\n",
      " [0.15204051 0.40522455 0.24403362]]\n"
     ]
    }
   ],
   "source": [
    "   # fit models and create the predictions\n",
    "\n",
    "nn_model = models.modelNNR(target_range)\n",
    "nn_model.fit_early(X_train, y_train, X_val, y_val) \n",
    "nn_model.scoring(X_val, y_val, X_train, y_train)\n",
    "pred_nn = nn_model.predict(X_val)\n",
    "print(\"\")\n",
    "\n",
    "en_model = models.modelEN(target_range)\n",
    "en_model.fit(X_train, y_train)\n",
    "en_model.scoring(X_val, y_val, X_train, y_train)\n",
    "pred_en = en_model.predict(X_val)\n",
    "print(\"\")\n",
    "\n",
    "lgb_model = models.modelLGB(target_range)\n",
    "lgb_model.fit(X_train, y_train)\n",
    "lgb_model.scoring(X_val, y_val, X_train, y_train)\n",
    "pred_lgb = lgb_model.predict(X_val)\n",
    "print(\"\")\n",
    "\n",
    "     # concatenate predictions to get the meta features\n",
    "\n",
    "X_val_level2 = np.c_[pred_nn, pred_en, pred_lgb] \n",
    "print(X_val_level2.shape)\n",
    "print(X_val_level2[:3])"
   ]
  },
  {
   "cell_type": "code",
   "execution_count": 26,
   "metadata": {},
   "outputs": [],
   "source": [
    "filename = 'features/X_val_level2_nn_en_lgb.pkl'\n",
    "pickle.dump(X_val_level2, open(filename, 'wb'))\n",
    "#X_val_level2 = pickle.load(open(filename, 'rb'))"
   ]
  },
  {
   "cell_type": "markdown",
   "metadata": {},
   "source": [
    "## 2. Stack the models\n",
    "\n",
    "Whe have to find a 2-nd level meta-model that fits ok to the 1-st level meta-features."
   ]
  },
  {
   "cell_type": "markdown",
   "metadata": {
    "collapsed": true
   },
   "source": [
    "### 2.1. Linear mix (THE BEST ???)\n",
    "\n",
    "Try a simple linear convex mix:\n",
    "\n",
    "        mix=α⋅neuralnet_prediction+ß·elasticnet_prediction+(1−α-ß)⋅lgb_prediction\n",
    " \n",
    "And fit it finding an optimal α and ß whose addition is equal to one."
   ]
  },
  {
   "cell_type": "code",
   "execution_count": 31,
   "metadata": {},
   "outputs": [
    {
     "data": {
      "application/vnd.jupyter.widget-view+json": {
       "model_id": "e1b7b12cace945eeb6b63ec0d745afca",
       "version_major": 2,
       "version_minor": 0
      },
      "text/plain": [
       "HBox(children=(IntProgress(value=0, max=101), HTML(value='')))"
      ]
     },
     "metadata": {},
     "output_type": "display_data"
    },
    {
     "name": "stdout",
     "output_type": "stream",
     "text": [
      "\n",
      "Best alpha: 0.000000 and beta: 0.160000; Corresponding r2 score on train: 0.082464\n"
     ]
    }
   ],
   "source": [
    "# Fit to the optimal alpha and beta with a grid search\n",
    "\n",
    "alphas_to_try = np.linspace(0, 1, 101)\n",
    "\n",
    "def lcmix_predict(X, alpha, beta):\n",
    "    return alpha*X[:,0] + beta*X[:,1] + (1-alpha-beta)*X[:,2]\n",
    "\n",
    "best_alpha, best_beta = -1, -1\n",
    "r2_train_simple_mix = -1e10\n",
    "for alpha in tqdm_notebook(alphas_to_try):\n",
    "    betas_to_try = np.linspace(0,1-alpha,101)\n",
    "    for beta in betas_to_try:\n",
    "        lcmix_preds = lcmix_predict(X_train_level2, alpha, beta)\n",
    "        r2 = r2_score(y_train_level2, lcmix_preds)\n",
    "        if r2 > r2_train_simple_mix:\n",
    "            best_alpha, best_beta = alpha, beta\n",
    "            r2_train_simple_mix = r2\n",
    "\n",
    "print('Best alpha: %f and beta: %f; Corresponding r2 score on train: %f' % (best_alpha, best_beta, r2_train_simple_mix))"
   ]
  },
  {
   "cell_type": "markdown",
   "metadata": {},
   "source": [
    "If alpha is zero, means that the NN is **not improving** the ensemble..."
   ]
  },
  {
   "cell_type": "code",
   "execution_count": 33,
   "metadata": {},
   "outputs": [
    {
     "name": "stdout",
     "output_type": "stream",
     "text": [
      "Dev R-squared for simple mix is 0.048726\n",
      "Dev RMSE for simple mix is 0.928142\n"
     ]
    }
   ],
   "source": [
    "# The score that should be near to the one in the LeaderBoard (I hope so)\n",
    "lcmix_preds = lcmix_predict(X_val_level2, best_alpha, best_beta)\n",
    "print('Dev R-squared for simple mix is %f' % r2_score(y_val, lcmix_preds))\n",
    "print('Dev RMSE for simple mix is %f' %  rmse_score(y_val.clip(*target_range), lcmix_preds))"
   ]
  },
  {
   "cell_type": "markdown",
   "metadata": {},
   "source": [
    "### 2.2 Linear regression\n",
    "Try a Linear Regressor to stack ElasticNet and LightGBM together."
   ]
  },
  {
   "cell_type": "code",
   "execution_count": 34,
   "metadata": {},
   "outputs": [
    {
     "name": "stdout",
     "output_type": "stream",
     "text": [
      "2019-08-07 02:39:31.463268\n",
      "elapsed training time: 0.20\n",
      " ** predictions clipping to [0, 20]\n",
      "elapsed infer time: 0.07\n",
      " ** predictions clipping to [0, 20]\n",
      "Train RMSE for LR is 0.971272\n",
      " ** predictions clipping to [0, 20]\n",
      "elapsed infer time: 0.01\n",
      " ** predictions clipping to [0, 20]\n",
      "Dev RMSE for LR is 1.134595\n"
     ]
    }
   ],
   "source": [
    "# Create model\n",
    "lr_model = models.modelLR(target_range)\n",
    "lr_model.fit(pd.DataFrame(X_train_level2), y_train_level2)\n",
    "\n",
    "# The score that should be near to the one in the LeaderBoard (I hope so)\n",
    "lr_model.scoring(pd.DataFrame(X_val_level2), y_val, pd.DataFrame(X_train_level2), y_train_level2)"
   ]
  },
  {
   "cell_type": "markdown",
   "metadata": {},
   "source": [
    "### 2.3 Decission tree\n",
    "Try a simple decission tree."
   ]
  },
  {
   "cell_type": "code",
   "execution_count": 35,
   "metadata": {},
   "outputs": [
    {
     "name": "stdout",
     "output_type": "stream",
     "text": [
      "2019-08-07 02:40:14.349033\n",
      " ** predictions clipping to [0, 20]\n",
      "elapsed training time: 13.06\n",
      " ** predictions clipping to [0, 20]\n",
      "elapsed infer time: 0.62\n",
      " ** predictions clipping to [0, 20]\n",
      "Train RMSE for DecissionTree is 0.460931\n",
      " ** predictions clipping to [0, 20]\n",
      "elapsed infer time: 0.11\n",
      " ** predictions clipping to [0, 20]\n",
      "Dev RMSE for DecissionTree is 1.166272\n"
     ]
    }
   ],
   "source": [
    "# Create model\n",
    "dtr_model = models.modelDTR(target_range)\n",
    "dtr_model.fit(pd.DataFrame(X_train_level2), y_train_level2)\n",
    "\n",
    "# The score that should be near to the one in the LeaderBoard (I hope so)\n",
    "dtr_model.scoring(pd.DataFrame(X_val_level2), y_val, pd.DataFrame(X_train_level2), y_train_level2)"
   ]
  },
  {
   "cell_type": "markdown",
   "metadata": {},
   "source": [
    "## 3. Predictions for submission\n",
    "Fit the 1-st models with all available labeled data and predict on test data with the 2-nd model (linear mix, the best one) for later submission."
   ]
  },
  {
   "cell_type": "code",
   "execution_count": 45,
   "metadata": {},
   "outputs": [],
   "source": [
    "import models"
   ]
  },
  {
   "cell_type": "code",
   "execution_count": null,
   "metadata": {},
   "outputs": [],
   "source": [
    "del(nn_model)\n",
    "del(en_model)\n",
    "del(lgb_model)\n",
    "gc.collect()"
   ]
  },
  {
   "cell_type": "code",
   "execution_count": 46,
   "metadata": {
    "scrolled": true
   },
   "outputs": [
    {
     "name": "stdout",
     "output_type": "stream",
     "text": [
      "6425094 6425094 214200 \n",
      "\n",
      "model in GPU\n",
      "model in GPU\n",
      "{'num_feat': 32, 'n_hidden1': 200, 'n_hidden2': 100, 'dropout': 0.2, 'optim_type': 'adam', 'learning_rate': 0.0001, 'batch_size': 1024}\n",
      "2019-08-07 02:46:56.417108\n",
      " ** predictions clipping to [0, 20]\n",
      "\n",
      "2019-08-07 02:47:02 ---- START training\n",
      ". . . . . . . . . . . . . . . . . . . . . . . . . . . . . . . . . . . . . \n",
      "2019-08-07 03:17:48 --- DONE Epoch = 35/35 AvgLoss = 0.8346\n",
      "\n",
      "elapsed training time: 1852.47\n",
      " ** predictions clipping to [0, 20]\n",
      "elapsed infer time: 0.26\n",
      "214200 \n",
      "\n",
      "2019-08-07 03:17:49.159554\n",
      "elapsed training time: 27.30\n",
      " ** predictions clipping to [0, 20]\n",
      "elapsed infer time: 0.11\n",
      "214200 \n",
      "\n",
      "2019-08-07 03:18:16.581916\n",
      " ** predictions clipping to [0, 20]\n",
      "elapsed training time: 164.03\n",
      " ** predictions clipping to [0, 20]\n",
      "elapsed infer time: 2.98\n",
      "214200 \n",
      "\n",
      "(214200, 3)\n"
     ]
    },
    {
     "ename": "TypeError",
     "evalue": "lcmix_predict() missing 1 required positional argument: 'beta'",
     "output_type": "error",
     "traceback": [
      "\u001b[1;31m---------------------------------------------------------------------------\u001b[0m",
      "\u001b[1;31mTypeError\u001b[0m                                 Traceback (most recent call last)",
      "\u001b[1;32m<ipython-input-46-748549b2fc2b>\u001b[0m in \u001b[0;36m<module>\u001b[1;34m\u001b[0m\n\u001b[0;32m     28\u001b[0m \u001b[1;33m\u001b[0m\u001b[0m\n\u001b[0;32m     29\u001b[0m  \u001b[1;31m# and get the submission preds\u001b[0m\u001b[1;33m\u001b[0m\u001b[1;33m\u001b[0m\u001b[1;33m\u001b[0m\u001b[0m\n\u001b[1;32m---> 30\u001b[1;33m \u001b[0msubmission_preds\u001b[0m \u001b[1;33m=\u001b[0m \u001b[0mlcmix_predict\u001b[0m\u001b[1;33m(\u001b[0m\u001b[0mX_all_level2\u001b[0m\u001b[1;33m,\u001b[0m \u001b[0mbest_alpha\u001b[0m\u001b[1;33m)\u001b[0m\u001b[1;33m\u001b[0m\u001b[1;33m\u001b[0m\u001b[0m\n\u001b[0m",
      "\u001b[1;31mTypeError\u001b[0m: lcmix_predict() missing 1 required positional argument: 'beta'"
     ]
    }
   ],
   "source": [
    "    # prepare all data\n",
    "\n",
    "X_all = X_train.append(X_val)\n",
    "y_all = np.concatenate([y_train, y_val])\n",
    "print(len(X_all),len(y_all),len(X_test),'\\n')\n",
    "\n",
    "    # fit 1-st level models and create the predictions\n",
    "\n",
    "nn_model = models.modelNNR(target_range)\n",
    "nn_model.fit(X_all,y_all)                  # No early stopping (no validation data), fit to 36 epochs\n",
    "pred_nn = nn_model.predict(X_test)\n",
    "print(len(pred_nn),\"\\n\")\n",
    "\n",
    "en_model = models.modelEN(target_range)\n",
    "en_model.fit(X_all,y_all)\n",
    "pred_en = en_model.predict(X_test)\n",
    "print(len(pred_en),\"\\n\")\n",
    "\n",
    "lgb_model = models.modelLGB(target_range)\n",
    "lgb_model.fit(X_all,y_all)\n",
    "pred_lgb = lgb_model.predict(X_test)\n",
    "print(len(pred_lgb),\"\\n\")\n",
    "\n",
    "     # concatenate predictions to get the meta features for stacking\n",
    "\n",
    "X_all_level2 = np.c_[pred_nn, pred_en, pred_lgb] \n",
    "print(X_all_level2.shape)\n",
    "\n",
    "     # and get the submission preds\n",
    "submission_preds = lcmix_predict(X_all_level2, best_alpha, best_beta)"
   ]
  },
  {
   "cell_type": "code",
   "execution_count": 53,
   "metadata": {},
   "outputs": [],
   "source": [
    "filename = 'features/X_all_level2_nn_en_lgb.pkl'\n",
    "pickle.dump(X_all_level2, open(filename, 'wb'))\n",
    "#X_val_level2 = pickle.load(open(filename, 'rb'))"
   ]
  },
  {
   "cell_type": "code",
   "execution_count": 57,
   "metadata": {},
   "outputs": [
    {
     "name": "stdout",
     "output_type": "stream",
     "text": [
      " ** predictions clipping to [0, 20]\n",
      "elapsed infer time: 0.02\n",
      " ** predictions clipping to [0, 20]\n",
      "elapsed infer time: 0.16\n"
     ]
    }
   ],
   "source": [
    "     # and get the submission preds, lets try all of them\n",
    "submission_preds_lcmix = lcmix_predict(X_all_level2, best_alpha, best_beta)\n",
    "submission_preds_lr = lr_model.predict(pd.DataFrame(X_all_level2))\n",
    "submission_preds_dtr = dtr_model.predict(pd.DataFrame(X_all_level2))"
   ]
  },
  {
   "cell_type": "markdown",
   "metadata": {},
   "source": [
    "# SUBMISSION\n",
    "Create the submission file to deliver."
   ]
  },
  {
   "cell_type": "code",
   "execution_count": 60,
   "metadata": {},
   "outputs": [
    {
     "data": {
      "text/plain": [
       "208"
      ]
     },
     "execution_count": 60,
     "metadata": {},
     "output_type": "execute_result"
    }
   ],
   "source": [
    "del(X_train)\n",
    "del(X_test)\n",
    "del(y_train)\n",
    "del(y_test)\n",
    "gc.collect()"
   ]
  },
  {
   "cell_type": "code",
   "execution_count": 48,
   "metadata": {},
   "outputs": [],
   "source": [
    "#Load test data to merge ID for submission\n",
    "\n",
    "#DATA_FOLDER = \"../input\" # en kernel de kaggle\n",
    "#DATA_FOLDER = \"../readonly/final_project_data\" # en coursera\n",
    "DATA_FOLDER = \"./data\"\n",
    "#print(os.listdir(DATA_FOLDER))\n",
    "\n",
    "test = pd.read_csv(os.path.join(DATA_FOLDER, 'test.csv.gz'))"
   ]
  },
  {
   "cell_type": "code",
   "execution_count": 68,
   "metadata": {},
   "outputs": [
    {
     "name": "stdout",
     "output_type": "stream",
     "text": [
      "\n",
      " ***  lcmix\n",
      "Test data is where date_block_num=34\n",
      "214200 214200 0.31411067 0.2824766656593687\n",
      "214200 214200 0.2824766656593687 0.28247666565936863\n",
      "./submissions/submission_stacking_lgb+en_with_lcmix.csv\n",
      "ID,item_cnt_month\n",
      "\n",
      "0,0.45225830056419286\n",
      "\n",
      "1,0.2548428366441489\n",
      "\n",
      "2,0.8662576455109305\n",
      "\n",
      "[...]\n",
      "\n",
      "214197,0.04462547164374604\n",
      "\n",
      "214198,0.03875681619297924\n",
      "\n",
      "214199,0.04159518825371332\n",
      "\n",
      "TOTAL lines: 214201 ( 214201 )\n",
      "\n",
      " ***  lr\n",
      "Test data is where date_block_num=34\n",
      "214200 214200 0.31411067 0.39053900098352556\n",
      "214200 214200 0.39053900098352556 0.39053900098352573\n",
      "./submissions/submission_stacking_lgb+en_with_lr.csv\n",
      "ID,item_cnt_month\n",
      "\n",
      "0,0.6818261246526268\n",
      "\n",
      "1,0.2760941866877772\n",
      "\n",
      "2,1.6234384072517205\n",
      "\n",
      "[...]\n",
      "\n",
      "214197,0.0\n",
      "\n",
      "214198,0.0\n",
      "\n",
      "214199,0.0\n",
      "\n",
      "TOTAL lines: 214201 ( 214201 )\n",
      "\n",
      " ***  dtr\n",
      "Test data is where date_block_num=34\n",
      "214200 214200 0.31411067 0.2545410980033136\n",
      "214200 214200 0.2545410980033136 0.2545410980033135\n",
      "./submissions/submission_stacking_lgb+en_with_dtr.csv\n",
      "ID,item_cnt_month\n",
      "\n",
      "0,0.0\n",
      "\n",
      "1,0.0\n",
      "\n",
      "2,0.0\n",
      "\n",
      "[...]\n",
      "\n",
      "214197,0.0\n",
      "\n",
      "214198,0.0\n",
      "\n",
      "214199,0.0\n",
      "\n",
      "TOTAL lines: 214201 ( 214201 )\n"
     ]
    }
   ],
   "source": [
    "for (submission_preds, name) in [(submission_preds_lcmix, 'lcmix'), (submission_preds_lr, 'lr'), (submission_preds_dtr, 'dtr')]:\n",
    "    print(\"\\n *** \",name)\n",
    "    \n",
    "    # Create submission dataframe\n",
    "    submission = data.create_submission_dataframe(submission_preds, all_data, test)\n",
    "\n",
    "    # Dump to file\n",
    "    submission_columns = ['ID','item_cnt_month']\n",
    "    submission_filename = './submissions/submission_stacking_lgb+en_with_'+name+'.csv'\n",
    "    submission[submission_columns].to_csv(submission_filename,header=True,index=False)\n",
    "\n",
    "    print(submission_filename)\n",
    "    tools.head_and_tail_file(submission_filename,N=3)"
   ]
  },
  {
   "cell_type": "code",
   "execution_count": 63,
   "metadata": {},
   "outputs": [],
   "source": [
    "# LCMIX SUBMISSION RESULT (PASSED)\n",
    "# grade: 8/10\n",
    "# Your public and private LB scores are: 0.943020 and 0.951271.\n",
    "\n",
    "# DTR SUBMISSION RESULT (FAILED)\n",
    "# grade: 0/10\n",
    "# Your public and private LB scores are: 1.199599 and 1.209538.\n",
    "   \n",
    "# LR SUBMISSION RESULT (FAILED)\n",
    "# grade: 3/10\n",
    "# Your public and private LB scores are: 1.087129 and 1.104233."
   ]
  },
  {
   "cell_type": "markdown",
   "metadata": {
    "collapsed": true
   },
   "source": [
    "# Future work\n",
    "\n",
    "Because of a lack of time I have left behind some aspects that could improve the solution:\n",
    "\n",
    "* Use text data, encoded as n-grams or TF-IDF (more advanced, pretrained word2vec for russian language)\n",
    "* Taking into account the evolution in the price of an `item_id`\n",
    "* Include KNN models and NN models\n",
    "* Try more stacking 2-nd level models, that may fit better"
   ]
  },
  {
   "cell_type": "code",
   "execution_count": null,
   "metadata": {
    "collapsed": true
   },
   "outputs": [],
   "source": []
  }
 ],
 "metadata": {
  "kernelspec": {
   "display_name": "Python 3",
   "language": "python",
   "name": "python3"
  },
  "language_info": {
   "codemirror_mode": {
    "name": "ipython",
    "version": 3
   },
   "file_extension": ".py",
   "mimetype": "text/x-python",
   "name": "python",
   "nbconvert_exporter": "python",
   "pygments_lexer": "ipython3",
   "version": "3.6.7"
  }
 },
 "nbformat": 4,
 "nbformat_minor": 2
}
