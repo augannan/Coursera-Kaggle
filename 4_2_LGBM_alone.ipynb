{
 "cells": [
  {
   "cell_type": "markdown",
   "metadata": {},
   "source": [
    "# FINAL PROJECT: LightGBM MODEL ALONE"
   ]
  },
  {
   "cell_type": "markdown",
   "metadata": {},
   "source": [
    "You can find all the data in `../readonly/final_project_data` folder or download it from [Kaggle](https://inclass.kaggle.com/c/competitive-data-science-final-project) if you are solving locally. \n",
    "\n",
    "**Good luck!**"
   ]
  },
  {
   "cell_type": "markdown",
   "metadata": {},
   "source": [
    "# Competition description\n",
    "\n",
    "This challenge serves as final project for the _\"How to win a data science competition\"_ Coursera course.\n",
    "\n",
    "In this competition you will work with a challenging time-series dataset consisting of daily sales data, kindly provided by one of the largest Russian software firms - __1C Company__.\n",
    "\n",
    "We are asking you to __predict total sales for every product and store in the next month__. By solving this competition you will be able to apply and enhance your data science skills.\n",
    "\n",
    "### Submission File\n",
    "\n",
    "For each id in the test set, you must predict a total number of sales. The file should contain a header and have the following format:\n",
    "\n",
    "`ID,item_cnt_month\n",
    "0,0.5\n",
    "1,0.5\n",
    "2,0.5\n",
    "3,0.5\n",
    "etc.`\n",
    "\n",
    "### Team Limits\n",
    "\n",
    "Three individuals.\n",
    "\n",
    "### Submission Limits\n",
    "\n",
    "You may submit a maximum of 5 entries per day (10 for Coursera).\n",
    "\n",
    "### Metric\n",
    "\n",
    "Submissions are evaluated by root mean squared error (__RMSE__). True target values are clipped into [0,20] range."
   ]
  },
  {
   "cell_type": "code",
   "execution_count": 1,
   "metadata": {},
   "outputs": [],
   "source": [
    "target_range = [0, 20]"
   ]
  },
  {
   "cell_type": "markdown",
   "metadata": {},
   "source": [
    "### Leaderboard\n",
    "By now lowest RMSE in PL is: `0.79215`\n",
    "with `210` submissions"
   ]
  },
  {
   "cell_type": "markdown",
   "metadata": {},
   "source": [
    "# Imports"
   ]
  },
  {
   "cell_type": "code",
   "execution_count": 2,
   "metadata": {},
   "outputs": [],
   "source": [
    "from IPython.core.interactiveshell import InteractiveShell\n",
    "InteractiveShell.ast_node_interactivity = \"all\"\n",
    "\n",
    "from IPython.display import display, HTML\n",
    "\n",
    "import os, gc, math, time, datetime\n",
    "\n",
    "import pandas as pd\n",
    "import numpy as np\n",
    "\n",
    "import matplotlib.pyplot as plt\n",
    "%matplotlib inline \n",
    "\n",
    "from itertools import product\n",
    "import scipy\n",
    "\n",
    "from tqdm import tqdm, tqdm_notebook\n",
    "tqdm.monitor_interval = 0\n",
    "\n",
    "import data\n",
    "from data import index_cols, index_cols_shop, future_index_cols\n",
    "import features\n",
    "import tools\n",
    "import models\n",
    "\n",
    "%load_ext autoreload\n",
    "%autoreload 2"
   ]
  },
  {
   "cell_type": "code",
   "execution_count": 3,
   "metadata": {},
   "outputs": [
    {
     "name": "stdout",
     "output_type": "stream",
     "text": [
      "numpy 1.17.0\n",
      "pandas 0.25.0\n",
      "sklearn 0.21.3\n",
      "scipy 1.3.0\n"
     ]
    }
   ],
   "source": [
    "import sklearn\n",
    "for p in [np, pd, sklearn, scipy]:\n",
    "    print (p.__name__, p.__version__)"
   ]
  },
  {
   "cell_type": "markdown",
   "metadata": {},
   "source": [
    "# Load features\n",
    "\n",
    "Preprocessed, from disk."
   ]
  },
  {
   "cell_type": "code",
   "execution_count": 4,
   "metadata": {},
   "outputs": [],
   "source": [
    "all_data = features.load_features()"
   ]
  },
  {
   "cell_type": "code",
   "execution_count": 5,
   "metadata": {
    "scrolled": true
   },
   "outputs": [
    {
     "name": "stdout",
     "output_type": "stream",
     "text": [
      "\n",
      "ALL_DATA (6639294, 44)\n",
      "shop_id                       int32\n",
      "item_id                       int32\n",
      "date_block_num                int32\n",
      "target                      float32\n",
      "revenue                     float32\n",
      "target_shop                 float32\n",
      "revenue_per_shop            float32\n",
      "target_item                 float32\n",
      "revenue_per_item            float32\n",
      "item_category_id              int32\n",
      "target_category             float32\n",
      "revenue_per_category        float32\n",
      "target_item_price           float32\n",
      "item_category_id_enc        float32\n",
      "target_lag_1                float32\n",
      "target_lag_2                float32\n",
      "target_lag_3                float32\n",
      "target_lag_4                float32\n",
      "target_lag_5                float32\n",
      "target_lag_12               float32\n",
      "target_shop_lag_1           float32\n",
      "target_shop_lag_2           float32\n",
      "target_shop_lag_3           float32\n",
      "target_shop_lag_4           float32\n",
      "target_shop_lag_5           float32\n",
      "target_shop_lag_12          float32\n",
      "target_item_lag_1           float32\n",
      "target_item_lag_2           float32\n",
      "target_item_lag_3           float32\n",
      "target_item_lag_4           float32\n",
      "target_item_lag_5           float32\n",
      "target_item_lag_12          float32\n",
      "target_category_lag_1       float32\n",
      "target_category_lag_2       float32\n",
      "target_category_lag_3       float32\n",
      "target_category_lag_4       float32\n",
      "target_category_lag_5       float32\n",
      "target_category_lag_12      float32\n",
      "target_item_price_lag_1     float32\n",
      "target_item_price_lag_2     float32\n",
      "target_item_price_lag_3     float32\n",
      "target_item_price_lag_4     float32\n",
      "target_item_price_lag_5     float32\n",
      "target_item_price_lag_12    float32\n",
      "dtype: object\n"
     ]
    },
    {
     "data": {
      "text/html": [
       "<div>\n",
       "<style scoped>\n",
       "    .dataframe tbody tr th:only-of-type {\n",
       "        vertical-align: middle;\n",
       "    }\n",
       "\n",
       "    .dataframe tbody tr th {\n",
       "        vertical-align: top;\n",
       "    }\n",
       "\n",
       "    .dataframe thead th {\n",
       "        text-align: right;\n",
       "    }\n",
       "</style>\n",
       "<table border=\"1\" class=\"dataframe\">\n",
       "  <thead>\n",
       "    <tr style=\"text-align: right;\">\n",
       "      <th></th>\n",
       "      <th>shop_id</th>\n",
       "      <th>item_id</th>\n",
       "      <th>date_block_num</th>\n",
       "      <th>target</th>\n",
       "      <th>revenue</th>\n",
       "      <th>target_shop</th>\n",
       "      <th>revenue_per_shop</th>\n",
       "      <th>target_item</th>\n",
       "      <th>revenue_per_item</th>\n",
       "      <th>item_category_id</th>\n",
       "      <th>...</th>\n",
       "      <th>target_category_lag_3</th>\n",
       "      <th>target_category_lag_4</th>\n",
       "      <th>target_category_lag_5</th>\n",
       "      <th>target_category_lag_12</th>\n",
       "      <th>target_item_price_lag_1</th>\n",
       "      <th>target_item_price_lag_2</th>\n",
       "      <th>target_item_price_lag_3</th>\n",
       "      <th>target_item_price_lag_4</th>\n",
       "      <th>target_item_price_lag_5</th>\n",
       "      <th>target_item_price_lag_12</th>\n",
       "    </tr>\n",
       "  </thead>\n",
       "  <tbody>\n",
       "    <tr>\n",
       "      <th>4488756</th>\n",
       "      <td>2</td>\n",
       "      <td>27</td>\n",
       "      <td>12</td>\n",
       "      <td>0.0</td>\n",
       "      <td>0.0</td>\n",
       "      <td>890.0</td>\n",
       "      <td>1032722.0</td>\n",
       "      <td>1.0</td>\n",
       "      <td>998.0</td>\n",
       "      <td>19</td>\n",
       "      <td>...</td>\n",
       "      <td>14113.0</td>\n",
       "      <td>18932.0</td>\n",
       "      <td>10488.0</td>\n",
       "      <td>8983.0</td>\n",
       "      <td>1048.000000</td>\n",
       "      <td>1198.000000</td>\n",
       "      <td>942.266663</td>\n",
       "      <td>1198.0</td>\n",
       "      <td>1198.000000</td>\n",
       "      <td>2325.0</td>\n",
       "    </tr>\n",
       "    <tr>\n",
       "      <th>4488757</th>\n",
       "      <td>2</td>\n",
       "      <td>30</td>\n",
       "      <td>12</td>\n",
       "      <td>0.0</td>\n",
       "      <td>0.0</td>\n",
       "      <td>890.0</td>\n",
       "      <td>1032722.0</td>\n",
       "      <td>58.0</td>\n",
       "      <td>9802.0</td>\n",
       "      <td>40</td>\n",
       "      <td>...</td>\n",
       "      <td>24173.0</td>\n",
       "      <td>23348.0</td>\n",
       "      <td>24130.0</td>\n",
       "      <td>0.0</td>\n",
       "      <td>167.330856</td>\n",
       "      <td>165.217392</td>\n",
       "      <td>205.524994</td>\n",
       "      <td>399.0</td>\n",
       "      <td>384.894745</td>\n",
       "      <td>0.0</td>\n",
       "    </tr>\n",
       "    <tr>\n",
       "      <th>4488758</th>\n",
       "      <td>2</td>\n",
       "      <td>31</td>\n",
       "      <td>12</td>\n",
       "      <td>0.0</td>\n",
       "      <td>0.0</td>\n",
       "      <td>890.0</td>\n",
       "      <td>1032722.0</td>\n",
       "      <td>15.0</td>\n",
       "      <td>7485.0</td>\n",
       "      <td>37</td>\n",
       "      <td>...</td>\n",
       "      <td>6950.0</td>\n",
       "      <td>7659.0</td>\n",
       "      <td>8680.0</td>\n",
       "      <td>0.0</td>\n",
       "      <td>499.000000</td>\n",
       "      <td>488.377777</td>\n",
       "      <td>543.528015</td>\n",
       "      <td>699.0</td>\n",
       "      <td>688.400024</td>\n",
       "      <td>0.0</td>\n",
       "    </tr>\n",
       "  </tbody>\n",
       "</table>\n",
       "<p>3 rows × 44 columns</p>\n",
       "</div>"
      ],
      "text/plain": [
       "         shop_id  item_id  date_block_num  target  revenue  target_shop  \\\n",
       "4488756        2       27              12     0.0      0.0        890.0   \n",
       "4488757        2       30              12     0.0      0.0        890.0   \n",
       "4488758        2       31              12     0.0      0.0        890.0   \n",
       "\n",
       "         revenue_per_shop  target_item  revenue_per_item  item_category_id  \\\n",
       "4488756         1032722.0          1.0             998.0                19   \n",
       "4488757         1032722.0         58.0            9802.0                40   \n",
       "4488758         1032722.0         15.0            7485.0                37   \n",
       "\n",
       "         ...  target_category_lag_3  target_category_lag_4  \\\n",
       "4488756  ...                14113.0                18932.0   \n",
       "4488757  ...                24173.0                23348.0   \n",
       "4488758  ...                 6950.0                 7659.0   \n",
       "\n",
       "         target_category_lag_5  target_category_lag_12  \\\n",
       "4488756                10488.0                  8983.0   \n",
       "4488757                24130.0                     0.0   \n",
       "4488758                 8680.0                     0.0   \n",
       "\n",
       "         target_item_price_lag_1  target_item_price_lag_2  \\\n",
       "4488756              1048.000000              1198.000000   \n",
       "4488757               167.330856               165.217392   \n",
       "4488758               499.000000               488.377777   \n",
       "\n",
       "         target_item_price_lag_3  target_item_price_lag_4  \\\n",
       "4488756               942.266663                   1198.0   \n",
       "4488757               205.524994                    399.0   \n",
       "4488758               543.528015                    699.0   \n",
       "\n",
       "         target_item_price_lag_5  target_item_price_lag_12  \n",
       "4488756              1198.000000                    2325.0  \n",
       "4488757               384.894745                       0.0  \n",
       "4488758               688.400024                       0.0  \n",
       "\n",
       "[3 rows x 44 columns]"
      ]
     },
     "metadata": {},
     "output_type": "display_data"
    },
    {
     "data": {
      "text/html": [
       "<div>\n",
       "<style scoped>\n",
       "    .dataframe tbody tr th:only-of-type {\n",
       "        vertical-align: middle;\n",
       "    }\n",
       "\n",
       "    .dataframe tbody tr th {\n",
       "        vertical-align: top;\n",
       "    }\n",
       "\n",
       "    .dataframe thead th {\n",
       "        text-align: right;\n",
       "    }\n",
       "</style>\n",
       "<table border=\"1\" class=\"dataframe\">\n",
       "  <thead>\n",
       "    <tr style=\"text-align: right;\">\n",
       "      <th></th>\n",
       "      <th>shop_id</th>\n",
       "      <th>item_id</th>\n",
       "      <th>date_block_num</th>\n",
       "      <th>target</th>\n",
       "      <th>revenue</th>\n",
       "      <th>target_shop</th>\n",
       "      <th>revenue_per_shop</th>\n",
       "      <th>target_item</th>\n",
       "      <th>revenue_per_item</th>\n",
       "      <th>item_category_id</th>\n",
       "      <th>...</th>\n",
       "      <th>target_category_lag_3</th>\n",
       "      <th>target_category_lag_4</th>\n",
       "      <th>target_category_lag_5</th>\n",
       "      <th>target_category_lag_12</th>\n",
       "      <th>target_item_price_lag_1</th>\n",
       "      <th>target_item_price_lag_2</th>\n",
       "      <th>target_item_price_lag_3</th>\n",
       "      <th>target_item_price_lag_4</th>\n",
       "      <th>target_item_price_lag_5</th>\n",
       "      <th>target_item_price_lag_12</th>\n",
       "    </tr>\n",
       "  </thead>\n",
       "  <tbody>\n",
       "    <tr>\n",
       "      <th>11128047</th>\n",
       "      <td>59</td>\n",
       "      <td>22164</td>\n",
       "      <td>34</td>\n",
       "      <td>0.0</td>\n",
       "      <td>0.0</td>\n",
       "      <td>0.0</td>\n",
       "      <td>0.0</td>\n",
       "      <td>0.0</td>\n",
       "      <td>0.0</td>\n",
       "      <td>37</td>\n",
       "      <td>...</td>\n",
       "      <td>3426.0</td>\n",
       "      <td>3291.0</td>\n",
       "      <td>3756.0</td>\n",
       "      <td>0.0</td>\n",
       "      <td>549.000000</td>\n",
       "      <td>549.0</td>\n",
       "      <td>631.5</td>\n",
       "      <td>699.0</td>\n",
       "      <td>699.000000</td>\n",
       "      <td>0.0</td>\n",
       "    </tr>\n",
       "    <tr>\n",
       "      <th>11128048</th>\n",
       "      <td>59</td>\n",
       "      <td>22166</td>\n",
       "      <td>34</td>\n",
       "      <td>0.0</td>\n",
       "      <td>0.0</td>\n",
       "      <td>0.0</td>\n",
       "      <td>0.0</td>\n",
       "      <td>0.0</td>\n",
       "      <td>0.0</td>\n",
       "      <td>54</td>\n",
       "      <td>...</td>\n",
       "      <td>264.0</td>\n",
       "      <td>276.0</td>\n",
       "      <td>292.0</td>\n",
       "      <td>305.0</td>\n",
       "      <td>150.000000</td>\n",
       "      <td>150.0</td>\n",
       "      <td>150.0</td>\n",
       "      <td>150.0</td>\n",
       "      <td>150.000000</td>\n",
       "      <td>150.0</td>\n",
       "    </tr>\n",
       "    <tr>\n",
       "      <th>11128049</th>\n",
       "      <td>59</td>\n",
       "      <td>22167</td>\n",
       "      <td>34</td>\n",
       "      <td>0.0</td>\n",
       "      <td>0.0</td>\n",
       "      <td>0.0</td>\n",
       "      <td>0.0</td>\n",
       "      <td>0.0</td>\n",
       "      <td>0.0</td>\n",
       "      <td>49</td>\n",
       "      <td>...</td>\n",
       "      <td>571.0</td>\n",
       "      <td>669.0</td>\n",
       "      <td>699.0</td>\n",
       "      <td>760.0</td>\n",
       "      <td>293.895935</td>\n",
       "      <td>299.0</td>\n",
       "      <td>299.0</td>\n",
       "      <td>299.0</td>\n",
       "      <td>294.636353</td>\n",
       "      <td>299.0</td>\n",
       "    </tr>\n",
       "  </tbody>\n",
       "</table>\n",
       "<p>3 rows × 44 columns</p>\n",
       "</div>"
      ],
      "text/plain": [
       "          shop_id  item_id  date_block_num  target  revenue  target_shop  \\\n",
       "11128047       59    22164              34     0.0      0.0          0.0   \n",
       "11128048       59    22166              34     0.0      0.0          0.0   \n",
       "11128049       59    22167              34     0.0      0.0          0.0   \n",
       "\n",
       "          revenue_per_shop  target_item  revenue_per_item  item_category_id  \\\n",
       "11128047               0.0          0.0               0.0                37   \n",
       "11128048               0.0          0.0               0.0                54   \n",
       "11128049               0.0          0.0               0.0                49   \n",
       "\n",
       "          ...  target_category_lag_3  target_category_lag_4  \\\n",
       "11128047  ...                 3426.0                 3291.0   \n",
       "11128048  ...                  264.0                  276.0   \n",
       "11128049  ...                  571.0                  669.0   \n",
       "\n",
       "          target_category_lag_5  target_category_lag_12  \\\n",
       "11128047                 3756.0                     0.0   \n",
       "11128048                  292.0                   305.0   \n",
       "11128049                  699.0                   760.0   \n",
       "\n",
       "          target_item_price_lag_1  target_item_price_lag_2  \\\n",
       "11128047               549.000000                    549.0   \n",
       "11128048               150.000000                    150.0   \n",
       "11128049               293.895935                    299.0   \n",
       "\n",
       "          target_item_price_lag_3  target_item_price_lag_4  \\\n",
       "11128047                    631.5                    699.0   \n",
       "11128048                    150.0                    150.0   \n",
       "11128049                    299.0                    299.0   \n",
       "\n",
       "          target_item_price_lag_5  target_item_price_lag_12  \n",
       "11128047               699.000000                       0.0  \n",
       "11128048               150.000000                     150.0  \n",
       "11128049               294.636353                     299.0  \n",
       "\n",
       "[3 rows x 44 columns]"
      ]
     },
     "metadata": {},
     "output_type": "display_data"
    }
   ],
   "source": [
    "# Check\n",
    "data.inspect_dataframe('ALL_DATA', all_data)"
   ]
  },
  {
   "cell_type": "markdown",
   "metadata": {},
   "source": [
    "# Data split\n",
    "\n",
    "The dataset has a timeline, get last month of train as validation data.\n",
    "\n",
    "And the month=34 is the X_test for final submission."
   ]
  },
  {
   "cell_type": "code",
   "execution_count": 6,
   "metadata": {},
   "outputs": [
    {
     "name": "stdout",
     "output_type": "stream",
     "text": [
      "Test data is where date_block_num=34\n",
      "Validation data is where date_block_num=33\n",
      "\n",
      "fit_cols: ['item_category_id', 'item_category_id_enc', 'target_lag_1', 'target_lag_2', 'target_lag_3', 'target_lag_4', 'target_lag_5', 'target_lag_12', 'target_shop_lag_1', 'target_shop_lag_2', 'target_shop_lag_3', 'target_shop_lag_4', 'target_shop_lag_5', 'target_shop_lag_12', 'target_item_lag_1', 'target_item_lag_2', 'target_item_lag_3', 'target_item_lag_4', 'target_item_lag_5', 'target_item_lag_12', 'target_category_lag_1', 'target_category_lag_2', 'target_category_lag_3', 'target_category_lag_4', 'target_category_lag_5', 'target_category_lag_12', 'target_item_price_lag_1', 'target_item_price_lag_2', 'target_item_price_lag_3', 'target_item_price_lag_4', 'target_item_price_lag_5', 'target_item_price_lag_12'] 32 \n",
      "\n",
      "train validation test total\n",
      "6186922 238172 214200 6639294\n",
      "6186922 238172 214200 6639294\n"
     ]
    }
   ],
   "source": [
    "X_train, y_train, X_val, y_val, X_test, y_test = data.split(all_data)"
   ]
  },
  {
   "cell_type": "markdown",
   "metadata": {},
   "source": [
    "# MODEL\n",
    "Use the pre-tuned LightGBM model."
   ]
  },
  {
   "cell_type": "code",
   "execution_count": 7,
   "metadata": {},
   "outputs": [
    {
     "name": "stdout",
     "output_type": "stream",
     "text": [
      "2019-08-06 12:16:18.938248\n",
      " ** predictions clipping to [0, 20]\n",
      "elapsed training time: 155.42\n"
     ]
    }
   ],
   "source": [
    "# Fit\n",
    "lgb_model = models.modelLGB(target_range)\n",
    "lgb_model.fit(X_train,y_train)"
   ]
  },
  {
   "cell_type": "code",
   "execution_count": 8,
   "metadata": {},
   "outputs": [
    {
     "name": "stdout",
     "output_type": "stream",
     "text": [
      " ** predictions clipping to [0, 20]\n",
      "elapsed infer time: 81.06\n",
      " ** predictions clipping to [0, 20]\n",
      "Train RMSE for LightGBM is 0.849574\n",
      " ** predictions clipping to [0, 20]\n",
      "elapsed infer time: 3.07\n",
      " ** predictions clipping to [0, 20]\n",
      "Dev RMSE for LightGBM is 0.932113\n"
     ]
    }
   ],
   "source": [
    "# Score\n",
    "lgb_model.scoring(X_val, y_val, X_train, y_train)"
   ]
  },
  {
   "cell_type": "code",
   "execution_count": 10,
   "metadata": {},
   "outputs": [
    {
     "name": "stdout",
     "output_type": "stream",
     "text": [
      " ** predictions clipping to [0, 20]\n",
      "elapsed infer time: 2.85\n"
     ]
    }
   ],
   "source": [
    "# Predictions\n",
    "submission_preds = lgb_model.predict(X_test)"
   ]
  },
  {
   "cell_type": "markdown",
   "metadata": {},
   "source": [
    "# SUBMISSION\n",
    "Create the submission file to deliver."
   ]
  },
  {
   "cell_type": "code",
   "execution_count": 11,
   "metadata": {},
   "outputs": [],
   "source": [
    "#Load test data to merge ID for submission\n",
    "\n",
    "#DATA_FOLDER = \"../input\" # en kernel de kaggle\n",
    "#DATA_FOLDER = \"../readonly/final_project_data\" # en coursera\n",
    "DATA_FOLDER = \"./data\"\n",
    "#print(os.listdir(DATA_FOLDER))\n",
    "\n",
    "test = pd.read_csv(os.path.join(DATA_FOLDER, 'test.csv.gz'))"
   ]
  },
  {
   "cell_type": "code",
   "execution_count": 12,
   "metadata": {},
   "outputs": [
    {
     "name": "stdout",
     "output_type": "stream",
     "text": [
      "Test data is where date_block_num=34\n",
      "214200 214200 0.31411067 0.27401611068796244\n",
      "214200 214200 0.27401611068796244 0.2740161106879624\n"
     ]
    }
   ],
   "source": [
    "# Create submission dataframe\n",
    "submission = data.create_submission_dataframe(submission_preds, all_data, test)"
   ]
  },
  {
   "cell_type": "code",
   "execution_count": 13,
   "metadata": {},
   "outputs": [],
   "source": [
    "# Dump to file\n",
    "submission_columns = ['ID','item_cnt_month']\n",
    "submission_filename = './submissions/submission_lgb_alone.csv'\n",
    "submission[submission_columns].to_csv(submission_filename,header=True,index=False)"
   ]
  },
  {
   "cell_type": "code",
   "execution_count": 32,
   "metadata": {},
   "outputs": [
    {
     "name": "stdout",
     "output_type": "stream",
     "text": [
      "ID,item_cnt_month\n",
      "\n",
      "0,0.43617984067087795\n",
      "\n",
      "1,0.25680334852161013\n",
      "\n",
      "2,0.8883829092045413\n",
      "\n",
      "[...]\n",
      "\n",
      "214197,0.03676252523419804\n",
      "\n",
      "214198,0.0322369071103519\n",
      "\n",
      "214199,0.0322369071103519\n",
      "\n",
      "TOTAL lines: 214201 ( 214201 )\n"
     ]
    }
   ],
   "source": [
    "tools.head_and_tail_file(submission_filename,N=3)"
   ]
  },
  {
   "cell_type": "code",
   "execution_count": 33,
   "metadata": {},
   "outputs": [],
   "source": [
    "# SUBMISSION RESULT (PASSED)\n",
    "# grade: 10/10\n",
    "# Your public and private LB scores are: 0.939900 and 0.949492."
   ]
  },
  {
   "cell_type": "markdown",
   "metadata": {
    "collapsed": true
   },
   "source": [
    "# Future work\n",
    "\n",
    "Because of a lack of time I have left behind some aspects that could improve the solution:\n",
    "\n",
    "* Use text data, encoded as n-grams or TF-IDF (more advanced, pretrained word2vec for russian language)\n",
    "* Include KNN features\n",
    "* Ensemble or stacking of models"
   ]
  },
  {
   "cell_type": "code",
   "execution_count": null,
   "metadata": {
    "collapsed": true
   },
   "outputs": [],
   "source": []
  }
 ],
 "metadata": {
  "kernelspec": {
   "display_name": "Python 3",
   "language": "python",
   "name": "python3"
  },
  "language_info": {
   "codemirror_mode": {
    "name": "ipython",
    "version": 3
   },
   "file_extension": ".py",
   "mimetype": "text/x-python",
   "name": "python",
   "nbconvert_exporter": "python",
   "pygments_lexer": "ipython3",
   "version": "3.6.7"
  }
 },
 "nbformat": 4,
 "nbformat_minor": 2
}
