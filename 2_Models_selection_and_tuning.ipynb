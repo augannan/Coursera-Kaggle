{
 "cells": [
  {
   "cell_type": "markdown",
   "metadata": {},
   "source": [
    "# FINAL PROJECT: TUNING SOME MODELS"
   ]
  },
  {
   "cell_type": "markdown",
   "metadata": {},
   "source": [
    "You can find all the data in `../readonly/final_project_data` folder or download it from [Kaggle](https://inclass.kaggle.com/c/competitive-data-science-final-project) if you are solving locally. \n",
    "\n",
    "**Good luck!**"
   ]
  },
  {
   "cell_type": "markdown",
   "metadata": {},
   "source": [
    "# Competition description\n",
    "\n",
    "This challenge serves as final project for the _\"How to win a data science competition\"_ Coursera course.\n",
    "\n",
    "In this competition you will work with a challenging time-series dataset consisting of daily sales data, kindly provided by one of the largest Russian software firms - __1C Company__.\n",
    "\n",
    "We are asking you to __predict total sales for every product and store in the next month__. By solving this competition you will be able to apply and enhance your data science skills.\n",
    "\n",
    "### Submission File\n",
    "\n",
    "For each id in the test set, you must predict a total number of sales. The file should contain a header and have the following format:\n",
    "\n",
    "`ID,item_cnt_month\n",
    "0,0.5\n",
    "1,0.5\n",
    "2,0.5\n",
    "3,0.5\n",
    "etc.`\n",
    "\n",
    "### Team Limits\n",
    "\n",
    "Three individuals.\n",
    "\n",
    "### Submission Limits\n",
    "\n",
    "You may submit a maximum of 5 entries per day (10 for Coursera).\n",
    "\n",
    "### Metric\n",
    "\n",
    "Submissions are evaluated by root mean squared error (__RMSE__). True target values are clipped into [0,20] range."
   ]
  },
  {
   "cell_type": "code",
   "execution_count": 1,
   "metadata": {},
   "outputs": [],
   "source": [
    "target_range = [0, 20]"
   ]
  },
  {
   "cell_type": "markdown",
   "metadata": {},
   "source": [
    "### Leaderboard\n",
    "By now lowest RMSE in PL is: `0.79215`\n",
    "with `210` submissions"
   ]
  },
  {
   "cell_type": "markdown",
   "metadata": {},
   "source": [
    "# Imports"
   ]
  },
  {
   "cell_type": "code",
   "execution_count": 2,
   "metadata": {},
   "outputs": [],
   "source": [
    "import torch"
   ]
  },
  {
   "cell_type": "code",
   "execution_count": 3,
   "metadata": {},
   "outputs": [],
   "source": [
    "from IPython.core.interactiveshell import InteractiveShell\n",
    "InteractiveShell.ast_node_interactivity = \"all\"\n",
    "\n",
    "from IPython.display import display, HTML\n",
    "\n",
    "import os, gc, math, time, datetime\n",
    "\n",
    "import pandas as pd\n",
    "import numpy as np\n",
    "\n",
    "import matplotlib.pyplot as plt\n",
    "%matplotlib inline \n",
    "\n",
    "from itertools import product\n",
    "\n",
    "import lightgbm as lgb\n",
    "from sklearn import feature_extraction\n",
    "from sklearn.svm import SVR\n",
    "from sklearn.linear_model import LinearRegression, ElasticNet, ElasticNetCV\n",
    "from sklearn.preprocessing import PolynomialFeatures\n",
    "from sklearn.pipeline import Pipeline\n",
    "from sklearn.neighbors import KNeighborsRegressor\n",
    "from sklearn.ensemble import RandomForestRegressor\n",
    "from sklearn.metrics import r2_score, mean_squared_error\n",
    "from sklearn.model_selection import GridSearchCV, PredefinedSplit\n",
    "from sklearn.tree import DecisionTreeRegressor\n",
    "\n",
    "import data\n",
    "from data import index_cols, index_cols_shop, future_index_cols\n",
    "from features import target_cols\n",
    "import features\n",
    "import tools\n",
    "\n",
    "import models\n",
    "from models import scoring\n",
    "\n",
    "%load_ext autoreload\n",
    "%autoreload 2"
   ]
  },
  {
   "cell_type": "code",
   "execution_count": 4,
   "metadata": {},
   "outputs": [
    {
     "name": "stdout",
     "output_type": "stream",
     "text": [
      "numpy 1.17.0\n",
      "pandas 0.25.0\n",
      "sklearn 0.21.3\n",
      "scipy 1.3.0\n",
      "torch 1.1.0\n",
      "lightgbm 2.0.6\n"
     ]
    }
   ],
   "source": [
    "import sklearn\n",
    "import scipy.sparse \n",
    "for p in [np, pd, sklearn, scipy, torch, lgb]:\n",
    "    print (p.__name__, p.__version__)"
   ]
  },
  {
   "cell_type": "markdown",
   "metadata": {},
   "source": [
    "# Load features\n",
    "\n",
    "Load features from disk."
   ]
  },
  {
   "cell_type": "code",
   "execution_count": 5,
   "metadata": {},
   "outputs": [],
   "source": [
    "all_data = features.load_features()"
   ]
  },
  {
   "cell_type": "code",
   "execution_count": 6,
   "metadata": {
    "scrolled": true
   },
   "outputs": [
    {
     "name": "stdout",
     "output_type": "stream",
     "text": [
      "\n",
      "ALL_DATA (6639294, 44)\n",
      "shop_id                       int32\n",
      "item_id                       int32\n",
      "date_block_num                int32\n",
      "target                      float32\n",
      "revenue                     float32\n",
      "target_shop                 float32\n",
      "revenue_per_shop            float32\n",
      "target_item                 float32\n",
      "revenue_per_item            float32\n",
      "item_category_id              int32\n",
      "target_category             float32\n",
      "revenue_per_category        float32\n",
      "target_item_price           float32\n",
      "item_category_id_enc        float32\n",
      "target_lag_1                float32\n",
      "target_lag_2                float32\n",
      "target_lag_3                float32\n",
      "target_lag_4                float32\n",
      "target_lag_5                float32\n",
      "target_lag_12               float32\n",
      "target_shop_lag_1           float32\n",
      "target_shop_lag_2           float32\n",
      "target_shop_lag_3           float32\n",
      "target_shop_lag_4           float32\n",
      "target_shop_lag_5           float32\n",
      "target_shop_lag_12          float32\n",
      "target_item_lag_1           float32\n",
      "target_item_lag_2           float32\n",
      "target_item_lag_3           float32\n",
      "target_item_lag_4           float32\n",
      "target_item_lag_5           float32\n",
      "target_item_lag_12          float32\n",
      "target_category_lag_1       float32\n",
      "target_category_lag_2       float32\n",
      "target_category_lag_3       float32\n",
      "target_category_lag_4       float32\n",
      "target_category_lag_5       float32\n",
      "target_category_lag_12      float32\n",
      "target_item_price_lag_1     float32\n",
      "target_item_price_lag_2     float32\n",
      "target_item_price_lag_3     float32\n",
      "target_item_price_lag_4     float32\n",
      "target_item_price_lag_5     float32\n",
      "target_item_price_lag_12    float32\n",
      "dtype: object\n"
     ]
    },
    {
     "data": {
      "text/html": [
       "<div>\n",
       "<style scoped>\n",
       "    .dataframe tbody tr th:only-of-type {\n",
       "        vertical-align: middle;\n",
       "    }\n",
       "\n",
       "    .dataframe tbody tr th {\n",
       "        vertical-align: top;\n",
       "    }\n",
       "\n",
       "    .dataframe thead th {\n",
       "        text-align: right;\n",
       "    }\n",
       "</style>\n",
       "<table border=\"1\" class=\"dataframe\">\n",
       "  <thead>\n",
       "    <tr style=\"text-align: right;\">\n",
       "      <th></th>\n",
       "      <th>shop_id</th>\n",
       "      <th>item_id</th>\n",
       "      <th>date_block_num</th>\n",
       "      <th>target</th>\n",
       "      <th>revenue</th>\n",
       "      <th>target_shop</th>\n",
       "      <th>revenue_per_shop</th>\n",
       "      <th>target_item</th>\n",
       "      <th>revenue_per_item</th>\n",
       "      <th>item_category_id</th>\n",
       "      <th>...</th>\n",
       "      <th>target_category_lag_3</th>\n",
       "      <th>target_category_lag_4</th>\n",
       "      <th>target_category_lag_5</th>\n",
       "      <th>target_category_lag_12</th>\n",
       "      <th>target_item_price_lag_1</th>\n",
       "      <th>target_item_price_lag_2</th>\n",
       "      <th>target_item_price_lag_3</th>\n",
       "      <th>target_item_price_lag_4</th>\n",
       "      <th>target_item_price_lag_5</th>\n",
       "      <th>target_item_price_lag_12</th>\n",
       "    </tr>\n",
       "  </thead>\n",
       "  <tbody>\n",
       "    <tr>\n",
       "      <th>4488756</th>\n",
       "      <td>2</td>\n",
       "      <td>27</td>\n",
       "      <td>12</td>\n",
       "      <td>0.0</td>\n",
       "      <td>0.0</td>\n",
       "      <td>890.0</td>\n",
       "      <td>1032722.0</td>\n",
       "      <td>1.0</td>\n",
       "      <td>998.0</td>\n",
       "      <td>19</td>\n",
       "      <td>...</td>\n",
       "      <td>14113.0</td>\n",
       "      <td>18932.0</td>\n",
       "      <td>10488.0</td>\n",
       "      <td>8983.0</td>\n",
       "      <td>1048.000000</td>\n",
       "      <td>1198.000000</td>\n",
       "      <td>942.266663</td>\n",
       "      <td>1198.0</td>\n",
       "      <td>1198.000000</td>\n",
       "      <td>2325.0</td>\n",
       "    </tr>\n",
       "    <tr>\n",
       "      <th>4488757</th>\n",
       "      <td>2</td>\n",
       "      <td>30</td>\n",
       "      <td>12</td>\n",
       "      <td>0.0</td>\n",
       "      <td>0.0</td>\n",
       "      <td>890.0</td>\n",
       "      <td>1032722.0</td>\n",
       "      <td>58.0</td>\n",
       "      <td>9802.0</td>\n",
       "      <td>40</td>\n",
       "      <td>...</td>\n",
       "      <td>24173.0</td>\n",
       "      <td>23348.0</td>\n",
       "      <td>24130.0</td>\n",
       "      <td>0.0</td>\n",
       "      <td>167.330856</td>\n",
       "      <td>165.217392</td>\n",
       "      <td>205.524994</td>\n",
       "      <td>399.0</td>\n",
       "      <td>384.894745</td>\n",
       "      <td>0.0</td>\n",
       "    </tr>\n",
       "    <tr>\n",
       "      <th>4488758</th>\n",
       "      <td>2</td>\n",
       "      <td>31</td>\n",
       "      <td>12</td>\n",
       "      <td>0.0</td>\n",
       "      <td>0.0</td>\n",
       "      <td>890.0</td>\n",
       "      <td>1032722.0</td>\n",
       "      <td>15.0</td>\n",
       "      <td>7485.0</td>\n",
       "      <td>37</td>\n",
       "      <td>...</td>\n",
       "      <td>6950.0</td>\n",
       "      <td>7659.0</td>\n",
       "      <td>8680.0</td>\n",
       "      <td>0.0</td>\n",
       "      <td>499.000000</td>\n",
       "      <td>488.377777</td>\n",
       "      <td>543.528015</td>\n",
       "      <td>699.0</td>\n",
       "      <td>688.400024</td>\n",
       "      <td>0.0</td>\n",
       "    </tr>\n",
       "  </tbody>\n",
       "</table>\n",
       "<p>3 rows × 44 columns</p>\n",
       "</div>"
      ],
      "text/plain": [
       "         shop_id  item_id  date_block_num  target  revenue  target_shop  \\\n",
       "4488756        2       27              12     0.0      0.0        890.0   \n",
       "4488757        2       30              12     0.0      0.0        890.0   \n",
       "4488758        2       31              12     0.0      0.0        890.0   \n",
       "\n",
       "         revenue_per_shop  target_item  revenue_per_item  item_category_id  \\\n",
       "4488756         1032722.0          1.0             998.0                19   \n",
       "4488757         1032722.0         58.0            9802.0                40   \n",
       "4488758         1032722.0         15.0            7485.0                37   \n",
       "\n",
       "         ...  target_category_lag_3  target_category_lag_4  \\\n",
       "4488756  ...                14113.0                18932.0   \n",
       "4488757  ...                24173.0                23348.0   \n",
       "4488758  ...                 6950.0                 7659.0   \n",
       "\n",
       "         target_category_lag_5  target_category_lag_12  \\\n",
       "4488756                10488.0                  8983.0   \n",
       "4488757                24130.0                     0.0   \n",
       "4488758                 8680.0                     0.0   \n",
       "\n",
       "         target_item_price_lag_1  target_item_price_lag_2  \\\n",
       "4488756              1048.000000              1198.000000   \n",
       "4488757               167.330856               165.217392   \n",
       "4488758               499.000000               488.377777   \n",
       "\n",
       "         target_item_price_lag_3  target_item_price_lag_4  \\\n",
       "4488756               942.266663                   1198.0   \n",
       "4488757               205.524994                    399.0   \n",
       "4488758               543.528015                    699.0   \n",
       "\n",
       "         target_item_price_lag_5  target_item_price_lag_12  \n",
       "4488756              1198.000000                    2325.0  \n",
       "4488757               384.894745                       0.0  \n",
       "4488758               688.400024                       0.0  \n",
       "\n",
       "[3 rows x 44 columns]"
      ]
     },
     "metadata": {},
     "output_type": "display_data"
    },
    {
     "data": {
      "text/html": [
       "<div>\n",
       "<style scoped>\n",
       "    .dataframe tbody tr th:only-of-type {\n",
       "        vertical-align: middle;\n",
       "    }\n",
       "\n",
       "    .dataframe tbody tr th {\n",
       "        vertical-align: top;\n",
       "    }\n",
       "\n",
       "    .dataframe thead th {\n",
       "        text-align: right;\n",
       "    }\n",
       "</style>\n",
       "<table border=\"1\" class=\"dataframe\">\n",
       "  <thead>\n",
       "    <tr style=\"text-align: right;\">\n",
       "      <th></th>\n",
       "      <th>shop_id</th>\n",
       "      <th>item_id</th>\n",
       "      <th>date_block_num</th>\n",
       "      <th>target</th>\n",
       "      <th>revenue</th>\n",
       "      <th>target_shop</th>\n",
       "      <th>revenue_per_shop</th>\n",
       "      <th>target_item</th>\n",
       "      <th>revenue_per_item</th>\n",
       "      <th>item_category_id</th>\n",
       "      <th>...</th>\n",
       "      <th>target_category_lag_3</th>\n",
       "      <th>target_category_lag_4</th>\n",
       "      <th>target_category_lag_5</th>\n",
       "      <th>target_category_lag_12</th>\n",
       "      <th>target_item_price_lag_1</th>\n",
       "      <th>target_item_price_lag_2</th>\n",
       "      <th>target_item_price_lag_3</th>\n",
       "      <th>target_item_price_lag_4</th>\n",
       "      <th>target_item_price_lag_5</th>\n",
       "      <th>target_item_price_lag_12</th>\n",
       "    </tr>\n",
       "  </thead>\n",
       "  <tbody>\n",
       "    <tr>\n",
       "      <th>11128047</th>\n",
       "      <td>59</td>\n",
       "      <td>22164</td>\n",
       "      <td>34</td>\n",
       "      <td>0.0</td>\n",
       "      <td>0.0</td>\n",
       "      <td>0.0</td>\n",
       "      <td>0.0</td>\n",
       "      <td>0.0</td>\n",
       "      <td>0.0</td>\n",
       "      <td>37</td>\n",
       "      <td>...</td>\n",
       "      <td>3426.0</td>\n",
       "      <td>3291.0</td>\n",
       "      <td>3756.0</td>\n",
       "      <td>0.0</td>\n",
       "      <td>549.000000</td>\n",
       "      <td>549.0</td>\n",
       "      <td>631.5</td>\n",
       "      <td>699.0</td>\n",
       "      <td>699.000000</td>\n",
       "      <td>0.0</td>\n",
       "    </tr>\n",
       "    <tr>\n",
       "      <th>11128048</th>\n",
       "      <td>59</td>\n",
       "      <td>22166</td>\n",
       "      <td>34</td>\n",
       "      <td>0.0</td>\n",
       "      <td>0.0</td>\n",
       "      <td>0.0</td>\n",
       "      <td>0.0</td>\n",
       "      <td>0.0</td>\n",
       "      <td>0.0</td>\n",
       "      <td>54</td>\n",
       "      <td>...</td>\n",
       "      <td>264.0</td>\n",
       "      <td>276.0</td>\n",
       "      <td>292.0</td>\n",
       "      <td>305.0</td>\n",
       "      <td>150.000000</td>\n",
       "      <td>150.0</td>\n",
       "      <td>150.0</td>\n",
       "      <td>150.0</td>\n",
       "      <td>150.000000</td>\n",
       "      <td>150.0</td>\n",
       "    </tr>\n",
       "    <tr>\n",
       "      <th>11128049</th>\n",
       "      <td>59</td>\n",
       "      <td>22167</td>\n",
       "      <td>34</td>\n",
       "      <td>0.0</td>\n",
       "      <td>0.0</td>\n",
       "      <td>0.0</td>\n",
       "      <td>0.0</td>\n",
       "      <td>0.0</td>\n",
       "      <td>0.0</td>\n",
       "      <td>49</td>\n",
       "      <td>...</td>\n",
       "      <td>571.0</td>\n",
       "      <td>669.0</td>\n",
       "      <td>699.0</td>\n",
       "      <td>760.0</td>\n",
       "      <td>293.895935</td>\n",
       "      <td>299.0</td>\n",
       "      <td>299.0</td>\n",
       "      <td>299.0</td>\n",
       "      <td>294.636353</td>\n",
       "      <td>299.0</td>\n",
       "    </tr>\n",
       "  </tbody>\n",
       "</table>\n",
       "<p>3 rows × 44 columns</p>\n",
       "</div>"
      ],
      "text/plain": [
       "          shop_id  item_id  date_block_num  target  revenue  target_shop  \\\n",
       "11128047       59    22164              34     0.0      0.0          0.0   \n",
       "11128048       59    22166              34     0.0      0.0          0.0   \n",
       "11128049       59    22167              34     0.0      0.0          0.0   \n",
       "\n",
       "          revenue_per_shop  target_item  revenue_per_item  item_category_id  \\\n",
       "11128047               0.0          0.0               0.0                37   \n",
       "11128048               0.0          0.0               0.0                54   \n",
       "11128049               0.0          0.0               0.0                49   \n",
       "\n",
       "          ...  target_category_lag_3  target_category_lag_4  \\\n",
       "11128047  ...                 3426.0                 3291.0   \n",
       "11128048  ...                  264.0                  276.0   \n",
       "11128049  ...                  571.0                  669.0   \n",
       "\n",
       "          target_category_lag_5  target_category_lag_12  \\\n",
       "11128047                 3756.0                     0.0   \n",
       "11128048                  292.0                   305.0   \n",
       "11128049                  699.0                   760.0   \n",
       "\n",
       "          target_item_price_lag_1  target_item_price_lag_2  \\\n",
       "11128047               549.000000                    549.0   \n",
       "11128048               150.000000                    150.0   \n",
       "11128049               293.895935                    299.0   \n",
       "\n",
       "          target_item_price_lag_3  target_item_price_lag_4  \\\n",
       "11128047                    631.5                    699.0   \n",
       "11128048                    150.0                    150.0   \n",
       "11128049                    299.0                    299.0   \n",
       "\n",
       "          target_item_price_lag_5  target_item_price_lag_12  \n",
       "11128047               699.000000                       0.0  \n",
       "11128048               150.000000                     150.0  \n",
       "11128049               294.636353                     299.0  \n",
       "\n",
       "[3 rows x 44 columns]"
      ]
     },
     "metadata": {},
     "output_type": "display_data"
    }
   ],
   "source": [
    "# Check\n",
    "data.inspect_dataframe('ALL_DATA', all_data)"
   ]
  },
  {
   "cell_type": "markdown",
   "metadata": {},
   "source": [
    "# Dataset split\n",
    "\n",
    "The dataset has a timeline, get last month of train as validation data.\n",
    "\n",
    "And the month=34 is the X_test for final submission."
   ]
  },
  {
   "cell_type": "code",
   "execution_count": 7,
   "metadata": {},
   "outputs": [
    {
     "name": "stdout",
     "output_type": "stream",
     "text": [
      "Test data is where date_block_num=34\n",
      "Validation data is where date_block_num=33\n",
      "\n",
      "fit_cols: ['item_category_id', 'item_category_id_enc', 'target_lag_1', 'target_lag_2', 'target_lag_3', 'target_lag_4', 'target_lag_5', 'target_lag_12', 'target_shop_lag_1', 'target_shop_lag_2', 'target_shop_lag_3', 'target_shop_lag_4', 'target_shop_lag_5', 'target_shop_lag_12', 'target_item_lag_1', 'target_item_lag_2', 'target_item_lag_3', 'target_item_lag_4', 'target_item_lag_5', 'target_item_lag_12', 'target_category_lag_1', 'target_category_lag_2', 'target_category_lag_3', 'target_category_lag_4', 'target_category_lag_5', 'target_category_lag_12', 'target_item_price_lag_1', 'target_item_price_lag_2', 'target_item_price_lag_3', 'target_item_price_lag_4', 'target_item_price_lag_5', 'target_item_price_lag_12'] 32 \n",
      "\n",
      "train validation test total\n",
      "6186922 238172 214200 6639294\n",
      "6186922 238172 214200 6639294\n"
     ]
    }
   ],
   "source": [
    "X_train, y_train, X_val, y_val, X_test, y_test = data.split(all_data)"
   ]
  },
  {
   "cell_type": "markdown",
   "metadata": {},
   "source": [
    "# Simple Neural Network Regressor\n",
    "Two layer NN Adam MES with early stopping"
   ]
  },
  {
   "cell_type": "code",
   "execution_count": 7,
   "metadata": {},
   "outputs": [
    {
     "data": {
      "text/plain": [
       "<torch._C.Generator at 0x278d7654610>"
      ]
     },
     "execution_count": 7,
     "metadata": {},
     "output_type": "execute_result"
    }
   ],
   "source": [
    "torch.manual_seed(1)    # reproducible"
   ]
  },
  {
   "cell_type": "code",
   "execution_count": 8,
   "metadata": {},
   "outputs": [],
   "source": [
    "def nn_scoring(scoring_model, cols=None):\n",
    "    scoring('NN', scoring_model, target_range,\n",
    "            X_train, y_train, X_val, y_val, values=True, preds_transform=np.squeeze, cols=cols)   "
   ]
  },
  {
   "cell_type": "code",
   "execution_count": 9,
   "metadata": {},
   "outputs": [
    {
     "name": "stdout",
     "output_type": "stream",
     "text": [
      "num_feat = 32\n"
     ]
    }
   ],
   "source": [
    "num_feat = X_train.shape[1]\n",
    "print('num_feat =',num_feat)"
   ]
  },
  {
   "cell_type": "code",
   "execution_count": 25,
   "metadata": {
    "scrolled": true
   },
   "outputs": [
    {
     "name": "stdout",
     "output_type": "stream",
     "text": [
      "batch_size = 10240\n",
      "model in GPU\n",
      "model in GPU\n",
      "{'num_feat': 32, 'n_hidden1': 100, 'n_hidden2': 50, 'dropout': 0.2, 'learning_rate': 0.001, 'batch_size': 10240}\n",
      "\n",
      "2019-08-05 13:35:56 ---- START training\n",
      "2019-08-05 13:36:24 ---- END Epoch = 0/99 AvgLoss = 6208.4077 ValLoss = 2.0253\n",
      "2019-08-05 13:36:52 ---- END Epoch = 1/99 AvgLoss = 54.1542 ValLoss = 1.4903\n",
      "2019-08-05 13:37:19 ---- END Epoch = 2/99 AvgLoss = 37.4314 ValLoss = 1.4081\n",
      "2019-08-05 13:37:47 ---- END Epoch = 3/99 AvgLoss = 29.9264 ValLoss = 1.3653\n",
      "2019-08-05 13:38:14 ---- END Epoch = 4/99 AvgLoss = 24.0650 ValLoss = 1.3402\n",
      "2019-08-05 13:38:41 ---- END Epoch = 5/99 AvgLoss = 19.3747 ValLoss = 1.3214\n",
      "2019-08-05 13:39:09 ---- END Epoch = 6/99 AvgLoss = 15.5601 ValLoss = 1.3101\n",
      "2019-08-05 13:39:36 ---- END Epoch = 7/99 AvgLoss = 12.5896 ValLoss = 1.2951\n",
      "2019-08-05 13:40:04 ---- END Epoch = 8/99 AvgLoss = 10.1435 ValLoss = 1.2874\n",
      "2019-08-05 13:40:31 ---- END Epoch = 9/99 AvgLoss = 8.1497 ValLoss = 1.2647\n",
      "2019-08-05 13:41:02 ---- END Epoch = 10/99 AvgLoss = 6.6181 ValLoss = 1.2383\n",
      "2019-08-05 13:41:29 ---- END Epoch = 11/99 AvgLoss = 5.3648 ValLoss = 1.2293\n",
      "2019-08-05 13:41:57 ---- END Epoch = 12/99 AvgLoss = 4.3963 ValLoss = 1.2259\n",
      "2019-08-05 13:42:26 ---- END Epoch = 13/99 AvgLoss = 3.6315 ValLoss = 1.2101\n",
      "2019-08-05 13:42:54 ---- END Epoch = 14/99 AvgLoss = 3.0300 ValLoss = 1.1994\n",
      "2019-08-05 13:43:22 ---- END Epoch = 15/99 AvgLoss = 2.5486 ValLoss = 1.1754\n",
      "2019-08-05 13:43:50 ---- END Epoch = 16/99 AvgLoss = 2.1737 ValLoss = 1.1498\n",
      "2019-08-05 13:44:18 ---- END Epoch = 17/99 AvgLoss = 1.8915 ValLoss = 1.1309\n",
      "2019-08-05 13:44:47 ---- END Epoch = 18/99 AvgLoss = 1.6682 ValLoss = 1.1248\n",
      "2019-08-05 13:45:15 ---- END Epoch = 19/99 AvgLoss = 1.4947 ValLoss = 1.1028\n",
      "2019-08-05 13:45:43 ---- END Epoch = 20/99 AvgLoss = 1.3608 ValLoss = 1.0874\n",
      "2019-08-05 13:46:11 ---- END Epoch = 21/99 AvgLoss = 1.2587 ValLoss = 1.0679\n",
      "2019-08-05 13:46:39 ---- END Epoch = 22/99 AvgLoss = 1.1897 ValLoss = 1.0553\n",
      "2019-08-05 13:47:07 ---- END Epoch = 23/99 AvgLoss = 1.1401 ValLoss = 1.0445\n",
      "2019-08-05 13:47:36 ---- END Epoch = 24/99 AvgLoss = 1.1048 ValLoss = 1.0373\n",
      "2019-08-05 13:48:05 ---- END Epoch = 25/99 AvgLoss = 1.0841 ValLoss = 1.0286\n",
      "2019-08-05 13:48:33 ---- END Epoch = 26/99 AvgLoss = 1.0656 ValLoss = 1.0199\n",
      "2019-08-05 13:49:01 ---- END Epoch = 27/99 AvgLoss = 1.0421 ValLoss = 1.0195\n",
      "2019-08-05 13:49:29 ---- END Epoch = 28/99 AvgLoss = 1.0270 ValLoss = 1.0118\n",
      "2019-08-05 13:49:57 ---- END Epoch = 29/99 AvgLoss = 1.0151 ValLoss = 1.0073\n",
      "2019-08-05 13:50:24 ---- END Epoch = 30/99 AvgLoss = 1.0149 ValLoss = 1.0072\n",
      "2019-08-05 13:50:54 ---- END Epoch = 31/99 AvgLoss = 1.0017 ValLoss = 1.0026\n",
      "2019-08-05 13:51:22 ---- END Epoch = 32/99 AvgLoss = 0.9892 ValLoss = 0.9972\n",
      "2019-08-05 13:51:49 ---- END Epoch = 33/99 AvgLoss = 0.9798 ValLoss = 0.9941\n",
      "2019-08-05 13:52:17 ---- END Epoch = 34/99 AvgLoss = 0.9849 ValLoss = 0.9928\n",
      "2019-08-05 13:52:45 ---- END Epoch = 35/99 AvgLoss = 0.9671 ValLoss = 0.9798\n",
      "2019-08-05 13:53:14 ---- END Epoch = 36/99 AvgLoss = 0.9617 ValLoss = 0.9841\n",
      "2019-08-05 13:53:42 ---- END Epoch = 37/99 AvgLoss = 0.9652 ValLoss = 0.9782\n",
      "2019-08-05 13:54:09 ---- END Epoch = 38/99 AvgLoss = 0.9476 ValLoss = 0.9716\n",
      "2019-08-05 13:54:38 ---- END Epoch = 39/99 AvgLoss = 0.9398 ValLoss = 0.9668\n",
      "2019-08-05 13:55:06 ---- END Epoch = 40/99 AvgLoss = 0.9294 ValLoss = 0.9591\n",
      "2019-08-05 13:55:34 ---- END Epoch = 41/99 AvgLoss = 0.9236 ValLoss = 0.9681\n",
      "2019-08-05 13:55:34 *** Early stop at epoch 41/99\n",
      "2019-08-05 13:55:34 --- DONE Epoch = 41/99 AvgLoss = 0.9236 ValLoss = 0.9681\n",
      "\n"
     ]
    }
   ],
   "source": [
    "num_batches = 600\n",
    "batch_size = 1024*int(len(X_train)/1024/num_batches)\n",
    "print('batch_size =', batch_size )\n",
    "\n",
    "# hyperparameters in example\n",
    "#n_hidden1, n_hidden2, learning_rate, batch_size = 200, 100, 0.05, 64\n",
    "\n",
    "# Basic params\n",
    "nn_params = {\n",
    "                'num_feat': num_feat, \n",
    "                'n_hidden1': 100, \n",
    "                'n_hidden2': 50, \n",
    "                'dropout': 0.2, \n",
    "                'optim_type': 'adam',\n",
    "                'learning_rate': 0.001, \n",
    "                'batch_size': batch_size\n",
    "            }\n",
    "\n",
    "# Model with basic params\n",
    "nn_model = models.NNRegressor(num_feat)\n",
    "nn_model.set_params(**nn_params)\n",
    "print(nn_model.get_params())\n",
    "\n",
    "# Train the model\n",
    "max_epochs = 100 # 2000 in the example\n",
    "mid_validations = 0 # do N intermediate validations per epoch, slower\n",
    "epoch_losses, val_losses = nn_model.train( \n",
    "                                           X_train.values,\n",
    "                                           np.reshape(y_train.clip(*target_range),(y_train.shape[0],1)), # PRECLIP much better\n",
    "                                           X_val.values,\n",
    "                                           np.reshape(y_val.clip(*target_range),(y_val.shape[0],1)),\n",
    "                                           max_epochs=max_epochs, \n",
    "                                           mid_validations=mid_validations, \n",
    "                                           verbosity=1 )"
   ]
  },
  {
   "cell_type": "code",
   "execution_count": 54,
   "metadata": {},
   "outputs": [
    {
     "name": "stdout",
     "output_type": "stream",
     "text": [
      "Train RMSE for NN is 0.949817\n",
      "Dev RMSE for NN is 0.983031\n"
     ]
    },
    {
     "data": {
      "image/png": "[encoded data removed]",
      "text/plain": [
       "<Figure size 432x288 with 1 Axes>"
      ]
     },
     "metadata": {
      "needs_background": "light"
     },
     "output_type": "display_data"
    }
   ],
   "source": [
    "# See learning evolution \n",
    "nn_model.plot_training_evolution(loss_limit=None)\n",
    "\n",
    "# Score\n",
    "nn_scoring(nn_model)"
   ]
  },
  {
   "cell_type": "markdown",
   "metadata": {},
   "source": [
    "### Do some TUNING for network nodes, batch_size and learning_rate\n",
    "And be aware of training time, because later I want to execute a f) KFold scheme."
   ]
  },
  {
   "cell_type": "code",
   "execution_count": 16,
   "metadata": {},
   "outputs": [],
   "source": [
    "import models"
   ]
  },
  {
   "cell_type": "code",
   "execution_count": 14,
   "metadata": {},
   "outputs": [],
   "source": [
    "def model_case(batch_size=10240, learning_rate=0.001, n_hidden=100, optim_type='adam', \n",
    "               plot_evolution=True, verbosity=0):\n",
    "    \n",
    "    # Set the model\n",
    "    nn_params = {\n",
    "                    'num_feat': num_feat, \n",
    "                    'n_hidden1': n_hidden, \n",
    "                    'n_hidden2': int(n_hidden/2), \n",
    "                    'dropout': 0.2, \n",
    "                    'optim_type': optim_type,\n",
    "                    'learning_rate': learning_rate, \n",
    "                    'batch_size': batch_size\n",
    "                }\n",
    "    nn_model = models.NNRegressor(num_feat)\n",
    "    nn_model.set_params(**nn_params)\n",
    "    print(nn_model.get_params())\n",
    "\n",
    "    # Train the model\n",
    "    epoch_losses, val_losses = nn_model.train( \n",
    "                                               X_train.values,\n",
    "                                               np.reshape(y_train.clip(*target_range),(y_train.shape[0],1)), \n",
    "                                               X_val.values,\n",
    "                                               np.reshape(y_val.clip(*target_range),(y_val.shape[0],1)),\n",
    "                                               max_epochs=100, \n",
    "                                               mid_validations=0, \n",
    "                                               verbosity=verbosity )\n",
    "    # See learning evolution \n",
    "    if plot_evolution:\n",
    "        nn_model.plot_training_evolution(loss_limit=1.5)\n",
    "\n",
    "    # Score\n",
    "    nn_scoring(nn_model)\n",
    "    \n",
    "    return epoch_losses, val_losses, nn_model"
   ]
  },
  {
   "cell_type": "code",
   "execution_count": null,
   "metadata": {},
   "outputs": [
    {
     "name": "stdout",
     "output_type": "stream",
     "text": [
      "model in GPU\n",
      "model in GPU\n",
      "{'num_feat': 32, 'n_hidden1': 600, 'n_hidden2': 300, 'dropout': 0.2, 'optim_type': 'adam', 'learning_rate': 0.001, 'batch_size': 10240}\n",
      "\n",
      "2019-08-06 01:01:07 ---- START training\n",
      ". . . . . . . . . . . . . . . . . . . . . . . . . . . . . . . . . . . . . . . \n",
      "2019-08-06 01:18:32 *** Early stop at epoch 37/99, best_ValLoss = 0.9739\n",
      "2019-08-06 01:18:32 --- DONE Epoch = 37/99 AvgLoss = 0.9987 ValLoss = 0.9787\n",
      "\n"
     ]
    },
    {
     "data": {
      "image/png": "[encoded data removed]",
      "text/plain": [
       "<Figure size 432x288 with 1 Axes>"
      ]
     },
     "metadata": {
      "needs_background": "light"
     },
     "output_type": "display_data"
    }
   ],
   "source": [
    "# 600 network\n",
    "el, vl, m = model_case(n_hidden=600)"
   ]
  },
  {
   "cell_type": "code",
   "execution_count": 15,
   "metadata": {},
   "outputs": [
    {
     "name": "stdout",
     "output_type": "stream",
     "text": [
      "model in GPU\n",
      "model in GPU\n",
      "{'num_feat': 32, 'n_hidden1': 200, 'n_hidden2': 100, 'dropout': 0.2, 'optim_type': 'adam', 'learning_rate': 0.001, 'batch_size': 10240}\n",
      "\n",
      "2019-08-06 10:12:05 ---- START training\n",
      ". . . . . . . . . . . . . . . . . . . . . . . . . . . . . . . . . . . . . . \n",
      "2019-08-06 10:29:18 *** Early stop at epoch 36/99, best_ValLoss = 0.9516\n",
      "2019-08-06 10:29:18 --- DONE Epoch = 36/99 AvgLoss = 0.9148 ValLoss = 0.9556\n",
      "\n"
     ]
    },
    {
     "data": {
      "image/png": "[encoded data removed]",
      "text/plain": [
       "<Figure size 432x288 with 1 Axes>"
      ]
     },
     "metadata": {
      "needs_background": "light"
     },
     "output_type": "display_data"
    },
    {
     "name": "stdout",
     "output_type": "stream",
     "text": [
      "Train RMSE for NN is 0.937139\n",
      "Dev RMSE for NN is 0.976706\n"
     ]
    }
   ],
   "source": [
    "# 200 nodes\n",
    "el, vl, m = model_case(n_hidden=200)"
   ]
  },
  {
   "cell_type": "code",
   "execution_count": 65,
   "metadata": {},
   "outputs": [
    {
     "name": "stdout",
     "output_type": "stream",
     "text": [
      "model in GPU\n",
      "model in GPU\n",
      "{'num_feat': 32, 'n_hidden1': 200, 'n_hidden2': 100, 'dropout': 0.2, 'optim_type': 'adam', 'learning_rate': 0.0001, 'batch_size': 1024}\n",
      "\n",
      "2019-08-06 00:06:02 ---- START training\n",
      ". . . . . . . . . . . . . . . . . . . . . . . . . . . . . . . . . . . . . . . . \n",
      "2019-08-06 00:37:54 *** Early stop at epoch 38/99, best_ValLoss = 0.9259\n",
      "2019-08-06 00:37:54 --- DONE Epoch = 38/99 AvgLoss = 0.8298 ValLoss = 0.9263\n",
      "\n"
     ]
    },
    {
     "data": {
      "image/png": "[encoded data removed]",
      "text/plain": [
       "<Figure size 432x288 with 1 Axes>"
      ]
     },
     "metadata": {
      "needs_background": "light"
     },
     "output_type": "display_data"
    },
    {
     "name": "stdout",
     "output_type": "stream",
     "text": [
      "Train RMSE for NN is 0.910046\n",
      "Dev RMSE for NN is 0.959168\n"
     ]
    }
   ],
   "source": [
    "# 200 nodes and tune batch_size\n",
    "el, vl, m = model_case(batch_size=1024, learning_rate=1e-4, n_hidden=200)"
   ]
  },
  {
   "cell_type": "code",
   "execution_count": null,
   "metadata": {},
   "outputs": [],
   "source": [
    "# Combine BATCH SIZE and LEARNING RATE\n",
    "total_el, total_vl = {}, {}\n",
    "a_bs = [2048, 1024, 512, 256, 128]\n",
    "a_lr = [5e-4, 1e-4, 5e-5, 1e-5, 1e-5]\n",
    "\n",
    "for i,batch_size in enumerate(a_bs):\n",
    "    learning_rate = a_lr[i]\n",
    "    seguir = input('seguir...')\n",
    "    if seguir == 'N':\n",
    "        break\n",
    "    el, vl, m = model_case(batch_size=batch_size, learning_rate=learning_rate, n_hidden=200, plot_evolution=False)\n",
    "    total_el[batch_size] = el\n",
    "    total_vl[batch_size] = vl"
   ]
  },
  {
   "cell_type": "markdown",
   "metadata": {},
   "source": [
    "# Decission Tree Regressor\n",
    "\n",
    "Only one decission tree (not an ensemble)"
   ]
  },
  {
   "cell_type": "code",
   "execution_count": 8,
   "metadata": {},
   "outputs": [],
   "source": [
    "def dtr_scoring(scoring_model, cols=None):\n",
    "    scoring('DTR', scoring_model, target_range,\n",
    "            X_train, y_train, X_val, y_val, values=True, cols=cols)"
   ]
  },
  {
   "cell_type": "code",
   "execution_count": 9,
   "metadata": {},
   "outputs": [
    {
     "name": "stdout",
     "output_type": "stream",
     "text": [
      "elapsed time: 264.80\n"
     ]
    }
   ],
   "source": [
    "# Base params\n",
    "dtr_params = {\n",
    "                'random_state': 0, # Changing this could generate ensembling options\n",
    "\n",
    "                'max_depth': None,\n",
    "                'max_features': None,\n",
    "                'max_leaf_nodes': None,\n",
    "                'min_impurity_decrease': 0.0,\n",
    "                'min_impurity_split': None,\n",
    "                'min_samples_leaf': 1,\n",
    "                'min_samples_split': 2,\n",
    "                'min_weight_fraction_leaf': 0.0,\n",
    "\n",
    "                'presort': False,\n",
    "                'splitter': 'best',\n",
    "                'criterion': 'mse'\n",
    "                }\n",
    "\n",
    "# Fit with base params\n",
    "t_start = time.time()\n",
    "dtr_model = DecisionTreeRegressor()\n",
    "dtr_model = dtr_model.set_params(**dtr_params)\n",
    "dtr_model = dtr_model.fit(X_train.values, y_train.clip(*target_range)) # PRECLIP\n",
    "print(\"elapsed time: %.2f\" % (time.time() - t_start))"
   ]
  },
  {
   "cell_type": "code",
   "execution_count": 13,
   "metadata": {},
   "outputs": [
    {
     "name": "stdout",
     "output_type": "stream",
     "text": [
      "Train RMSE for DTR is 0.504024\n",
      "Dev RMSE for DTR is 1.171550\n"
     ]
    }
   ],
   "source": [
    "# Score\n",
    "dtr_scoring(dtr_model)"
   ]
  },
  {
   "cell_type": "markdown",
   "metadata": {},
   "source": [
    "# Linear Regressor\n",
    "\n",
    "Simple LinearRegression"
   ]
  },
  {
   "cell_type": "code",
   "execution_count": 7,
   "metadata": {},
   "outputs": [
    {
     "name": "stdout",
     "output_type": "stream",
     "text": [
      "elapsed time: 11.52\n"
     ]
    }
   ],
   "source": [
    "def lr_scoring(scoring_model, cols=None):\n",
    "    scoring('LR', scoring_model, target_range,\n",
    "            X_train, y_train, X_val, y_val, values=True, cols=cols)\n",
    "    \n",
    "# Fit\n",
    "t_start = time.time()\n",
    "lr_model = LinearRegression()\n",
    "res = lr_model.fit(X_train.values, y_train) # POSTCLIP works better\n",
    "print(\"elapsed time: %.2f\" % (time.time() - t_start))"
   ]
  },
  {
   "cell_type": "code",
   "execution_count": 8,
   "metadata": {},
   "outputs": [
    {
     "name": "stdout",
     "output_type": "stream",
     "text": [
      "Train RMSE for LR is 0.965304\n",
      "Dev RMSE for LR is 1.001641\n"
     ]
    }
   ],
   "source": [
    "# Score\n",
    "lr_scoring(lr_model)"
   ]
  },
  {
   "cell_type": "markdown",
   "metadata": {},
   "source": [
    "It is not very promising and no tuning options..."
   ]
  },
  {
   "cell_type": "markdown",
   "metadata": {},
   "source": [
    "# ElasticNet\n",
    "A more sophisticated linear regressor."
   ]
  },
  {
   "cell_type": "code",
   "execution_count": 8,
   "metadata": {},
   "outputs": [],
   "source": [
    "def en_scoring(scoring_model, cols=None):\n",
    "    scoring('EN', scoring_model, target_range,\n",
    "            X_train, y_train, X_val, y_val, values=True, cols=cols)"
   ]
  },
  {
   "cell_type": "markdown",
   "metadata": {},
   "source": [
    "Basic learning with default parameters:"
   ]
  },
  {
   "cell_type": "code",
   "execution_count": 9,
   "metadata": {},
   "outputs": [],
   "source": [
    "def get_en_params(alpha=1.0, l1_ratio=0.5, max_iter=1000):\n",
    "    return {\n",
    "                 'max_iter': max_iter,\n",
    "                 'random_state': 0, # Changing this could generate ensembling options\n",
    "    \n",
    "                 'alpha': alpha,\n",
    "                 'l1_ratio': l1_ratio,\n",
    "\n",
    "                 'tol': 0.0001,\n",
    "                 'fit_intercept': True,\n",
    "                 'normalize': False,\n",
    "                 'positive': False,\n",
    "                 'precompute': False,\n",
    "                 'selection': 'cyclic',\n",
    "                 'copy_X': True,\n",
    "                 'warm_start': False\n",
    "            }\n",
    "    "
   ]
  },
  {
   "cell_type": "code",
   "execution_count": 13,
   "metadata": {},
   "outputs": [
    {
     "name": "stdout",
     "output_type": "stream",
     "text": [
      "elapsed time: 67.88\n"
     ]
    }
   ],
   "source": [
    "# Default params\n",
    "en_params = get_en_params()\n",
    "\n",
    "# Fit to train with default parameters\n",
    "t_start = time.time()\n",
    "en_model = ElasticNet()\n",
    "en_model = en_model.set_params(**en_params)\n",
    "en_model = en_model.fit(X_train.values, y_train) # POSTCLIP\n",
    "print(\"elapsed time: %.2f\" % (time.time() - t_start))"
   ]
  },
  {
   "cell_type": "code",
   "execution_count": 14,
   "metadata": {},
   "outputs": [
    {
     "name": "stdout",
     "output_type": "stream",
     "text": [
      "Train RMSE for EN is 0.956561\n",
      "Dev RMSE for EN is 0.991646\n"
     ]
    }
   ],
   "source": [
    "# Score\n",
    "en_scoring(en_model)"
   ]
  },
  {
   "cell_type": "markdown",
   "metadata": {},
   "source": [
    "Do a tuning with CV function, and get the final best parameters:"
   ]
  },
  {
   "cell_type": "code",
   "execution_count": 9,
   "metadata": {
    "scrolled": true
   },
   "outputs": [
    {
     "name": "stdout",
     "output_type": "stream",
     "text": [
      "Path: 000 out of 100\n",
      "Path: 000 out of 100Path: 000 out of 100\n",
      "\n",
      "Path: 000 out of 100\n",
      "Path: 001 out of 100\n",
      "Path: 001 out of 100\n",
      "Path: 001 out of 100\n",
      "Path: 002 out of 100\n",
      "Path: 001 out of 100\n",
      "Path: 002 out of 100\n",
      "Path: 002 out of 100\n",
      "Path: 003 out of 100\n",
      "Path: 002 out of 100\n",
      "Path: 003 out of 100\n",
      "Path: 003 out of 100\n",
      "Path: 004 out of 100\n",
      "Path: 003 out of 100\n",
      "Path: 004 out of 100\n",
      "Path: 004 out of 100\n",
      "Path: 005 out of 100\n",
      "Path: 004 out of 100\n",
      "Path: 005 out of 100\n",
      "Path: 005 out of 100\n",
      "Path: 005 out of 100\n",
      "Path: 006 out of 100\n",
      "Path: 006 out of 100\n",
      "Path: 006 out of 100\n",
      "Path: 007 out of 100\n",
      "Path: 006 out of 100\n",
      "Path: 007 out of 100\n",
      "Path: 007 out of 100\n",
      "Path: 008 out of 100\n",
      "Path: 007 out of 100\n",
      "Path: 008 out of 100\n",
      "Path: 008 out of 100\n",
      "Path: 009 out of 100\n",
      "Path: 008 out of 100\n",
      "Path: 009 out of 100\n",
      "Path: 009 out of 100\n",
      "Path: 010 out of 100\n",
      "Path: 009 out of 100\n",
      "Path: 010 out of 100\n",
      "Path: 010 out of 100\n",
      "Path: 011 out of 100\n",
      "Path: 010 out of 100\n",
      "Path: 011 out of 100\n",
      "Path: 011 out of 100\n",
      "Path: 012 out of 100\n",
      "Path: 011 out of 100\n",
      "Path: 012 out of 100\n",
      "Path: 012 out of 100\n",
      "Path: 013 out of 100\n",
      "Path: 012 out of 100\n",
      "Path: 013 out of 100\n",
      "Path: 013 out of 100\n",
      "Path: 014 out of 100\n",
      "Path: 013 out of 100\n",
      "Path: 014 out of 100\n",
      "Path: 014 out of 100\n",
      "Path: 015 out of 100\n",
      "Path: 014 out of 100\n",
      "Path: 015 out of 100\n",
      "Path: 015 out of 100\n",
      "Path: 016 out of 100\n",
      "Path: 015 out of 100\n",
      "Path: 016 out of 100\n",
      "Path: 016 out of 100\n",
      "Path: 017 out of 100\n",
      "Path: 016 out of 100\n",
      "Path: 017 out of 100\n",
      "Path: 017 out of 100\n",
      "Path: 017 out of 100\n",
      "Path: 018 out of 100\n",
      "Path: 018 out of 100\n",
      "Path: 018 out of 100\n",
      "Path: 018 out of 100\n",
      "Path: 019 out of 100\n",
      "Path: 019 out of 100\n",
      "Path: 019 out of 100\n",
      "Path: 019 out of 100\n",
      "Path: 020 out of 100\n",
      "Path: 020 out of 100\n",
      "Path: 020 out of 100\n",
      "Path: 020 out of 100\n",
      "Path: 021 out of 100\n",
      "Path: 021 out of 100\n",
      "Path: 021 out of 100\n",
      "Path: 021 out of 100\n",
      "Path: 022 out of 100\n",
      "Path: 022 out of 100\n",
      "Path: 022 out of 100\n",
      "Path: 022 out of 100\n",
      "Path: 023 out of 100\n",
      "Path: 023 out of 100\n",
      "Path: 023 out of 100\n",
      "Path: 023 out of 100\n",
      "Path: 024 out of 100\n",
      "Path: 024 out of 100\n",
      "Path: 024 out of 100\n",
      "Path: 024 out of 100\n",
      "Path: 025 out of 100\n",
      "Path: 025 out of 100\n",
      "Path: 025 out of 100\n",
      "Path: 025 out of 100\n",
      "Path: 026 out of 100\n",
      "Path: 026 out of 100\n",
      "Path: 026 out of 100\n",
      "Path: 026 out of 100\n",
      "Path: 027 out of 100\n",
      "Path: 027 out of 100\n",
      "Path: 027 out of 100\n",
      "Path: 027 out of 100\n",
      "Path: 028 out of 100\n",
      "Path: 028 out of 100\n",
      "Path: 028 out of 100\n",
      "Path: 028 out of 100\n",
      "Path: 029 out of 100\n",
      "Path: 029 out of 100\n",
      "Path: 029 out of 100\n",
      "Path: 029 out of 100\n",
      "Path: 030 out of 100\n",
      "Path: 030 out of 100\n",
      "Path: 030 out of 100\n",
      "Path: 030 out of 100\n",
      "Path: 031 out of 100\n",
      "Path: 031 out of 100\n",
      "Path: 031 out of 100\n",
      "Path: 031 out of 100\n",
      "Path: 032 out of 100\n",
      "Path: 032 out of 100\n",
      "Path: 032 out of 100\n",
      "Path: 032 out of 100\n",
      "Path: 033 out of 100\n",
      "Path: 033 out of 100\n",
      "Path: 033 out of 100\n",
      "Path: 033 out of 100\n",
      "Path: 034 out of 100\n",
      "Path: 034 out of 100\n",
      "Path: 034 out of 100\n",
      "Path: 034 out of 100\n",
      "Path: 035 out of 100\n",
      "Path: 035 out of 100\n",
      "Path: 035 out of 100\n",
      "Path: 036 out of 100\n",
      "Path: 035 out of 100\n",
      "Path: 036 out of 100\n",
      "Path: 036 out of 100\n",
      "Path: 037 out of 100\n",
      "Path: 036 out of 100\n",
      "Path: 037 out of 100\n",
      "Path: 037 out of 100\n",
      "Path: 038 out of 100\n",
      "Path: 037 out of 100\n",
      "Path: 038 out of 100\n",
      "Path: 038 out of 100\n",
      "Path: 039 out of 100\n",
      "Path: 038 out of 100\n",
      "Path: 039 out of 100\n",
      "Path: 040 out of 100\n",
      "Path: 039 out of 100\n",
      "Path: 039 out of 100\n",
      "Path: 040 out of 100\n",
      "Path: 041 out of 100\n",
      "Path: 040 out of 100\n",
      "Path: 040 out of 100\n",
      "Path: 041 out of 100\n",
      "Path: 042 out of 100\n",
      "Path: 041 out of 100\n",
      "Path: 041 out of 100\n",
      "Path: 042 out of 100\n",
      "Path: 043 out of 100\n",
      "Path: 042 out of 100\n",
      "Path: 042 out of 100\n",
      "Path: 043 out of 100\n",
      "Path: 044 out of 100\n",
      "Path: 043 out of 100\n",
      "Path: 043 out of 100\n",
      "Path: 044 out of 100\n",
      "Path: 045 out of 100\n",
      "Path: 044 out of 100\n",
      "Path: 044 out of 100\n",
      "Path: 045 out of 100\n",
      "Path: 046 out of 100\n",
      "Path: 045 out of 100\n",
      "Path: 045 out of 100\n",
      "Path: 046 out of 100\n",
      "Path: 047 out of 100\n",
      "Path: 046 out of 100\n",
      "Path: 046 out of 100\n",
      "Path: 047 out of 100\n",
      "Path: 048 out of 100\n",
      "Path: 047 out of 100\n",
      "Path: 047 out of 100\n",
      "Path: 048 out of 100\n",
      "Path: 049 out of 100\n",
      "Path: 048 out of 100\n",
      "Path: 048 out of 100\n",
      "Path: 049 out of 100\n",
      "Path: 050 out of 100\n",
      "Path: 049 out of 100\n",
      "Path: 049 out of 100\n",
      "Path: 050 out of 100\n",
      "Path: 051 out of 100\n",
      "Path: 050 out of 100\n",
      "Path: 050 out of 100\n",
      "Path: 051 out of 100\n",
      "Path: 051 out of 100\n",
      "Path: 051 out of 100\n",
      "Path: 052 out of 100\n",
      "Path: 052 out of 100\n",
      "Path: 052 out of 100\n",
      "Path: 052 out of 100\n",
      "Path: 053 out of 100\n",
      "Path: 053 out of 100\n",
      "Path: 053 out of 100\n",
      "Path: 053 out of 100\n",
      "Path: 054 out of 100\n",
      "Path: 054 out of 100\n",
      "Path: 054 out of 100\n",
      "Path: 054 out of 100\n",
      "Path: 055 out of 100\n",
      "Path: 055 out of 100\n",
      "Path: 055 out of 100\n",
      "Path: 055 out of 100\n",
      "Path: 056 out of 100\n",
      "Path: 056 out of 100\n",
      "Path: 056 out of 100\n",
      "Path: 056 out of 100\n",
      "Path: 057 out of 100\n",
      "Path: 057 out of 100\n",
      "Path: 057 out of 100\n",
      "Path: 057 out of 100\n",
      "Path: 058 out of 100\n",
      "Path: 058 out of 100\n",
      "Path: 058 out of 100\n",
      "Path: 058 out of 100\n",
      "Path: 059 out of 100\n",
      "Path: 059 out of 100\n",
      "Path: 059 out of 100\n",
      "Path: 059 out of 100\n",
      "Path: 060 out of 100\n",
      "Path: 060 out of 100\n",
      "Path: 060 out of 100\n",
      "Path: 060 out of 100\n",
      "Path: 061 out of 100\n",
      "Path: 061 out of 100\n",
      "Path: 061 out of 100\n",
      "Path: 061 out of 100\n",
      "Path: 062 out of 100\n",
      "Path: 062 out of 100\n",
      "Path: 062 out of 100\n",
      "Path: 062 out of 100\n",
      "Path: 063 out of 100\n",
      "Path: 063 out of 100\n",
      "Path: 063 out of 100\n",
      "Path: 063 out of 100\n",
      "Path: 064 out of 100\n",
      "Path: 064 out of 100\n",
      "Path: 064 out of 100\n",
      "Path: 064 out of 100\n",
      "Path: 065 out of 100\n",
      "Path: 065 out of 100\n",
      "Path: 065 out of 100\n",
      "Path: 065 out of 100\n",
      "Path: 066 out of 100\n",
      "Path: 066 out of 100\n",
      "Path: 066 out of 100\n",
      "Path: 066 out of 100\n",
      "Path: 067 out of 100\n",
      "Path: 067 out of 100\n",
      "Path: 068 out of 100\n",
      "Path: 067 out of 100\n",
      "Path: 067 out of 100\n",
      "Path: 068 out of 100\n",
      "Path: 069 out of 100\n",
      "Path: 068 out of 100\n",
      "Path: 068 out of 100\n",
      "Path: 069 out of 100\n",
      "Path: 070 out of 100\n",
      "Path: 069 out of 100\n",
      "Path: 069 out of 100\n",
      "Path: 070 out of 100\n",
      "Path: 071 out of 100\n",
      "Path: 070 out of 100\n",
      "Path: 071 out of 100\n",
      "Path: 070 out of 100\n",
      "Path: 072 out of 100\n",
      "Path: 071 out of 100\n",
      "Path: 071 out of 100\n",
      "Path: 072 out of 100\n",
      "Path: 073 out of 100\n",
      "Path: 072 out of 100\n",
      "Path: 072 out of 100\n",
      "Path: 074 out of 100\n",
      "Path: 073 out of 100\n",
      "Path: 073 out of 100\n",
      "Path: 073 out of 100\n",
      "Path: 075 out of 100\n",
      "Path: 074 out of 100\n",
      "Path: 074 out of 100\n",
      "Path: 074 out of 100\n",
      "Path: 076 out of 100\n",
      "Path: 075 out of 100\n",
      "Path: 075 out of 100\n",
      "Path: 075 out of 100\n",
      "Path: 077 out of 100\n",
      "Path: 078 out of 100\n",
      "Path: 076 out of 100\n",
      "Path: 076 out of 100\n",
      "Path: 076 out of 100\n",
      "Path: 079 out of 100\n",
      "Path: 080 out of 100\n",
      "Path: 081 out of 100\n",
      "Path: 077 out of 100\n",
      "Path: 077 out of 100\n",
      "Path: 077 out of 100\n",
      "Path: 082 out of 100\n",
      "Path: 078 out of 100\n",
      "Path: 083 out of 100\n",
      "Path: 078 out of 100\n",
      "Path: 078 out of 100\n",
      "Path: 084 out of 100\n",
      "Path: 079 out of 100\n",
      "Path: 085 out of 100\n",
      "Path: 079 out of 100\n",
      "Path: 080 out of 100\n",
      "Path: 079 out of 100\n",
      "Path: 081 out of 100\n",
      "Path: 080 out of 100\n",
      "Path: 086 out of 100\n",
      "Path: 080 out of 100\n",
      "Path: 081 out of 100\n",
      "Path: 082 out of 100\n",
      "Path: 087 out of 100\n",
      "Path: 081 out of 100\n",
      "Path: 083 out of 100\n",
      "Path: 082 out of 100\n",
      "Path: 084 out of 100\n",
      "Path: 082 out of 100\n",
      "Path: 088 out of 100\n",
      "Path: 083 out of 100\n",
      "Path: 085 out of 100\n",
      "Path: 084 out of 100\n",
      "Path: 083 out of 100\n",
      "Path: 089 out of 100\n",
      "Path: 090 out of 100\n",
      "Path: 086 out of 100\n",
      "Path: 085 out of 100\n",
      "Path: 084 out of 100\n",
      "Path: 091 out of 100\n",
      "Path: 092 out of 100\n",
      "Path: 087 out of 100\n",
      "Path: 086 out of 100\n",
      "Path: 085 out of 100\n",
      "Path: 093 out of 100\n",
      "Path: 088 out of 100\n",
      "Path: 094 out of 100\n",
      "Path: 087 out of 100\n",
      "Path: 086 out of 100\n",
      "Path: 089 out of 100\n",
      "Path: 095 out of 100\n",
      "Path: 090 out of 100\n",
      "Path: 088 out of 100\n",
      "Path: 087 out of 100\n",
      "Path: 091 out of 100\n",
      "Path: 096 out of 100\n",
      "Path: 089 out of 100\n",
      "Path: 088 out of 100\n",
      "Path: 092 out of 100\n",
      "Path: 097 out of 100\n",
      "Path: 090 out of 100\n",
      "Path: 089 out of 100\n",
      "Path: 093 out of 100\n",
      "Path: 098 out of 100\n",
      "Path: 091 out of 100\n",
      "Path: 094 out of 100\n",
      "Path: 090 out of 100\n",
      "Path: 099 out of 100\n",
      "Path: 092 out of 100\n",
      "Path: 000 out of 100\n",
      "Path: 001 out of 100\n",
      "Path: 002 out of 100\n",
      "Path: 003 out of 100\n",
      "Path: 004 out of 100\n",
      "Path: 005 out of 100\n",
      "Path: 006 out of 100\n",
      "Path: 095 out of 100\n",
      "Path: 091 out of 100\n",
      "Path: 007 out of 100\n",
      "Path: 093 out of 100\n",
      "Path: 008 out of 100\n"
     ]
    },
    {
     "name": "stdout",
     "output_type": "stream",
     "text": [
      "Path: 009 out of 100\n",
      "Path: 010 out of 100\n",
      "Path: 011 out of 100\n",
      "Path: 012 out of 100\n",
      "Path: 013 out of 100\n",
      "Path: 014 out of 100\n",
      "Path: 015 out of 100\n",
      "Path: 094 out of 100\n",
      "Path: 016 out of 100\n",
      "Path: 017 out of 100\n",
      "Path: 018 out of 100\n",
      "Path: 096 out of 100\n",
      "Path: 092 out of 100\n",
      "Path: 019 out of 100\n",
      "Path: 020 out of 100\n",
      "Path: 021 out of 100\n",
      "Path: 095 out of 100\n",
      "Path: 022 out of 100\n",
      "Path: 097 out of 100\n",
      "Path: 093 out of 100\n",
      "Path: 023 out of 100\n",
      "Path: 024 out of 100\n",
      "Path: 025 out of 100\n",
      "Path: 096 out of 100\n",
      "Path: 026 out of 100\n",
      "Path: 098 out of 100\n",
      "Path: 094 out of 100\n",
      "Path: 027 out of 100\n",
      "Path: 028 out of 100\n",
      "Path: 029 out of 100\n",
      "Path: 099 out of 100\n",
      "Path: 097 out of 100\n",
      "Path: 095 out of 100\n",
      "Path: 030 out of 100\n",
      "Path: 000 out of 100\n",
      "Path: 031 out of 100\n",
      "Path: 001 out of 100\n",
      "Path: 002 out of 100\n",
      "Path: 003 out of 100\n",
      "Path: 004 out of 100\n",
      "Path: 032 out of 100\n",
      "Path: 005 out of 100\n",
      "Path: 006 out of 100\n",
      "Path: 007 out of 100\n",
      "Path: 033 out of 100\n",
      "Path: 008 out of 100\n",
      "Path: 009 out of 100\n",
      "Path: 010 out of 100\n",
      "Path: 011 out of 100\n",
      "Path: 034 out of 100\n",
      "Path: 096 out of 100\n",
      "Path: 098 out of 100\n",
      "Path: 012 out of 100\n",
      "Path: 013 out of 100\n",
      "Path: 014 out of 100\n",
      "Path: 035 out of 100\n",
      "Path: 015 out of 100\n",
      "Path: 016 out of 100\n",
      "Path: 017 out of 100\n",
      "Path: 036 out of 100\n",
      "Path: 018 out of 100\n",
      "Path: 037 out of 100\n",
      "Path: 019 out of 100\n",
      "Path: 020 out of 100\n",
      "Path: 099 out of 100\n",
      "Path: 038 out of 100\n",
      "Path: 097 out of 100\n",
      "Path: 021 out of 100\n",
      "Path: 000 out of 100\n",
      "Path: 039 out of 100\n",
      "Path: 001 out of 100\n",
      "Path: 002 out of 100\n",
      "Path: 022 out of 100\n",
      "Path: 003 out of 100\n",
      "Path: 040 out of 100\n",
      "Path: 004 out of 100\n",
      "Path: 005 out of 100\n",
      "Path: 023 out of 100\n",
      "Path: 006 out of 100\n",
      "Path: 041 out of 100\n",
      "Path: 007 out of 100\n",
      "Path: 008 out of 100\n",
      "Path: 042 out of 100\n",
      "Path: 024 out of 100\n",
      "Path: 009 out of 100\n",
      "Path: 010 out of 100\n",
      "Path: 043 out of 100\n",
      "Path: 011 out of 100\n",
      "Path: 098 out of 100\n",
      "Path: 025 out of 100\n",
      "Path: 012 out of 100\n",
      "Path: 044 out of 100\n",
      "Path: 013 out of 100\n",
      "Path: 014 out of 100\n",
      "Path: 045 out of 100\n",
      "Path: 015 out of 100\n",
      "Path: 026 out of 100\n",
      "Path: 016 out of 100\n",
      "Path: 046 out of 100\n",
      "Path: 017 out of 100\n",
      "Path: 047 out of 100\n",
      "Path: 027 out of 100\n",
      "Path: 018 out of 100\n",
      "Path: 048 out of 100\n",
      "Path: 019 out of 100\n",
      "Path: 028 out of 100\n",
      "Path: 049 out of 100\n",
      "Path: 099 out of 100\n",
      "Path: 020 out of 100\n",
      "Path: 050 out of 100\n",
      "Path: 029 out of 100\n",
      "Path: 051 out of 100\n",
      "Path: 021 out of 100\n",
      "Path: 000 out of 100\n",
      "Path: 052 out of 100\n",
      "Path: 001 out of 100\n",
      "Path: 030 out of 100\n",
      "Path: 002 out of 100\n",
      "Path: 022 out of 100\n",
      "Path: 003 out of 100\n",
      "Path: 004 out of 100\n",
      "Path: 053 out of 100\n",
      "Path: 031 out of 100\n",
      "Path: 005 out of 100\n",
      "Path: 023 out of 100\n",
      "Path: 006 out of 100\n",
      "Path: 007 out of 100\n",
      "Path: 054 out of 100\n",
      "Path: 032 out of 100\n",
      "Path: 008 out of 100\n",
      "Path: 024 out of 100\n",
      "Path: 009 out of 100\n",
      "Path: 010 out of 100\n",
      "Path: 055 out of 100\n",
      "Path: 011 out of 100\n",
      "Path: 033 out of 100\n",
      "Path: 025 out of 100\n",
      "Path: 012 out of 100\n",
      "Path: 013 out of 100\n",
      "Path: 014 out of 100\n",
      "Path: 056 out of 100\n",
      "Path: 034 out of 100\n",
      "Path: 015 out of 100\n",
      "Path: 026 out of 100\n",
      "Path: 016 out of 100\n",
      "Path: 017 out of 100\n",
      "Path: 057 out of 100\n",
      "Path: 035 out of 100\n",
      "Path: 027 out of 100\n",
      "Path: 018 out of 100\n",
      "Path: 036 out of 100\n",
      "Path: 058 out of 100\n",
      "Path: 019 out of 100\n",
      "Path: 028 out of 100\n",
      "Path: 020 out of 100\n",
      "Path: 037 out of 100\n",
      "Path: 059 out of 100\n",
      "Path: 029 out of 100\n",
      "Path: 021 out of 100\n",
      "Path: 038 out of 100\n",
      "Path: 060 out of 100\n",
      "Path: 030 out of 100\n",
      "Path: 022 out of 100\n",
      "Path: 039 out of 100\n",
      "Path: 031 out of 100\n",
      "Path: 061 out of 100\n",
      "Path: 023 out of 100\n",
      "Path: 040 out of 100\n",
      "Path: 032 out of 100\n",
      "Path: 024 out of 100\n",
      "Path: 062 out of 100\n",
      "Path: 041 out of 100\n",
      "Path: 033 out of 100\n",
      "Path: 042 out of 100\n",
      "Path: 025 out of 100\n",
      "Path: 063 out of 100\n",
      "Path: 043 out of 100\n",
      "Path: 034 out of 100\n",
      "Path: 026 out of 100\n",
      "Path: 044 out of 100\n",
      "Path: 064 out of 100\n",
      "Path: 045 out of 100\n",
      "Path: 035 out of 100\n",
      "Path: 027 out of 100\n",
      "Path: 046 out of 100\n",
      "Path: 065 out of 100\n",
      "Path: 036 out of 100\n",
      "Path: 047 out of 100\n",
      "Path: 028 out of 100\n",
      "Path: 048 out of 100\n",
      "Path: 037 out of 100\n",
      "Path: 029 out of 100\n",
      "Path: 049 out of 100\n",
      "Path: 066 out of 100\n",
      "Path: 050 out of 100\n",
      "Path: 038 out of 100\n",
      "Path: 030 out of 100\n",
      "Path: 051 out of 100\n",
      "Path: 052 out of 100\n",
      "Path: 039 out of 100\n",
      "Path: 031 out of 100\n",
      "Path: 067 out of 100\n",
      "Path: 053 out of 100\n",
      "Path: 040 out of 100\n",
      "Path: 032 out of 100\n",
      "Path: 041 out of 100\n",
      "Path: 054 out of 100\n",
      "Path: 068 out of 100\n",
      "Path: 042 out of 100\n",
      "Path: 033 out of 100\n",
      "Path: 043 out of 100\n",
      "Path: 055 out of 100\n",
      "Path: 034 out of 100\n",
      "Path: 044 out of 100\n",
      "Path: 056 out of 100\n",
      "Path: 069 out of 100\n",
      "Path: 045 out of 100\n",
      "Path: 035 out of 100\n",
      "Path: 046 out of 100\n",
      "Path: 057 out of 100\n",
      "Path: 036 out of 100\n",
      "Path: 047 out of 100\n",
      "Path: 070 out of 100\n",
      "Path: 048 out of 100\n",
      "Path: 058 out of 100\n",
      "Path: 037 out of 100\n",
      "Path: 049 out of 100\n",
      "Path: 050 out of 100\n",
      "Path: 059 out of 100\n",
      "Path: 038 out of 100\n",
      "Path: 051 out of 100\n",
      "Path: 071 out of 100\n",
      "Path: 052 out of 100\n",
      "Path: 060 out of 100\n",
      "Path: 039 out of 100\n",
      "Path: 053 out of 100\n",
      "Path: 040 out of 100\n",
      "Path: 061 out of 100\n",
      "Path: 072 out of 100\n",
      "Path: 041 out of 100\n",
      "Path: 054 out of 100\n",
      "Path: 062 out of 100\n",
      "Path: 042 out of 100\n",
      "Path: 043 out of 100\n",
      "Path: 055 out of 100\n",
      "Path: 073 out of 100\n",
      "Path: 063 out of 100\n",
      "Path: 044 out of 100\n",
      "Path: 056 out of 100\n",
      "Path: 045 out of 100\n",
      "Path: 064 out of 100\n",
      "Path: 046 out of 100\n",
      "Path: 057 out of 100\n",
      "Path: 047 out of 100\n",
      "Path: 065 out of 100\n",
      "Path: 048 out of 100\n",
      "Path: 058 out of 100\n",
      "Path: 049 out of 100\n",
      "Path: 074 out of 100\n",
      "Path: 050 out of 100\n",
      "Path: 059 out of 100\n",
      "Path: 066 out of 100\n",
      "Path: 051 out of 100\n",
      "Path: 052 out of 100\n",
      "Path: 060 out of 100\n",
      "Path: 067 out of 100\n",
      "Path: 053 out of 100\n",
      "Path: 061 out of 100\n",
      "Path: 054 out of 100\n",
      "Path: 062 out of 100\n",
      "Path: 075 out of 100\n",
      "Path: 068 out of 100\n",
      "Path: 055 out of 100\n",
      "Path: 063 out of 100\n",
      "Path: 056 out of 100\n",
      "Path: 064 out of 100\n",
      "Path: 069 out of 100\n",
      "Path: 057 out of 100\n",
      "Path: 065 out of 100\n",
      "Path: 058 out of 100\n",
      "Path: 070 out of 100\n",
      "Path: 076 out of 100\n",
      "Path: 059 out of 100\n",
      "Path: 066 out of 100\n",
      "Path: 060 out of 100\n",
      "Path: 071 out of 100\n",
      "Path: 067 out of 100\n",
      "Path: 061 out of 100\n",
      "Path: 062 out of 100\n",
      "Path: 072 out of 100\n",
      "Path: 068 out of 100\n",
      "Path: 077 out of 100\n",
      "Path: 063 out of 100\n",
      "Path: 073 out of 100\n",
      "Path: 064 out of 100\n",
      "Path: 069 out of 100\n",
      "Path: 065 out of 100\n",
      "Path: 070 out of 100\n",
      "Path: 078 out of 100\n",
      "Path: 066 out of 100\n",
      "Path: 074 out of 100\n",
      "Path: 071 out of 100\n",
      "Path: 067 out of 100\n",
      "Path: 072 out of 100\n",
      "Path: 068 out of 100\n",
      "Path: 079 out of 100\n",
      "Path: 075 out of 100\n",
      "Path: 073 out of 100\n",
      "Path: 069 out of 100\n",
      "Path: 070 out of 100\n",
      "Path: 080 out of 100\n",
      "Path: 074 out of 100\n",
      "Path: 076 out of 100\n",
      "Path: 071 out of 100\n",
      "Path: 072 out of 100\n",
      "Path: 081 out of 100\n",
      "Path: 075 out of 100\n",
      "Path: 073 out of 100\n",
      "Path: 077 out of 100\n",
      "Path: 082 out of 100\n",
      "Path: 074 out of 100\n",
      "Path: 076 out of 100\n",
      "Path: 078 out of 100\n",
      "Path: 083 out of 100\n",
      "Path: 075 out of 100\n",
      "Path: 079 out of 100\n",
      "Path: 077 out of 100\n",
      "Path: 084 out of 100\n",
      "Path: 076 out of 100\n",
      "Path: 080 out of 100\n",
      "Path: 078 out of 100\n",
      "Path: 085 out of 100\n",
      "Path: 081 out of 100\n",
      "Path: 077 out of 100\n",
      "Path: 079 out of 100\n",
      "Path: 086 out of 100\n",
      "Path: 082 out of 100\n",
      "Path: 078 out of 100\n",
      "Path: 080 out of 100\n",
      "Path: 087 out of 100\n",
      "Path: 083 out of 100\n",
      "Path: 081 out of 100\n",
      "Path: 088 out of 100\n",
      "Path: 079 out of 100\n",
      "Path: 084 out of 100\n",
      "Path: 082 out of 100\n",
      "Path: 089 out of 100\n",
      "Path: 080 out of 100\n",
      "Path: 085 out of 100\n",
      "Path: 083 out of 100\n",
      "Path: 090 out of 100\n",
      "Path: 081 out of 100\n",
      "Path: 086 out of 100\n",
      "Path: 084 out of 100\n",
      "Path: 082 out of 100\n",
      "Path: 091 out of 100\n",
      "Path: 087 out of 100\n",
      "Path: 085 out of 100\n",
      "Path: 083 out of 100\n",
      "Path: 092 out of 100\n",
      "Path: 088 out of 100\n",
      "Path: 086 out of 100\n",
      "Path: 084 out of 100\n",
      "Path: 093 out of 100\n",
      "Path: 089 out of 100\n",
      "Path: 087 out of 100\n",
      "Path: 085 out of 100\n",
      "Path: 094 out of 100\n",
      "Path: 090 out of 100\n",
      "Path: 088 out of 100\n",
      "Path: 086 out of 100\n",
      "Path: 095 out of 100\n",
      "Path: 091 out of 100\n",
      "Path: 089 out of 100\n",
      "Path: 087 out of 100\n",
      "Path: 096 out of 100\n",
      "Path: 092 out of 100\n",
      "Path: 088 out of 100\n",
      "Path: 090 out of 100\n",
      "Path: 097 out of 100\n",
      "Path: 093 out of 100\n",
      "Path: 089 out of 100\n",
      "Path: 091 out of 100\n",
      "Path: 098 out of 100\n",
      "Path: 094 out of 100\n",
      "Path: 092 out of 100\n",
      "Path: 090 out of 100\n",
      "Path: 099 out of 100\n",
      "Path: 095 out of 100\n",
      "Path: 091 out of 100\n",
      "Path: 093 out of 100\n"
     ]
    },
    {
     "name": "stdout",
     "output_type": "stream",
     "text": [
      "Path: 096 out of 100\n",
      "Path: 094 out of 100\n",
      "Path: 092 out of 100\n",
      "Path: 097 out of 100\n",
      "Path: 095 out of 100\n",
      "Path: 093 out of 100\n",
      "Path: 098 out of 100\n",
      "Path: 096 out of 100\n",
      "Path: 094 out of 100\n",
      "Path: 099 out of 100\n"
     ]
    },
    {
     "name": "stderr",
     "output_type": "stream",
     "text": [
      "[Parallel(n_jobs=4)]: Done   6 out of   8 | elapsed: 203.1min remaining: 67.7min\n"
     ]
    },
    {
     "name": "stdout",
     "output_type": "stream",
     "text": [
      "Path: 095 out of 100\n",
      "Path: 097 out of 100\n",
      "Path: 096 out of 100\n",
      "Path: 098 out of 100\n",
      "Path: 097 out of 100\n",
      "Path: 099 out of 100\n",
      "Path: 098 out of 100\n",
      "Path: 099 out of 100\n"
     ]
    },
    {
     "name": "stderr",
     "output_type": "stream",
     "text": [
      "[Parallel(n_jobs=4)]: Done   8 out of   8 | elapsed: 208.0min finished\n"
     ]
    }
   ],
   "source": [
    "# Prepare cross validation data\n",
    "X = X_train.append(X_val)\n",
    "Y = np.concatenate([y_train, y_val])\n",
    "train_ind=np.zeros(X.shape[0])\n",
    "for i in range(0, len(X_train)):\n",
    "    train_ind[i] = -1\n",
    "ps = PredefinedSplit(test_fold=(train_ind))\n",
    "\n",
    "# Base params\n",
    "max_iter = 1000\n",
    "alphas = None\n",
    "#alphas = [.1, .2, .3, .4, .5, .6, .7, .8, .9, 1]\n",
    "n_alphas = 100\n",
    "l1_ratio = [.1, .3, .5, .7, .9, .95, .99, 1]\n",
    "ecv_params = {  'cv': ps,\n",
    "                 'n_jobs': 4,\n",
    "               \n",
    "                 'max_iter': max_iter,\n",
    "                 'random_state': 0, # Changing this could do ensembling options\n",
    "    \n",
    "                 'alphas': alphas,\n",
    "                 'n_alphas': n_alphas,\n",
    "                 'l1_ratio': l1_ratio,\n",
    "\n",
    "                 'eps': 0.001,\n",
    "\n",
    "                 'tol': 0.0001,\n",
    "                 'fit_intercept': True,\n",
    "                 'normalize': False,\n",
    "                 'positive': False,\n",
    "                 'precompute': False,\n",
    "                 'selection': 'cyclic',\n",
    "                 'copy_X': True,\n",
    "\n",
    "                'verbose': 2\n",
    "            }\n",
    "\n",
    "# Tune\n",
    "ecv = ElasticNetCV()\n",
    "ecv = ecv.set_params(**ecv_params)\n",
    "ecv = ecv.fit(X, Y) # POSTCLIP"
   ]
  },
  {
   "cell_type": "code",
   "execution_count": 10,
   "metadata": {},
   "outputs": [
    {
     "name": "stdout",
     "output_type": "stream",
     "text": [
      "Train RMSE for EN is 0.960584\n",
      "Dev RMSE for EN is 0.995787\n"
     ]
    }
   ],
   "source": [
    "# Score\n",
    "en_scoring(ecv)"
   ]
  },
  {
   "cell_type": "markdown",
   "metadata": {},
   "source": [
    "No better than default parameters..."
   ]
  },
  {
   "cell_type": "code",
   "execution_count": 11,
   "metadata": {},
   "outputs": [
    {
     "name": "stdout",
     "output_type": "stream",
     "text": [
      "(0.40476141516829994, 1.0, 93)\n"
     ]
    }
   ],
   "source": [
    "# Get best estimator parameters\n",
    "best_params = ( ecv.alpha_, ecv.l1_ratio_, ecv.n_iter_)\n",
    "print(best_params)\n",
    "(alpha, l1_ratio, n_iter) = best_params"
   ]
  },
  {
   "cell_type": "markdown",
   "metadata": {},
   "source": [
    "Fit with optimized CV parameters:"
   ]
  },
  {
   "cell_type": "code",
   "execution_count": 23,
   "metadata": {},
   "outputs": [
    {
     "name": "stdout",
     "output_type": "stream",
     "text": [
      "2019-08-05 13:12:12.916598\n",
      "elapsed time: 72.79\n"
     ]
    }
   ],
   "source": [
    "# Best params\n",
    "#alpha, l1_ratio, n_iter = 0.7092, 0.5, 370\n",
    "alpha, l1_ratio, n_iter = 0.404, 1.0, 92\n",
    "\n",
    "max_iter = 1000\n",
    "en_params = get_en_params(alpha, l1_ratio, max_iter)\n",
    "\n",
    "# Fit to train with best parameters\n",
    "print(datetime.datetime.now())\n",
    "t_start = time.time()\n",
    "en_model = ElasticNet()\n",
    "en_model = en_model.set_params(**en_params)\n",
    "en_model = en_model.fit(X_train.values, y_train) # POSTCLIP\n",
    "print(\"elapsed time: %.2f\" % (time.time() - t_start))"
   ]
  },
  {
   "cell_type": "code",
   "execution_count": 24,
   "metadata": {},
   "outputs": [
    {
     "name": "stdout",
     "output_type": "stream",
     "text": [
      "Train RMSE for EN is 0.958163\n",
      "Dev RMSE for EN is 0.994388\n"
     ]
    }
   ],
   "source": [
    "# Score\n",
    "en_scoring(en_model)"
   ]
  },
  {
   "cell_type": "markdown",
   "metadata": {},
   "source": [
    "The ElasticNetCV chosen parameters do not improve default params accuracy ¿¿??\n",
    "\n",
    "Try some manual tuning:"
   ]
  },
  {
   "cell_type": "code",
   "execution_count": 10,
   "metadata": {},
   "outputs": [
    {
     "name": "stdout",
     "output_type": "stream",
     "text": [
      "\n",
      "USING alpha, l1_ratio = (1.0, 0.5)\n",
      "2019-08-05 13:18:45.908675\n",
      "elapsed time: 24.66\n",
      "Train RMSE for EN is 0.956561\n",
      "Dev RMSE for EN is 0.991646\n",
      "\n",
      "USING alpha, l1_ratio = (1.0, 1.0)\n",
      "2019-08-05 13:19:13.589477\n",
      "elapsed time: 21.86\n",
      "Train RMSE for EN is 0.953815\n",
      "Dev RMSE for EN is 0.992727\n",
      "\n",
      "USING alpha, l1_ratio = (1.0, 0.1)\n",
      "2019-08-05 13:19:38.539472\n",
      "elapsed time: 30.48\n",
      "Train RMSE for EN is 0.961252\n",
      "Dev RMSE for EN is 0.994526\n",
      "\n",
      "USING alpha, l1_ratio = (0.5, 0.5)\n",
      "2019-08-05 13:20:12.029422\n",
      "elapsed time: 29.63\n",
      "Train RMSE for EN is 0.959750\n",
      "Dev RMSE for EN is 0.995003\n",
      "\n",
      "USING alpha, l1_ratio = (0.5, 1.0)\n",
      "2019-08-05 13:20:44.813310\n",
      "elapsed time: 24.89\n",
      "Train RMSE for EN is 0.956952\n",
      "Dev RMSE for EN is 0.993560\n",
      "\n",
      "USING alpha, l1_ratio = (0.5, 0.1)\n",
      "2019-08-05 13:21:12.761309\n",
      "elapsed time: 32.47\n",
      "Train RMSE for EN is 0.962833\n",
      "Dev RMSE for EN is 0.997439\n"
     ]
    }
   ],
   "source": [
    "# Other params alpha, l1_ratio\n",
    "max_iter = 1000\n",
    "params = [  (1.0, 0.5),\n",
    "            (1.0, 1.0),\n",
    "            (1.0, 0.1),\n",
    "            (0.5, 0.5),\n",
    "            (0.5, 1.0),\n",
    "            (0.5, 0.1)]\n",
    "\n",
    "for p in params:\n",
    "    print(\"\\nUSING alpha, l1_ratio =\",p)\n",
    "    alpha, l1_ratio = p\n",
    "    en_params = get_en_params(alpha, l1_ratio, max_iter)\n",
    "\n",
    "    # Fit\n",
    "    print(datetime.datetime.now())\n",
    "    t_start = time.time()\n",
    "    en_model = ElasticNet()\n",
    "    en_model = en_model.set_params(**en_params)\n",
    "    en_model = en_model.fit(X_train.values, y_train) # POSTCLIP\n",
    "    print(\"elapsed time: %.2f\" % (time.time() - t_start))\n",
    "    \n",
    "    # Score\n",
    "    en_scoring(en_model)"
   ]
  },
  {
   "cell_type": "markdown",
   "metadata": {},
   "source": [
    "# LightGBM\n",
    "\n",
    "Tune a base LightGBM model."
   ]
  },
  {
   "cell_type": "code",
   "execution_count": 8,
   "metadata": {},
   "outputs": [],
   "source": [
    "# Function to score to test and validation\n",
    "def lgb_scoring(scoring_model, cols=None):\n",
    "    scoring('LGBM', scoring_model, target_range,\n",
    "            X_train, y_train, X_val, y_val, values=False, cols=cols)\n",
    "\n",
    "# Function to get parameters\n",
    "def lgb_get_params(lr):\n",
    "    return {\n",
    "               'feature_fraction': 0.75,\n",
    "               'metric': 'rmse',\n",
    "               'nthread':1, \n",
    "               'min_data_in_leaf': 2**7, \n",
    "               'bagging_fraction': 0.75, \n",
    "               'learning_rate': lr, \n",
    "               'objective': 'mse', \n",
    "               'bagging_seed': 2**7, \n",
    "               'num_leaves': 2**7,\n",
    "               'bagging_freq':1,\n",
    "               'verbose':0 \n",
    "              }"
   ]
  },
  {
   "cell_type": "code",
   "execution_count": 15,
   "metadata": {
    "scrolled": true
   },
   "outputs": [
    {
     "name": "stdout",
     "output_type": "stream",
     "text": [
      "[1]\tval's rmse: 1.12483\n",
      "Training until validation scores don't improve for 3 rounds.\n",
      "[2]\tval's rmse: 1.11375\n",
      "[3]\tval's rmse: 1.10479\n",
      "[4]\tval's rmse: 1.09599\n",
      "[5]\tval's rmse: 1.08648\n",
      "[6]\tval's rmse: 1.07892\n",
      "[7]\tval's rmse: 1.0704\n",
      "[8]\tval's rmse: 1.06238\n",
      "[9]\tval's rmse: 1.05461\n",
      "[10]\tval's rmse: 1.04728\n",
      "[11]\tval's rmse: 1.04046\n",
      "[12]\tval's rmse: 1.03426\n",
      "[13]\tval's rmse: 1.02834\n",
      "[14]\tval's rmse: 1.02377\n",
      "[15]\tval's rmse: 1.0184\n",
      "[16]\tval's rmse: 1.01343\n",
      "[17]\tval's rmse: 1.00862\n",
      "[18]\tval's rmse: 1.00403\n",
      "[19]\tval's rmse: 1.00032\n",
      "[20]\tval's rmse: 0.996231\n",
      "[21]\tval's rmse: 0.992354\n",
      "[22]\tval's rmse: 0.988654\n",
      "[23]\tval's rmse: 0.985796\n",
      "[24]\tval's rmse: 0.982618\n",
      "[25]\tval's rmse: 0.980035\n",
      "[26]\tval's rmse: 0.977185\n",
      "[27]\tval's rmse: 0.974595\n",
      "[28]\tval's rmse: 0.972\n",
      "[29]\tval's rmse: 0.969548\n",
      "[30]\tval's rmse: 0.96732\n",
      "[31]\tval's rmse: 0.96518\n",
      "[32]\tval's rmse: 0.963157\n",
      "[33]\tval's rmse: 0.961252\n",
      "[34]\tval's rmse: 0.959434\n",
      "[35]\tval's rmse: 0.957943\n",
      "[36]\tval's rmse: 0.956401\n",
      "[37]\tval's rmse: 0.954839\n",
      "[38]\tval's rmse: 0.95371\n",
      "[39]\tval's rmse: 0.952285\n",
      "[40]\tval's rmse: 0.950877\n",
      "[41]\tval's rmse: 0.950026\n",
      "[42]\tval's rmse: 0.948823\n",
      "[43]\tval's rmse: 0.947829\n",
      "[44]\tval's rmse: 0.947084\n",
      "[45]\tval's rmse: 0.946235\n",
      "[46]\tval's rmse: 0.945356\n",
      "[47]\tval's rmse: 0.94481\n",
      "[48]\tval's rmse: 0.944117\n",
      "[49]\tval's rmse: 0.943297\n",
      "[50]\tval's rmse: 0.942599\n",
      "[51]\tval's rmse: 0.941986\n",
      "[52]\tval's rmse: 0.941413\n",
      "[53]\tval's rmse: 0.94087\n",
      "[54]\tval's rmse: 0.940369\n",
      "[55]\tval's rmse: 0.939855\n",
      "[56]\tval's rmse: 0.939403\n",
      "[57]\tval's rmse: 0.938974\n",
      "[58]\tval's rmse: 0.938773\n",
      "[59]\tval's rmse: 0.93838\n",
      "[60]\tval's rmse: 0.938007\n",
      "[61]\tval's rmse: 0.937609\n",
      "[62]\tval's rmse: 0.937358\n",
      "[63]\tval's rmse: 0.93715\n",
      "[64]\tval's rmse: 0.936873\n",
      "[65]\tval's rmse: 0.936575\n",
      "[66]\tval's rmse: 0.936428\n",
      "[67]\tval's rmse: 0.936249\n",
      "[68]\tval's rmse: 0.93606\n",
      "[69]\tval's rmse: 0.935905\n",
      "[70]\tval's rmse: 0.935782\n",
      "[71]\tval's rmse: 0.93566\n",
      "[72]\tval's rmse: 0.935521\n",
      "[73]\tval's rmse: 0.93538\n",
      "[74]\tval's rmse: 0.935327\n",
      "[75]\tval's rmse: 0.935216\n",
      "[76]\tval's rmse: 0.935025\n",
      "[77]\tval's rmse: 0.934923\n",
      "[78]\tval's rmse: 0.934764\n",
      "[79]\tval's rmse: 0.93455\n",
      "[80]\tval's rmse: 0.934359\n",
      "[81]\tval's rmse: 0.934266\n",
      "[82]\tval's rmse: 0.934222\n",
      "[83]\tval's rmse: 0.934079\n",
      "[84]\tval's rmse: 0.93394\n",
      "[85]\tval's rmse: 0.933931\n",
      "[86]\tval's rmse: 0.933947\n",
      "[87]\tval's rmse: 0.933779\n",
      "[88]\tval's rmse: 0.93356\n",
      "[89]\tval's rmse: 0.93344\n",
      "[90]\tval's rmse: 0.933278\n",
      "[91]\tval's rmse: 0.933143\n",
      "[92]\tval's rmse: 0.933092\n",
      "[93]\tval's rmse: 0.932982\n",
      "[94]\tval's rmse: 0.932921\n",
      "[95]\tval's rmse: 0.932835\n",
      "[96]\tval's rmse: 0.932791\n",
      "[97]\tval's rmse: 0.932748\n",
      "[98]\tval's rmse: 0.93264\n",
      "[99]\tval's rmse: 0.93262\n",
      "[100]\tval's rmse: 0.932556\n",
      "[101]\tval's rmse: 0.93253\n",
      "[102]\tval's rmse: 0.932486\n",
      "[103]\tval's rmse: 0.932401\n",
      "[104]\tval's rmse: 0.932275\n",
      "[105]\tval's rmse: 0.932181\n",
      "[106]\tval's rmse: 0.932147\n",
      "[107]\tval's rmse: 0.932051\n",
      "[108]\tval's rmse: 0.931967\n",
      "[109]\tval's rmse: 0.931925\n",
      "[110]\tval's rmse: 0.931883\n",
      "[111]\tval's rmse: 0.931847\n",
      "[112]\tval's rmse: 0.931844\n",
      "[113]\tval's rmse: 0.931811\n",
      "[114]\tval's rmse: 0.931803\n",
      "[115]\tval's rmse: 0.931784\n",
      "[116]\tval's rmse: 0.931828\n",
      "[117]\tval's rmse: 0.931862\n",
      "[118]\tval's rmse: 0.931859\n",
      "Early stopping, best iteration is:\n",
      "[115]\tval's rmse: 0.931784\n"
     ]
    }
   ],
   "source": [
    "lgb_lr = 0.03\n",
    "lgb_iterations = 1000\n",
    "lgb_params = lgb_get_params(lgb_lr)\n",
    "\n",
    "# Fit with early stopping to check the iterations (tuning)\n",
    "model_early = lgb.train(lgb_params, lgb.Dataset(X_train, label=y_train.clip(*target_range)), \n",
    "                        num_boost_round=lgb_iterations,\n",
    "                        valid_sets=[lgb.Dataset(X_val, label=y_val.clip(*target_range))], \n",
    "                        valid_names=['val'], \n",
    "                        early_stopping_rounds=3)"
   ]
  },
  {
   "cell_type": "code",
   "execution_count": 16,
   "metadata": {},
   "outputs": [
    {
     "name": "stdout",
     "output_type": "stream",
     "text": [
      "Train RMSE for RMSE is 0.847840\n",
      "Dev RMSE for RMSE is 0.931783\n"
     ]
    }
   ],
   "source": [
    "# Score to Train and Validation\n",
    "lgb_scoring(model_early)"
   ]
  },
  {
   "cell_type": "code",
   "execution_count": 19,
   "metadata": {},
   "outputs": [
    {
     "data": {
      "text/plain": [
       "256"
      ]
     },
     "execution_count": 19,
     "metadata": {},
     "output_type": "execute_result"
    }
   ],
   "source": [
    "del(model_early)\n",
    "gc.collect()"
   ]
  },
  {
   "cell_type": "code",
   "execution_count": 27,
   "metadata": {},
   "outputs": [
    {
     "name": "stdout",
     "output_type": "stream",
     "text": [
      "2019-08-03 22:32:27.147582\n",
      "elapsed time: 188.83\n"
     ]
    }
   ],
   "source": [
    "# Chosen parameters for LightGBM\n",
    "lgb_lr = 0.03\n",
    "lgb_iterations = 110\n",
    "lgb_params = lgb_get_params(lgb_lr)\n",
    "\n",
    "# Fit to train\n",
    "print(datetime.datetime.now())\n",
    "t_start = time.time()\n",
    "lgb_model = lgb.train(lgb_params, \n",
    "                  lgb.Dataset(X_train, label=y_train.clip(*target_range)), \n",
    "                  num_boost_round=lgb_iterations)\n",
    "print(\"elapsed time: %.2f\" % (time.time() - t_start))"
   ]
  },
  {
   "cell_type": "code",
   "execution_count": 28,
   "metadata": {},
   "outputs": [
    {
     "name": "stdout",
     "output_type": "stream",
     "text": [
      "Train RMSE for RMSE is 0.849565\n",
      "Dev RMSE for RMSE is 0.931882\n"
     ]
    }
   ],
   "source": [
    "# Score 0.03 and 100\n",
    "# Train RMSE for RMSE is 0.853100\n",
    "# Dev RMSE for RMSE is 0.932555\n",
    "\n",
    "# Score 0.03 and 120\n",
    "#Train RMSE for RMSE is 0.846282\n",
    "#Dev RMSE for RMSE is 0.931890\n",
    "\n",
    "#Score 0.03 and 110\n",
    "lgb_scoring(lgb_model)"
   ]
  },
  {
   "cell_type": "code",
   "execution_count": 29,
   "metadata": {},
   "outputs": [
    {
     "data": {
      "image/png": "[encoded data removed]",
      "text/plain": [
       "<matplotlib.figure.Figure at 0x1a17f98780>"
      ]
     },
     "metadata": {
      "needs_background": "light"
     },
     "output_type": "display_data"
    }
   ],
   "source": [
    "# Check importance of features\n",
    "feat_importances = pd.Series(lgb_model.feature_importance(), index=X_val.columns)\n",
    "feat_importances = feat_importances.nlargest(20)\n",
    "ax = feat_importances.plot(kind='barh')\n",
    "p = plt.title('Feature importance LGBM')\n",
    "p = plt.gcf().set_size_inches(8.5, 8.5)\n",
    "p = plt.show()"
   ]
  },
  {
   "cell_type": "code",
   "execution_count": 9,
   "metadata": {},
   "outputs": [
    {
     "name": "stdout",
     "output_type": "stream",
     "text": [
      "elapsed time: 126.80\n"
     ]
    }
   ],
   "source": [
    "# Check the impact of training with less features (the more important ones)\n",
    "\n",
    "fit_cols_lgb = ['item_category_id', 'item_category_id_enc', \n",
    "'target_lag_1',            'target_lag_2',            'target_lag_3',            'target_lag_12', \n",
    "'target_shop_lag_1',       'target_shop_lag_2',       'target_shop_lag_3',       'target_shop_lag_12', \n",
    "'target_item_lag_1',       'target_item_lag_2',       'target_item_lag_3',       'target_item_lag_12', \n",
    "'target_category_lag_1',   'target_category_lag_2',   'target_category_lag_3',   'target_category_lag_12',\n",
    "'target_item_price_lag_1', 'target_item_price_lag_2', 'target_item_price_lag_3', 'target_item_price_lag_12']\n",
    "\n",
    "lgb_lr = 0.03\n",
    "lgb_iterations = 110\n",
    "lgb_params = lgb_get_params(lgb_lr)\n",
    "\n",
    "# Fit to train\n",
    "t_start = time.time()\n",
    "X_train_small = X_train[fit_cols_lgb]\n",
    "lgb_model2 = lgb.train(lgb_params, lgb.Dataset(X_train_small, label=y_train), num_boost_round=lgb_iterations)\n",
    "print(\"elapsed time: %.2f\" % (time.time() - t_start))"
   ]
  },
  {
   "cell_type": "code",
   "execution_count": 10,
   "metadata": {},
   "outputs": [
    {
     "name": "stdout",
     "output_type": "stream",
     "text": [
      "Train RMSE for LGBM is 0.868567\n",
      "Dev RMSE for LGBM is 0.977681\n"
     ]
    }
   ],
   "source": [
    "# Score with less features\n",
    "lgb_scoring(lgb_model2, fit_cols_lgb)"
   ]
  },
  {
   "cell_type": "code",
   "execution_count": 35,
   "metadata": {},
   "outputs": [
    {
     "data": {
      "text/plain": [
       "114"
      ]
     },
     "execution_count": 35,
     "metadata": {},
     "output_type": "execute_result"
    }
   ],
   "source": [
    "del(lgb_model)\n",
    "del(lgb_model2)\n",
    "gc.collect()"
   ]
  },
  {
   "cell_type": "markdown",
   "metadata": {},
   "source": [
    "# Correlation between models\n",
    "They should be not very correlated to make a good first level ensemble mates.\n",
    "\n",
    "By the correlation observation I can select a better 2-nd level model."
   ]
  },
  {
   "cell_type": "code",
   "execution_count": 35,
   "metadata": {},
   "outputs": [],
   "source": [
    "import models"
   ]
  },
  {
   "cell_type": "code",
   "execution_count": 20,
   "metadata": {},
   "outputs": [
    {
     "name": "stdout",
     "output_type": "stream",
     "text": [
      "\n",
      "Fit LR\n",
      "2019-08-04 19:53:34.697513\n",
      "elapsed training time: 10.99\n",
      " ** predictions clipping to [0, 20]\n",
      "elapsed infer time: 0.11\n",
      " ** predictions clipping to [0, 20]\n",
      "Dev RMSE for LR is 1.001641\n",
      "\n",
      "Fit LightGBM\n",
      "2019-08-04 19:53:45.793872\n",
      " ** predictions clipping to [0, 20]\n",
      "elapsed training time: 189.67\n",
      " ** predictions clipping to [0, 20]\n",
      "elapsed infer time: 2.74\n",
      " ** predictions clipping to [0, 20]\n",
      "Dev RMSE for LightGBM is 0.931882\n",
      "\n",
      "Predicting for train...\n",
      " ** predictions clipping to [0, 20]\n",
      "elapsed infer time: 2.79\n",
      " ** predictions clipping to [0, 20]\n",
      "elapsed infer time: 74.07\n",
      "\n",
      "Predicting for dev...\n",
      " ** predictions clipping to [0, 20]\n",
      "elapsed infer time: 0.07\n",
      " ** predictions clipping to [0, 20]\n",
      "elapsed infer time: 2.66\n"
     ]
    },
    {
     "data": {
      "image/png": "[encoded data removed]",
      "text/plain": [
       "<matplotlib.figure.Figure at 0x11191b550>"
      ]
     },
     "metadata": {
      "needs_background": "light"
     },
     "output_type": "display_data"
    }
   ],
   "source": [
    "# LinearRegressor and LightGBM\n",
    "m1 = models.modelLR(target_range)\n",
    "m2 = models.modelLGB(target_range)\n",
    "models.compare_models(m1, m2, X_train, y_train, X_val, y_val)"
   ]
  },
  {
   "cell_type": "code",
   "execution_count": 12,
   "metadata": {},
   "outputs": [
    {
     "name": "stdout",
     "output_type": "stream",
     "text": [
      "\n",
      "Fit ElasticNet\n",
      "2019-08-05 20:50:50.683247\n",
      "elapsed training time: 24.45\n",
      " ** predictions clipping to [0, 20]\n",
      "elapsed infer time: 0.11\n",
      " ** predictions clipping to [0, 20]\n",
      "Dev RMSE for ElasticNet is 0.991646\n",
      "\n",
      "Fit LightGBM\n",
      "2019-08-05 20:51:15.272227\n",
      " ** predictions clipping to [0, 20]\n",
      "elapsed training time: 161.20\n",
      " ** predictions clipping to [0, 20]\n",
      "elapsed infer time: 3.19\n",
      " ** predictions clipping to [0, 20]\n",
      "Dev RMSE for LightGBM is 0.932113\n",
      "\n",
      "Predicting for train...\n",
      " ** predictions clipping to [0, 20]\n",
      "elapsed infer time: 2.71\n",
      " ** predictions clipping to [0, 20]\n",
      "elapsed infer time: 84.80\n",
      "\n",
      "Predicting for dev...\n",
      " ** predictions clipping to [0, 20]\n",
      "elapsed infer time: 0.12\n",
      " ** predictions clipping to [0, 20]\n",
      "elapsed infer time: 3.30\n"
     ]
    },
    {
     "data": {
      "image/png": "[encoded data removed]",
      "text/plain": [
       "<Figure size 1188x612 with 2 Axes>"
      ]
     },
     "metadata": {
      "needs_background": "light"
     },
     "output_type": "display_data"
    }
   ],
   "source": [
    "# ElasticNet and LightGBM\n",
    "m1 = models.modelEN(target_range)\n",
    "m2 = models.modelLGB(target_range)\n",
    "models.compare_models(m1, m2, X_train, y_train, X_val, y_val)"
   ]
  },
  {
   "cell_type": "code",
   "execution_count": 10,
   "metadata": {},
   "outputs": [
    {
     "name": "stdout",
     "output_type": "stream",
     "text": [
      "model in GPU\n",
      "model in GPU\n",
      "{'num_feat': 32, 'n_hidden1': 200, 'n_hidden2': 100, 'dropout': 0.2, 'optim_type': 'adam', 'learning_rate': 0.0001, 'batch_size': 1024}\n",
      "\n",
      "Fit NNR\n",
      "2019-08-06 02:50:46.535768\n",
      " ** predictions clipping to [0, 20]\n",
      " ** predictions clipping to [0, 20]\n",
      "\n",
      "2019-08-06 02:50:49 ---- START training\n",
      ". . . . . . . . . . . . . . . . . . . . . . . . . . . . . . . . . . . . \n",
      "2019-08-06 03:19:08 *** Early stop at epoch 34/99, best_ValLoss = 0.9341\n",
      "2019-08-06 03:19:08 --- DONE Epoch = 34/99 AvgLoss = 0.8369 ValLoss = 0.9377\n",
      "\n",
      "elapsed training time: 1701.99\n",
      " ** predictions clipping to [0, 20]\n",
      "elapsed infer time: 0.15\n",
      " ** predictions clipping to [0, 20]\n",
      "Dev RMSE for NNR is 0.965313\n",
      "\n",
      "Fit LightGBM\n",
      "2019-08-06 03:19:08.709428\n",
      " ** predictions clipping to [0, 20]\n",
      "elapsed training time: 154.93\n",
      " ** predictions clipping to [0, 20]\n",
      "elapsed infer time: 3.11\n",
      " ** predictions clipping to [0, 20]\n",
      "Dev RMSE for LightGBM is 0.932113\n",
      "\n",
      "Predicting for train...\n",
      " ** predictions clipping to [0, 20]\n",
      "elapsed infer time: 43.00\n",
      " ** predictions clipping to [0, 20]\n",
      "elapsed infer time: 84.66\n",
      "\n",
      "Predicting for dev...\n",
      " ** predictions clipping to [0, 20]\n",
      "elapsed infer time: 0.35\n",
      " ** predictions clipping to [0, 20]\n",
      "elapsed infer time: 3.10\n"
     ]
    },
    {
     "data": {
      "image/png": "[encoded data removed]",
      "text/plain": [
       "<Figure size 1188x612 with 2 Axes>"
      ]
     },
     "metadata": {
      "needs_background": "light"
     },
     "output_type": "display_data"
    }
   ],
   "source": [
    "# NNRegressor and LightGBM\n",
    "m1 = models.modelNNR(target_range)\n",
    "m2 = models.modelLGB(target_range)\n",
    "models.compare_models(m1, m2, X_train, y_train, X_val, y_val, m1_early=True)"
   ]
  },
  {
   "cell_type": "markdown",
   "metadata": {},
   "source": [
    "# Random Forest Regressor\n",
    "\n",
    "RendomForest regressor."
   ]
  },
  {
   "cell_type": "code",
   "execution_count": 10,
   "metadata": {},
   "outputs": [
    {
     "name": "stdout",
     "output_type": "stream",
     "text": [
      "2019-08-04 01:00:16.731382\n",
      "building tree 1 of 300building tree 2 of 300\n",
      "\n",
      "building tree 3 of 300\n",
      "building tree 4 of 300\n",
      "building tree 5 of 300\n",
      "building tree 6 of 300\n",
      "building tree 7 of 300\n",
      "building tree 8 of 300\n",
      "building tree 9 of 300\n",
      "building tree 10 of 300\n",
      "building tree 11 of 300\n",
      "building tree 12 of 300\n",
      "building tree 13 of 300\n",
      "building tree 14 of 300\n",
      "building tree 15 of 300\n",
      "building tree 16 of 300\n",
      "building tree 17 of 300building tree 18 of 300\n",
      "\n",
      "building tree 19 of 300\n",
      "building tree 20 of 300\n",
      "building tree 21 of 300\n",
      "building tree 22 of 300\n",
      "building tree 23 of 300\n",
      "building tree 24 of 300\n",
      "building tree 25 of 300\n",
      "building tree 26 of 300\n",
      "building tree 27 of 300\n",
      "building tree 28 of 300\n",
      "building tree 29 of 300\n",
      "building tree 30 of 300\n",
      "building tree 31 of 300\n",
      "building tree 32 of 300\n",
      "building tree 33 of 300\n",
      "building tree 34 of 300\n",
      "building tree 35 of 300\n",
      "building tree 36 of 300\n"
     ]
    },
    {
     "name": "stderr",
     "output_type": "stream",
     "text": [
      "[Parallel(n_jobs=4)]: Done  33 tasks      | elapsed: 60.0min\n"
     ]
    },
    {
     "name": "stdout",
     "output_type": "stream",
     "text": [
      "building tree 37 of 300\n",
      "building tree 38 of 300\n",
      "building tree 39 of 300\n",
      "building tree 40 of 300\n",
      "building tree 41 of 300\n",
      "building tree 42 of 300\n",
      "building tree 43 of 300\n",
      "building tree 44 of 300\n",
      "building tree 45 of 300\n",
      "building tree 46 of 300\n",
      "building tree 47 of 300\n",
      "building tree 48 of 300\n",
      "building tree 49 of 300\n",
      "building tree 50 of 300\n",
      "building tree 51 of 300\n",
      "building tree 52 of 300\n",
      "building tree 53 of 300\n",
      "building tree 54 of 300\n",
      "building tree 55 of 300\n",
      "building tree 56 of 300\n",
      "building tree 57 of 300\n",
      "building tree 58 of 300\n",
      "building tree 59 of 300\n",
      "building tree 60 of 300\n",
      "building tree 61 of 300\n",
      "building tree 62 of 300\n",
      "building tree 63 of 300\n",
      "building tree 64 of 300\n",
      "building tree 65 of 300\n",
      "building tree 66 of 300\n",
      "building tree 67 of 300\n",
      "building tree 68 of 300\n",
      "building tree 69 of 300\n",
      "building tree 70 of 300\n",
      "building tree 71 of 300\n",
      "building tree 72 of 300\n",
      "building tree 73 of 300\n",
      "building tree 74 of 300\n",
      "building tree 75 of 300\n",
      "building tree 76 of 300\n",
      "building tree 77 of 300\n",
      "building tree 78 of 300\n",
      "building tree 79 of 300\n",
      "building tree 80 of 300\n",
      "building tree 81 of 300\n",
      "building tree 82 of 300\n",
      "building tree 83 of 300\n",
      "building tree 84 of 300\n",
      "building tree 85 of 300\n",
      "building tree 86 of 300\n",
      "building tree 87 of 300\n",
      "building tree 88 of 300\n",
      "building tree 89 of 300\n",
      "building tree 90 of 300\n",
      "building tree 91 of 300\n",
      "building tree 92 of 300\n",
      "building tree 93 of 300\n",
      "building tree 94 of 300\n",
      "building tree 95 of 300\n",
      "building tree 96 of 300\n",
      "building tree 97 of 300\n",
      "building tree 98 of 300\n",
      "building tree 99 of 300\n",
      "building tree 100 of 300\n",
      "building tree 101 of 300\n",
      "building tree 102 of 300\n",
      "building tree 103 of 300\n",
      "building tree 104 of 300\n",
      "building tree 105 of 300\n",
      "building tree 106 of 300\n",
      "building tree 107 of 300\n",
      "building tree 108 of 300\n",
      "building tree 109 of 300\n",
      "building tree 110 of 300\n",
      "building tree 111 of 300\n",
      "building tree 112 of 300\n",
      "building tree 113 of 300\n",
      "building tree 114 of 300\n",
      "building tree 115 of 300\n",
      "building tree 116 of 300\n",
      "building tree 117 of 300\n",
      "building tree 118 of 300\n",
      "building tree 119 of 300\n",
      "building tree 120 of 300\n",
      "building tree 121 of 300\n",
      "building tree 122 of 300\n",
      "building tree 123 of 300\n",
      "building tree 124 of 300\n",
      "building tree 125 of 300\n",
      "building tree 126 of 300\n",
      "building tree 127 of 300\n",
      "building tree 128 of 300\n"
     ]
    },
    {
     "name": "stderr",
     "output_type": "stream",
     "text": [
      "ERROR:root:Internal Python error in the inspect module.\n",
      "Below is the traceback from this internal error.\n",
      "\n"
     ]
    },
    {
     "name": "stdout",
     "output_type": "stream",
     "text": [
      "Traceback (most recent call last):\n",
      "  File \"/Users/mar/miniconda3/envs/coursera-kaggle/lib/python3.6/site-packages/IPython/core/interactiveshell.py\", line 3326, in run_code\n",
      "    exec(code_obj, self.user_global_ns, self.user_ns)\n",
      "  File \"<ipython-input-10-c8bfc82b04c2>\", line 36, in <module>\n",
      "    rfr_model = rfr_model.fit(X_train.values, y_train)\n",
      "  File \"/Users/mar/miniconda3/envs/coursera-kaggle/lib/python3.6/site-packages/sklearn/ensemble/forest.py\", line 327, in fit\n",
      "    for i, t in enumerate(trees))\n",
      "  File \"/Users/mar/miniconda3/envs/coursera-kaggle/lib/python3.6/site-packages/sklearn/externals/joblib/parallel.py\", line 789, in __call__\n",
      "    self.retrieve()\n",
      "  File \"/Users/mar/miniconda3/envs/coursera-kaggle/lib/python3.6/site-packages/sklearn/externals/joblib/parallel.py\", line 699, in retrieve\n",
      "    self._output.extend(job.get(timeout=self.timeout))\n",
      "  File \"/Users/mar/miniconda3/envs/coursera-kaggle/lib/python3.6/multiprocessing/pool.py\", line 638, in get\n",
      "    self.wait(timeout)\n",
      "  File \"/Users/mar/miniconda3/envs/coursera-kaggle/lib/python3.6/multiprocessing/pool.py\", line 635, in wait\n",
      "    self._event.wait(timeout)\n",
      "  File \"/Users/mar/miniconda3/envs/coursera-kaggle/lib/python3.6/threading.py\", line 551, in wait\n",
      "    signaled = self._cond.wait(timeout)\n",
      "  File \"/Users/mar/miniconda3/envs/coursera-kaggle/lib/python3.6/threading.py\", line 295, in wait\n",
      "    waiter.acquire()\n",
      "KeyboardInterrupt\n",
      "\n",
      "During handling of the above exception, another exception occurred:\n",
      "\n",
      "Traceback (most recent call last):\n",
      "  File \"/Users/mar/miniconda3/envs/coursera-kaggle/lib/python3.6/site-packages/IPython/core/interactiveshell.py\", line 2040, in showtraceback\n",
      "    stb = value._render_traceback_()\n",
      "AttributeError: 'KeyboardInterrupt' object has no attribute '_render_traceback_'\n",
      "\n",
      "During handling of the above exception, another exception occurred:\n",
      "\n",
      "Traceback (most recent call last):\n",
      "  File \"/Users/mar/miniconda3/envs/coursera-kaggle/lib/python3.6/site-packages/IPython/core/ultratb.py\", line 1101, in get_records\n",
      "    return _fixed_getinnerframes(etb, number_of_lines_of_context, tb_offset)\n",
      "  File \"/Users/mar/miniconda3/envs/coursera-kaggle/lib/python3.6/site-packages/IPython/core/ultratb.py\", line 319, in wrapped\n",
      "    return f(*args, **kwargs)\n",
      "  File \"/Users/mar/miniconda3/envs/coursera-kaggle/lib/python3.6/site-packages/IPython/core/ultratb.py\", line 353, in _fixed_getinnerframes\n",
      "    records = fix_frame_records_filenames(inspect.getinnerframes(etb, context))\n",
      "  File \"/Users/mar/miniconda3/envs/coursera-kaggle/lib/python3.6/inspect.py\", line 1490, in getinnerframes\n",
      "    frameinfo = (tb.tb_frame,) + getframeinfo(tb, context)\n",
      "  File \"/Users/mar/miniconda3/envs/coursera-kaggle/lib/python3.6/inspect.py\", line 1448, in getframeinfo\n",
      "    filename = getsourcefile(frame) or getfile(frame)\n",
      "  File \"/Users/mar/miniconda3/envs/coursera-kaggle/lib/python3.6/inspect.py\", line 696, in getsourcefile\n",
      "    if getattr(getmodule(object, filename), '__loader__', None) is not None:\n",
      "  File \"/Users/mar/miniconda3/envs/coursera-kaggle/lib/python3.6/inspect.py\", line 725, in getmodule\n",
      "    file = getabsfile(object, _filename)\n",
      "  File \"/Users/mar/miniconda3/envs/coursera-kaggle/lib/python3.6/inspect.py\", line 709, in getabsfile\n",
      "    return os.path.normcase(os.path.abspath(_filename))\n",
      "  File \"/Users/mar/miniconda3/envs/coursera-kaggle/lib/python3.6/posixpath.py\", line 383, in abspath\n",
      "    cwd = os.getcwd()\n",
      "FileNotFoundError: [Errno 2] No such file or directory\n"
     ]
    },
    {
     "ename": "KeyboardInterrupt",
     "evalue": "",
     "output_type": "error",
     "traceback": [
      "\u001b[0;31m---------------------------------------------------------------------------\u001b[0m"
     ]
    }
   ],
   "source": [
    "def rfr_scoring(scoring_model, cols=None):\n",
    "    scoring('RFR', scoring_model, target_range,\n",
    "            X_train, y_train, X_val, y_val, values=True, cols=cols)\n",
    "\n",
    "# Base params\n",
    "#n_estimators = 10 # by default\n",
    "n_estimators = 300\n",
    "rfr_params = {\n",
    "             'random_state': 0, # Changing this could do ensembling options\n",
    "             'n_jobs': 4,\n",
    "\n",
    "             'n_estimators': n_estimators,\n",
    "\n",
    "             'bootstrap': True,\n",
    "             'max_depth': None,\n",
    "             'max_features': 'auto',\n",
    "    \n",
    "             'max_leaf_nodes': None,\n",
    "             'min_impurity_decrease': 0.0,\n",
    "             'min_impurity_split': None,\n",
    "             'min_samples_leaf': 1,\n",
    "             'min_samples_split': 2,\n",
    "             'min_weight_fraction_leaf': 0.0,\n",
    "\n",
    "             'criterion': 'mse',\n",
    "             'oob_score': False,\n",
    "             'warm_start': False,\n",
    "\n",
    "             'verbose': 2,\n",
    "            }\n",
    "\n",
    "# Fit to train with base parameters\n",
    "print(datetime.datetime.now())\n",
    "t_start = time.time()\n",
    "rfr_model = RandomForestRegressor()\n",
    "rfr_model = rfr_model.set_params(**rfr_params)\n",
    "rfr_model = rfr_model.fit(X_train.values, y_train.clip(*target_range))\n",
    "print(\"elapsed time: %.2f\" % (time.time() - t_start))"
   ]
  },
  {
   "cell_type": "code",
   "execution_count": null,
   "metadata": {},
   "outputs": [],
   "source": [
    "# Score 300 estimators\n",
    "rfr_scoring(rfr_model)"
   ]
  },
  {
   "cell_type": "code",
   "execution_count": 11,
   "metadata": {},
   "outputs": [
    {
     "name": "stderr",
     "output_type": "stream",
     "text": [
      "[Parallel(n_jobs=4)]: Done  10 out of  10 | elapsed:   12.4s finished\n"
     ]
    },
    {
     "name": "stdout",
     "output_type": "stream",
     "text": [
      "Train RMSE for RFR is 0.604763\n"
     ]
    },
    {
     "name": "stderr",
     "output_type": "stream",
     "text": [
      "[Parallel(n_jobs=4)]: Done  10 out of  10 | elapsed:    0.4s finished\n"
     ]
    },
    {
     "name": "stdout",
     "output_type": "stream",
     "text": [
      "Dev RMSE for RFR is 1.059397\n"
     ]
    }
   ],
   "source": [
    "# Score 10 estimators\n",
    "rfr_scoring(rfr_model)"
   ]
  },
  {
   "cell_type": "markdown",
   "metadata": {},
   "source": [
    "TAKES HOURS TO TRAIN only one model, not suitable for the f) kfolf scheme"
   ]
  },
  {
   "cell_type": "code",
   "execution_count": null,
   "metadata": {},
   "outputs": [],
   "source": [
    "from models import grid_search_tuning\n",
    "\n",
    "# Tune in GridSearch with CV\n",
    "estimator = RandomForestRegressor(n_estimators=n_estimators, n_jobs=4)\n",
    "param_grid={'bootstrap':[0.7, 0.8], 'max_features':[4, 6, 8], \n",
    "            'max_depth' : [None, 4, 6, 8, 10, 12]}\n",
    "best_params = grid_search_tuning(estimator, param_grid, X_train, y_train.clip(*target_range), \n",
    "                                 X_val, y_val.clip(*target_range))"
   ]
  },
  {
   "cell_type": "code",
   "execution_count": null,
   "metadata": {},
   "outputs": [],
   "source": [
    "feat_importances = pd.Series(rf_model.feature_importance(), index=X_val.columns)\n",
    "feat_importances = feat_importances.nlargest(20)\n",
    "ax = feat_importances.plot(kind='barh', color='green')\n",
    "p = plt.title('Feature importance RF')\n",
    "p = plt.gcf().set_size_inches(8.5, 8.5)\n",
    "p = plt.show()"
   ]
  },
  {
   "cell_type": "markdown",
   "metadata": {},
   "source": [
    "# KNN Regressor\n",
    "\n",
    "KNeighborsRegressor"
   ]
  },
  {
   "cell_type": "code",
   "execution_count": null,
   "metadata": {},
   "outputs": [],
   "source": [
    "def knnr_scoring(scoring_model, cols=None):\n",
    "    scoring('KNNR', scoring_model, target_range,\n",
    "            X_train, y_train, X_val, y_val, values=True, cols=cols)\n",
    "\n",
    "# Base params\n",
    "# n_neighbors=5, leaf_size=30 by default, but it takes too long to be trained\n",
    "knnr_params = {\n",
    "                 'n_jobs': 4,\n",
    "    \n",
    "                 'n_neighbors': 3,\n",
    "                 'leaf_size': 10,\n",
    "\n",
    "                 'metric': 'minkowski',\n",
    "                 'metric_params': None,\n",
    "                 'p': 2,\n",
    "\n",
    "                 'algorithm': 'auto',\n",
    "                 'weights': 'uniform'\n",
    "                }\n",
    "\n",
    "# Fit to train with base parameters\n",
    "t_start = time.time()\n",
    "knnr_model = KNeighborsRegressor()\n",
    "knnr_model = knnr_model.set_params(**knnr_params)\n",
    "knnr_model = knnr_model.fit(X_train.values, y_train.clip(*target_range))\n",
    "print(\"elapsed time: %.2f\" % (time.time() - t_start))"
   ]
  },
  {
   "cell_type": "code",
   "execution_count": null,
   "metadata": {},
   "outputs": [],
   "source": [
    "# Score\n",
    "knnr_scoring(knnr_model)"
   ]
  },
  {
   "cell_type": "markdown",
   "metadata": {},
   "source": [
    "TOO SLOW!!! UNABLE TO TRAIN"
   ]
  },
  {
   "cell_type": "markdown",
   "metadata": {},
   "source": [
    "# SVR\n",
    "Support vector machine regressor"
   ]
  },
  {
   "cell_type": "code",
   "execution_count": null,
   "metadata": {},
   "outputs": [
    {
     "name": "stdout",
     "output_type": "stream",
     "text": [
      "[LibLinear]"
     ]
    }
   ],
   "source": [
    "def svr_scoring(scoring_model, cols=None):\n",
    "    scoring('SVR', scoring_model, target_range,\n",
    "            X_train, y_train, X_val, y_val, values=True, cols=cols)\n",
    "\n",
    "# Default params\n",
    "max_iter = -1\n",
    "svr_params = {\n",
    "               'max_iter': max_iter, \n",
    "               'cache_size': 200,\n",
    "    \n",
    "               'C': 1.0, \n",
    "               'coef0': 0.0,\n",
    "               'degree': 3,\n",
    "               'epsilon': 0.0, \n",
    "               'gamma': 'auto', \n",
    "\n",
    "               'kernel': 'rbf',\n",
    "               'shrinking': True, \n",
    "               'tol': 0.0001, \n",
    "               'verbose': 2\n",
    "            }\n",
    "\n",
    "# Fit to train\n",
    "t_start = time.time()\n",
    "svr_model = SVR()\n",
    "svr_model = svr_model.set_params(**svr_params)\n",
    "svr_model = svr_model.fit(X_train.values, y_train.clip(*target_range))\n",
    "print(\"elapsed time: %.2f\" % (time.time() - t_start))"
   ]
  },
  {
   "cell_type": "code",
   "execution_count": null,
   "metadata": {},
   "outputs": [],
   "source": [
    "# Score\n",
    "svr_scoring(svr_model)"
   ]
  },
  {
   "cell_type": "markdown",
   "metadata": {},
   "source": [
    "TOO SLOW TRAINING!!!"
   ]
  },
  {
   "cell_type": "markdown",
   "metadata": {},
   "source": [
    "# Polynomial Regressor\n",
    "Fit higher order curves."
   ]
  },
  {
   "cell_type": "code",
   "execution_count": 10,
   "metadata": {},
   "outputs": [
    {
     "name": "stdout",
     "output_type": "stream",
     "text": [
      "2019-08-03 22:57:23.198236\n"
     ]
    },
    {
     "name": "stderr",
     "output_type": "stream",
     "text": [
      "\n",
      "KeyboardInterrupt\n",
      "\n"
     ]
    }
   ],
   "source": [
    "def pr_scoring(scoring_model, cols=None):\n",
    "    scoring('PR', scoring_model, target_range,\n",
    "            X_train, y_train, X_val, y_val, values=True, cols=cols)\n",
    "    \n",
    "# Default parameters\n",
    "pr_parameters = {'degree': 2, 'include_bias': True, 'interaction_only': False}\n",
    "\n",
    "# Fit to train with defaults\n",
    "print(datetime.datetime.now())\n",
    "t_start = time.time()\n",
    "pr_feat = PolynomialFeatures()\n",
    "pr_feat = pr_feat.set_params(**pr_parameters)\n",
    "pr_model = Pipeline([('poly', pr_feat),('linear', LinearRegression(fit_intercept=False))])\n",
    "pr_model = pr_model.fit(X_train.values, y_train.clip(*target_range))\n",
    "print(\"elapsed time: %.2f\" % (time.time() - t_start))"
   ]
  },
  {
   "cell_type": "code",
   "execution_count": null,
   "metadata": {},
   "outputs": [],
   "source": [
    "# Score\n",
    "pr_scoring(pr_model)"
   ]
  },
  {
   "cell_type": "markdown",
   "metadata": {},
   "source": [
    "TOO SLOW!!! UNABLE TO TRAIN, AND MEMORY FULL"
   ]
  },
  {
   "cell_type": "markdown",
   "metadata": {
    "collapsed": true
   },
   "source": [
    "# Future work\n",
    "\n",
    "Because of a lack of time and computation power I have left behind some aspects that could improve the solution:\n",
    "\n",
    "* XGBoost, CatBoost\n",
    "* More complex Neural Network elements for regression in timeseries (LSTM, GRU), or even better tuning of the naive approach I've done\n"
   ]
  },
  {
   "cell_type": "code",
   "execution_count": null,
   "metadata": {
    "collapsed": true
   },
   "outputs": [],
   "source": []
  }
 ],
 "metadata": {
  "kernelspec": {
   "display_name": "Python 3",
   "language": "python",
   "name": "python3"
  },
  "language_info": {
   "codemirror_mode": {
    "name": "ipython",
    "version": 3
   },
   "file_extension": ".py",
   "mimetype": "text/x-python",
   "name": "python",
   "nbconvert_exporter": "python",
   "pygments_lexer": "ipython3",
   "version": "3.6.7"
  }
 },
 "nbformat": 4,
 "nbformat_minor": 2
}
